{
  "metadata": {},
  "nbformat": 4,
  "nbformat_minor": 5,
  "cells": [
    {
      "cell_type": "aidi-dag-node",
      "metadata": {
        "name": "",
        "tags": [],
        "pullContextTime": "1746739348154",
        "createTime": "1746739348154",
        "updateTime": "1746739691710",
        "outputContextCreateTime": "1746739348372",
        "outputContextHash": -2137246025,
        "nodeHeight": 540,
        "nodeWidth": 800,
        "positionX": 1250,
        "positionY": 250
      },
      "id": "table-dag-node-1746739348154-1",
      "type": "table",
      "state": "COMPLETE",
      "nlInput": "",
      "nlInputHistory": [],
      "modelResponse": "",
      "children": [
        "bq-code-editor-dag-node-1746739373705-3"
      ],
      "groupId": "",
      "collapsedSubgraphId": "",
      "isMultiturnNodeType": false,
      "additional_properties": {
        "reference": {
          "projectId": "looker-studio-pro-452620",
          "datasetId": "final_views",
          "tableId": "dcm"
        },
        "title": "dcm",
        "isCollapsed": false,
        "preCollapsedNodeHeight": 0,
        "preCollapsedNodeWidth": 0
      }
    },
    {
      "cell_type": "aidi-dag-node",
      "metadata": {
        "name": "",
        "tags": [],
        "pullContextTime": "1746739373698",
        "createTime": "1746739373698",
        "updateTime": "1746811848304",
        "outputContextCreateTime": "1746811848304",
        "outputContextHash": -1048640484,
        "nodeHeight": 540,
        "nodeWidth": 800,
        "positionX": 2150,
        "positionY": 250
      },
      "id": "table-dag-node-1746739373698-2",
      "type": "table",
      "state": "COMPLETE",
      "nlInput": "",
      "nlInputHistory": [],
      "modelResponse": "",
      "children": [
        "bq-code-editor-dag-node-1746739373705-3"
      ],
      "groupId": "",
      "collapsedSubgraphId": "",
      "isMultiturnNodeType": false,
      "additional_properties": {
        "reference": {
          "projectId": "looker-studio-pro-452620",
          "datasetId": "final_views",
          "tableId": "prisma_view"
        },
        "title": "prisma_view",
        "isCollapsed": false,
        "preCollapsedNodeHeight": 0,
        "preCollapsedNodeWidth": 0
      }
    },
    {
      "cell_type": "aidi-dag-node",
      "metadata": {
        "name": "",
        "tags": [],
        "pullContextTime": "1746810526753",
        "createTime": "1746739373705",
        "generateTime": "1746739373733",
        "startRunTime": "1746811127781",
        "endRunTime": "1746811136151",
        "updateTime": "1746811849988",
        "outputContextCreateTime": "1746811849988",
        "outputContextHash": -1446566942,
        "nodeHeight": 720,
        "nodeWidth": 800,
        "positionX": 1849.2682926829268,
        "positionY": 1425.121951219512
      },
      "id": "bq-code-editor-dag-node-1746739373705-3",
      "type": "bq-code-editor",
      "state": "COMPLETE",
      "nlInput": "Join these data sources",
      "nlInputHistory": [
        "Join these data sources"
      ],
      "modelResponse": "SELECT\n  dcm.date,\n  dcm.campaign,\n  dcm.package_roadblock,\n  dcm.package_id,\n  dcm.placement_id,\n  dcm.impressions,\n  dcm.KEY,\n  dcm.ad,\n  dcm.click_rate,\n  dcm.clicks,\n  dcm.creative,\n  dcm.media_cost,\n  dcm.rich_media_video_completions,\n  dcm.rich_media_video_plays,\n  dcm.total_conversions,\n  dcm.p_cost_method,\n  dcm.p_package_friendly,\n  dcm.p_start_date,\n  dcm.p_end_date,\n  dcm.p_total_days,\n  dcm.p_pkg_daily_planned_cost,\n  dcm.p_pkg_total_planned_cost,\n  dcm.p_pkg_daily_planned_imps,\n  dcm.p_pkg_total_planned_imps,\n  dcm.p_channel_group,\n  dcm.p_advertiser_name,\n  dcm.flight_date_flag,\n  dcm.flight_status_flag,\n  dcm.rate_raw,\n  dcm.n_of_placements,\n  dcm.d_min_date,\n  dcm.d_max_date,\n  dcm.min_flight_date,\n  dcm.max_flight_date,\n  dcm.pkg_total_imps,\n  dcm.total_inflight_impressions,\n  dcm.pkg_daily_imps,\n  dcm.pkg_daily_imps_perc,\n  dcm.pkg_total_imps_perc,\n  dcm.pkg_inflight_imps_perc,\n  dcm.days_live,\n  dcm.prorated_planned_cost_pk,\n  dcm.prorated_planned_imps_pk,\n  dcm.cpm_overdelivery_flag,\n  dcm.daily_cpm,\n  dcm.daily_recalculated_cost,\n  dcm.daily_recalculated_cost_flag,\n  dcm.daily_recalculated_imps,\n  prisma_view.package_id,\n  prisma_view.package_type,\n  prisma_view.placement_type,\n  prisma_view.placement_name,\n  prisma_view.start_date,\n  prisma_view.end_date,\n  prisma_view.cost_method,\n  prisma_view.buy_type,\n  prisma_view.buy_category,\n  prisma_view.click_through_url,\n  prisma_view.advertiser_name,\n  prisma_view.campaign_name,\n  prisma_view.supplier_code,\n  prisma_view.supplier_name,\n  prisma_view.planned_actions,\n  prisma_view.planned_cost_pk,\n  prisma_view.planned_clicks,\n  prisma_view.advertiser_short_name,\n  prisma_view.planned_imps_pk,\n  prisma_view.planned_units,\n  prisma_view.unit_type,\n  prisma_view.dimension,\n  prisma_view.media_name,\n  prisma_view.product_code,\n  prisma_view.product_name,\n  prisma_view.external_entity_id,\n  prisma_view.provider_name,\n  prisma_view.package_group_name,\n  prisma_view.out_of_home_end_date,\n  prisma_view.placement_cap_cost,\n  prisma_view.served_by,\n  prisma_view.payable_rate,\n  prisma_view.channel_if_buy_category,\n  prisma_view.placement_type_site,\n  prisma_view.device_type,\n  prisma_view.audience_type,\n  prisma_view.audience,\n  prisma_view.initative,\n  prisma_view.media_type,\n  prisma_view.line_item_name,\n  prisma_view.ad_size,\n  prisma_view.funnel,\n  prisma_view.kpi,\n  prisma_view.geo_market,\n  prisma_view.ad_server_placement_id,\n  prisma_view.placement_number,\n  prisma_view.placement_comments,\n  prisma_view.days_in_out_of_home_end_date,\n  prisma_view.package_name,\n  prisma_view.placement_name2,\n  prisma_view.report_date,\n  prisma_view.script_run_date,\n  prisma_view.channel,\n  prisma_view.channel_raw,\n  prisma_view.channel_group,\n  prisma_view.campaign_friendly,\n  prisma_view.p_package_friendly,\n  prisma_view.n_of_placements,\n  prisma_view.total_days,\n  prisma_view.planned_daily_spend_pk,\n  prisma_view.planned_daily_impressions_pk\nFROM\n  `looker-studio-pro-452620`.`final_views`.`dcm` AS dcm\nINNER JOIN\n  `looker-studio-pro-452620`.`final_views`.`prisma_view` AS prisma_view\nON\n  dcm.package_id = prisma_view.package_id;",
      "children": [],
      "groupId": "",
      "collapsedSubgraphId": "",
      "isMultiturnNodeType": true,
      "additional_properties": {
        "content": "# prompt: Join these data sources\n\nSELECT\n  dcm.date,\n  dcm.campaign,\n  dcm.package_roadblock,\n  dcm.package_id,\n  dcm.placement_id,\n  dcm.impressions,\n  dcm.KEY,\n  dcm.ad,\n  dcm.click_rate,\n  dcm.clicks,\n  dcm.creative,\n  dcm.media_cost,\n  dcm.rich_media_video_completions,\n  dcm.rich_media_video_plays,\n  dcm.total_conversions,\n  dcm.p_cost_method,\n  dcm.p_package_friendly,\n  dcm.p_start_date,\n  dcm.p_end_date,\n  dcm.p_total_days,\n  dcm.p_pkg_daily_planned_cost,\n  dcm.p_pkg_total_planned_cost,\n  dcm.p_pkg_daily_planned_imps,\n  dcm.p_pkg_total_planned_imps,\n  dcm.p_channel_group,\n  dcm.p_advertiser_name,\n  dcm.flight_date_flag,\n  dcm.flight_status_flag,\n  dcm.rate_raw,\n  dcm.n_of_placements,\n  dcm.d_min_date,\n  dcm.d_max_date,\n  dcm.min_flight_date,\n  dcm.max_flight_date,\n  dcm.pkg_total_imps,\n  dcm.total_inflight_impressions,\n  dcm.pkg_daily_imps,\n  dcm.pkg_daily_imps_perc,\n  dcm.pkg_total_imps_perc,\n  dcm.pkg_inflight_imps_perc,\n  dcm.days_live,\n  dcm.prorated_planned_cost_pk,\n  dcm.prorated_planned_imps_pk,\n  dcm.cpm_overdelivery_flag,\n  dcm.daily_cpm,\n  dcm.daily_recalculated_cost,\n  dcm.daily_recalculated_cost_flag,\n  dcm.daily_recalculated_imps,\n  concat(dcm.placement_id, \" || \", dcm.creative) as utm_key,\n  utm.utm_source,\n  utm.placement_name,\n  --prisma\n    -- prisma_view.package_id,\n    -- prisma_view.package_type,\n    -- prisma_view.placement_type,\n     prisma_view.placement_name as prsm_placement_name,\n    -- prisma_view.start_date,\n    -- prisma_view.end_date,\n    -- prisma_view.cost_method,\n    -- prisma_view.buy_type,\n    -- prisma_view.buy_category,\n    -- prisma_view.click_through_url,\n    -- prisma_view.advertiser_name,\n    -- prisma_view.campaign_name,\n    -- prisma_view.supplier_code,\n    -- prisma_view.supplier_name,\n    -- prisma_view.planned_actions,\n    -- prisma_view.planned_cost_pk,\n    -- prisma_view.planned_clicks,\n    -- prisma_view.advertiser_short_name,\n    -- prisma_view.planned_imps_pk,\n    -- prisma_view.planned_units,\n    -- prisma_view.unit_type,\n    -- prisma_view.dimension,\n    -- prisma_view.media_name,\n    -- prisma_view.product_code,\n    -- prisma_view.product_name,\n    -- prisma_view.external_entity_id,\n    -- prisma_view.provider_name,\n    -- prisma_view.package_group_name,\n    -- prisma_view.out_of_home_end_date,\n    -- prisma_view.placement_cap_cost,\n    -- prisma_view.served_by,\n     prisma_view.payable_rate as prsm_payable_rate,\n    -- prisma_view.channel_if_buy_category,\n    -- prisma_view.placement_type_site,\n    -- prisma_view.device_type,\n    -- prisma_view.audience_type,\n    -- prisma_view.audience,\n    -- prisma_view.initative,\n    -- prisma_view.media_type,\n    -- prisma_view.line_item_name,\n    -- prisma_view.ad_size,\n    -- prisma_view.funnel,\n    -- prisma_view.kpi,\n    -- prisma_view.geo_market,\n    -- prisma_view.ad_server_placement_id,\n    -- prisma_view.placement_number,\n    -- prisma_view.placement_comments,\n    -- prisma_view.days_in_out_of_home_end_date,\n    -- prisma_view.package_name,\n    -- prisma_view.placement_name2,\n    -- prisma_view.report_date,\n    -- prisma_view.script_run_date,\n    -- prisma_view.channel,\n    -- prisma_view.channel_raw,\n    -- prisma_view.channel_group,\n    -- prisma_view.campaign_friendly,\n    -- prisma_view.p_package_friendly,\n    -- prisma_view.n_of_placements,\n    -- prisma_view.total_days,\n    -- prisma_view.planned_daily_spend_pk,\n    -- prisma_view.planned_daily_impressions_pk\n\nFROM\n  `looker-studio-pro-452620`.`final_views`.`dcm` AS dcm\nleft join looker-studio-pro-452620.final_views.utms_view as utm\non concat(dcm.placement_id, \" || \", dcm.creative) = utm.placement_creative\ninner JOIN\n  `looker-studio-pro-452620`.`final_views`.`prisma_view` AS prisma_view\nON\n  dcm.package_id = prisma_view.package_id;",
        "citationIndexes": [],
        "generateOnInit": false,
        "focusOnInit": false,
        "title": "dcm_prisma_utms Join",
        "collapsedSql": false,
        "isCollapsed": false,
        "preCollapsedNodeHeight": 0,
        "preCollapsedNodeWidth": 0,
        "focusNlInputOnInit": true,
        "context": {
          "tableContext": {
            "tableReferences": [
              {
                "projectId": "looker-studio-pro-452620",
                "datasetId": "final_views",
                "tableId": "dcm"
              },
              {
                "projectId": "looker-studio-pro-452620",
                "datasetId": "final_views",
                "tableId": "prisma_view"
              }
            ]
          }
        },
        "generationUuids": {
          "sqlGenUuid": "dataport-gen-session-708C472B-0AEF-400F-B1E8-2B7364AD21AE"
        },
        "staticResults": "{\"fields\":[{\"name\":\"date\",\"fullname\":\"date\",\"type\":\"DATE\",\"mode\":\"NULLABLE\",\"description\":\"\",\"fields\":[],\"hasPermission\":true,\"policyTags\":[],\"dataPolicies\":[],\"maxLength\":\"0\",\"precision\":\"0\",\"scale\":\"0\",\"timestampPrecision\":\"0\",\"roundingMode\":\"ROUNDING_MODE_UNSPECIFIED\",\"collation\":\"\",\"defaultValueExpression\":\"\",\"isMeasure\":false,\"rangeElementType\":{\"type\":\"\"},\"foreignTypeDefinition\":\"\",\"dataGovernanceTags\":[],\"identityColumnInfo\":{\"generatedMode\":\"GENERATED_MODE_UNSPECIFIED\",\"start\":\"\",\"increment\":\"\"},\"generatedColumn\":{\"generatedMode\":\"GENERATED_MODE_UNSPECIFIED\",\"identityColumnInfo\":{\"generatedMode\":\"GENERATED_MODE_UNSPECIFIED\",\"start\":\"\",\"increment\":\"\"},\"generatedExpressionInfo\":{\"generationExpression\":\"\",\"asynchronous\":false,\"stored\":false},\"definition\":\"definitionNotSet\"},\"streamDefaultWatermarkPolicy\":{\"watermarkDelay\":\"0s\"},\"isHidden\":false,\"isRepeated\":false},{\"name\":\"campaign\",\"fullname\":\"campaign\",\"type\":\"STRING\",\"mode\":\"NULLABLE\",\"description\":\"\",\"fields\":[],\"hasPermission\":true,\"policyTags\":[],\"dataPolicies\":[],\"maxLength\":\"0\",\"precision\":\"0\",\"scale\":\"0\",\"timestampPrecision\":\"0\",\"roundingMode\":\"ROUNDING_MODE_UNSPECIFIED\",\"collation\":\"\",\"defaultValueExpression\":\"\",\"isMeasure\":false,\"rangeElementType\":{\"type\":\"\"},\"foreignTypeDefinition\":\"\",\"dataGovernanceTags\":[],\"identityColumnInfo\":{\"generatedMode\":\"GENERATED_MODE_UNSPECIFIED\",\"start\":\"\",\"increment\":\"\"},\"generatedColumn\":{\"generatedMode\":\"GENERATED_MODE_UNSPECIFIED\",\"identityColumnInfo\":{\"generatedMode\":\"GENERATED_MODE_UNSPECIFIED\",\"start\":\"\",\"increment\":\"\"},\"generatedExpressionInfo\":{\"generationExpression\":\"\",\"asynchronous\":false,\"stored\":false},\"definition\":\"definitionNotSet\"},\"streamDefaultWatermarkPolicy\":{\"watermarkDelay\":\"0s\"},\"isHidden\":false,\"isRepeated\":false},{\"name\":\"package_roadblock\",\"fullname\":\"package_roadblock\",\"type\":\"STRING\",\"mode\":\"NULLABLE\",\"description\":\"\",\"fields\":[],\"hasPermission\":true,\"policyTags\":[],\"dataPolicies\":[],\"maxLength\":\"0\",\"precision\":\"0\",\"scale\":\"0\",\"timestampPrecision\":\"0\",\"roundingMode\":\"ROUNDING_MODE_UNSPECIFIED\",\"collation\":\"\",\"defaultValueExpression\":\"\",\"isMeasure\":false,\"rangeElementType\":{\"type\":\"\"},\"foreignTypeDefinition\":\"\",\"dataGovernanceTags\":[],\"identityColumnInfo\":{\"generatedMode\":\"GENERATED_MODE_UNSPECIFIED\",\"start\":\"\",\"increment\":\"\"},\"generatedColumn\":{\"generatedMode\":\"GENERATED_MODE_UNSPECIFIED\",\"identityColumnInfo\":{\"generatedMode\":\"GENERATED_MODE_UNSPECIFIED\",\"start\":\"\",\"increment\":\"\"},\"generatedExpressionInfo\":{\"generationExpression\":\"\",\"asynchronous\":false,\"stored\":false},\"definition\":\"definitionNotSet\"},\"streamDefaultWatermarkPolicy\":{\"watermarkDelay\":\"0s\"},\"isHidden\":false,\"isRepeated\":false},{\"name\":\"package_id\",\"fullname\":\"package_id\",\"type\":\"STRING\",\"mode\":\"NULLABLE\",\"description\":\"\",\"fields\":[],\"hasPermission\":true,\"policyTags\":[],\"dataPolicies\":[],\"maxLength\":\"0\",\"precision\":\"0\",\"scale\":\"0\",\"timestampPrecision\":\"0\",\"roundingMode\":\"ROUNDING_MODE_UNSPECIFIED\",\"collation\":\"\",\"defaultValueExpression\":\"\",\"isMeasure\":false,\"rangeElementType\":{\"type\":\"\"},\"foreignTypeDefinition\":\"\",\"dataGovernanceTags\":[],\"identityColumnInfo\":{\"generatedMode\":\"GENERATED_MODE_UNSPECIFIED\",\"start\":\"\",\"increment\":\"\"},\"generatedColumn\":{\"generatedMode\":\"GENERATED_MODE_UNSPECIFIED\",\"identityColumnInfo\":{\"generatedMode\":\"GENERATED_MODE_UNSPECIFIED\",\"start\":\"\",\"increment\":\"\"},\"generatedExpressionInfo\":{\"generationExpression\":\"\",\"asynchronous\":false,\"stored\":false},\"definition\":\"definitionNotSet\"},\"streamDefaultWatermarkPolicy\":{\"watermarkDelay\":\"0s\"},\"isHidden\":false,\"isRepeated\":false},{\"name\":\"placement_id\",\"fullname\":\"placement_id\",\"type\":\"STRING\",\"mode\":\"NULLABLE\",\"description\":\"\",\"fields\":[],\"hasPermission\":true,\"policyTags\":[],\"dataPolicies\":[],\"maxLength\":\"0\",\"precision\":\"0\",\"scale\":\"0\",\"timestampPrecision\":\"0\",\"roundingMode\":\"ROUNDING_MODE_UNSPECIFIED\",\"collation\":\"\",\"defaultValueExpression\":\"\",\"isMeasure\":false,\"rangeElementType\":{\"type\":\"\"},\"foreignTypeDefinition\":\"\",\"dataGovernanceTags\":[],\"identityColumnInfo\":{\"generatedMode\":\"GENERATED_MODE_UNSPECIFIED\",\"start\":\"\",\"increment\":\"\"},\"generatedColumn\":{\"generatedMode\":\"GENERATED_MODE_UNSPECIFIED\",\"identityColumnInfo\":{\"generatedMode\":\"GENERATED_MODE_UNSPECIFIED\",\"start\":\"\",\"increment\":\"\"},\"generatedExpressionInfo\":{\"generationExpression\":\"\",\"asynchronous\":false,\"stored\":false},\"definition\":\"definitionNotSet\"},\"streamDefaultWatermarkPolicy\":{\"watermarkDelay\":\"0s\"},\"isHidden\":false,\"isRepeated\":false},{\"name\":\"impressions\",\"fullname\":\"impressions\",\"type\":\"INTEGER\",\"mode\":\"NULLABLE\",\"description\":\"\",\"fields\":[],\"hasPermission\":true,\"policyTags\":[],\"dataPolicies\":[],\"maxLength\":\"0\",\"precision\":\"0\",\"scale\":\"0\",\"timestampPrecision\":\"0\",\"roundingMode\":\"ROUNDING_MODE_UNSPECIFIED\",\"collation\":\"\",\"defaultValueExpression\":\"\",\"isMeasure\":false,\"rangeElementType\":{\"type\":\"\"},\"foreignTypeDefinition\":\"\",\"dataGovernanceTags\":[],\"identityColumnInfo\":{\"generatedMode\":\"GENERATED_MODE_UNSPECIFIED\",\"start\":\"\",\"increment\":\"\"},\"generatedColumn\":{\"generatedMode\":\"GENERATED_MODE_UNSPECIFIED\",\"identityColumnInfo\":{\"generatedMode\":\"GENERATED_MODE_UNSPECIFIED\",\"start\":\"\",\"increment\":\"\"},\"generatedExpressionInfo\":{\"generationExpression\":\"\",\"asynchronous\":false,\"stored\":false},\"definition\":\"definitionNotSet\"},\"streamDefaultWatermarkPolicy\":{\"watermarkDelay\":\"0s\"},\"isHidden\":false,\"isRepeated\":false},{\"name\":\"KEY\",\"fullname\":\"KEY\",\"type\":\"STRING\",\"mode\":\"NULLABLE\",\"description\":\"\",\"fields\":[],\"hasPermission\":true,\"policyTags\":[],\"dataPolicies\":[],\"maxLength\":\"0\",\"precision\":\"0\",\"scale\":\"0\",\"timestampPrecision\":\"0\",\"roundingMode\":\"ROUNDING_MODE_UNSPECIFIED\",\"collation\":\"\",\"defaultValueExpression\":\"\",\"isMeasure\":false,\"rangeElementType\":{\"type\":\"\"},\"foreignTypeDefinition\":\"\",\"dataGovernanceTags\":[],\"identityColumnInfo\":{\"generatedMode\":\"GENERATED_MODE_UNSPECIFIED\",\"start\":\"\",\"increment\":\"\"},\"generatedColumn\":{\"generatedMode\":\"GENERATED_MODE_UNSPECIFIED\",\"identityColumnInfo\":{\"generatedMode\":\"GENERATED_MODE_UNSPECIFIED\",\"start\":\"\",\"increment\":\"\"},\"generatedExpressionInfo\":{\"generationExpression\":\"\",\"asynchronous\":false,\"stored\":false},\"definition\":\"definitionNotSet\"},\"streamDefaultWatermarkPolicy\":{\"watermarkDelay\":\"0s\"},\"isHidden\":false,\"isRepeated\":false},{\"name\":\"ad\",\"fullname\":\"ad\",\"type\":\"STRING\",\"mode\":\"NULLABLE\",\"description\":\"\",\"fields\":[],\"hasPermission\":true,\"policyTags\":[],\"dataPolicies\":[],\"maxLength\":\"0\",\"precision\":\"0\",\"scale\":\"0\",\"timestampPrecision\":\"0\",\"roundingMode\":\"ROUNDING_MODE_UNSPECIFIED\",\"collation\":\"\",\"defaultValueExpression\":\"\",\"isMeasure\":false,\"rangeElementType\":{\"type\":\"\"},\"foreignTypeDefinition\":\"\",\"dataGovernanceTags\":[],\"identityColumnInfo\":{\"generatedMode\":\"GENERATED_MODE_UNSPECIFIED\",\"start\":\"\",\"increment\":\"\"},\"generatedColumn\":{\"generatedMode\":\"GENERATED_MODE_UNSPECIFIED\",\"identityColumnInfo\":{\"generatedMode\":\"GENERATED_MODE_UNSPECIFIED\",\"start\":\"\",\"increment\":\"\"},\"generatedExpressionInfo\":{\"generationExpression\":\"\",\"asynchronous\":false,\"stored\":false},\"definition\":\"definitionNotSet\"},\"streamDefaultWatermarkPolicy\":{\"watermarkDelay\":\"0s\"},\"isHidden\":false,\"isRepeated\":false},{\"name\":\"click_rate\",\"fullname\":\"click_rate\",\"type\":\"FLOAT\",\"mode\":\"NULLABLE\",\"description\":\"\",\"fields\":[],\"hasPermission\":true,\"policyTags\":[],\"dataPolicies\":[],\"maxLength\":\"0\",\"precision\":\"0\",\"scale\":\"0\",\"timestampPrecision\":\"0\",\"roundingMode\":\"ROUNDING_MODE_UNSPECIFIED\",\"collation\":\"\",\"defaultValueExpression\":\"\",\"isMeasure\":false,\"rangeElementType\":{\"type\":\"\"},\"foreignTypeDefinition\":\"\",\"dataGovernanceTags\":[],\"identityColumnInfo\":{\"generatedMode\":\"GENERATED_MODE_UNSPECIFIED\",\"start\":\"\",\"increment\":\"\"},\"generatedColumn\":{\"generatedMode\":\"GENERATED_MODE_UNSPECIFIED\",\"identityColumnInfo\":{\"generatedMode\":\"GENERATED_MODE_UNSPECIFIED\",\"start\":\"\",\"increment\":\"\"},\"generatedExpressionInfo\":{\"generationExpression\":\"\",\"asynchronous\":false,\"stored\":false},\"definition\":\"definitionNotSet\"},\"streamDefaultWatermarkPolicy\":{\"watermarkDelay\":\"0s\"},\"isHidden\":false,\"isRepeated\":false},{\"name\":\"clicks\",\"fullname\":\"clicks\",\"type\":\"INTEGER\",\"mode\":\"NULLABLE\",\"description\":\"\",\"fields\":[],\"hasPermission\":true,\"policyTags\":[],\"dataPolicies\":[],\"maxLength\":\"0\",\"precision\":\"0\",\"scale\":\"0\",\"timestampPrecision\":\"0\",\"roundingMode\":\"ROUNDING_MODE_UNSPECIFIED\",\"collation\":\"\",\"defaultValueExpression\":\"\",\"isMeasure\":false,\"rangeElementType\":{\"type\":\"\"},\"foreignTypeDefinition\":\"\",\"dataGovernanceTags\":[],\"identityColumnInfo\":{\"generatedMode\":\"GENERATED_MODE_UNSPECIFIED\",\"start\":\"\",\"increment\":\"\"},\"generatedColumn\":{\"generatedMode\":\"GENERATED_MODE_UNSPECIFIED\",\"identityColumnInfo\":{\"generatedMode\":\"GENERATED_MODE_UNSPECIFIED\",\"start\":\"\",\"increment\":\"\"},\"generatedExpressionInfo\":{\"generationExpression\":\"\",\"asynchronous\":false,\"stored\":false},\"definition\":\"definitionNotSet\"},\"streamDefaultWatermarkPolicy\":{\"watermarkDelay\":\"0s\"},\"isHidden\":false,\"isRepeated\":false}],\"rows\":[{\"f\":[{\"v\":\"2024-02-08\"},{\"v\":\"MassMutualIMT2023\"},{\"v\":\"Package_MASS_MMSD_MassMutual2023IMT_Display_Email-email_ADVISO_ADVISORPERSPECTIVES_newsletter_aware_clks|P2CL8J5_NewsletterLeaderboardMMSD_IMG_PKG_NA|dvcTyp:all_cxt_Broad_geo:na_Flat_10000.00\"},{\"v\":\"P2CL8J5\"},{\"v\":\"P2CL8J4\"},{\"v\":\"2\"},{\"v\":\"2024-02-08P2CL8J5-NewsletterLeaderboardMMSD-P2CL8J4-PartnershipAwareness | PartnershipAwareness\"},{\"v\":\"P2CL8J5-NewsletterLeaderboardMMSD-P2CL8J4-PartnershipAwareness | PartnershipAwareness\"},{\"v\":\"0.0\"},{\"v\":\"0\"},{\"v\":\"PartnershipAwareness_1 x 1\"},{\"v\":\"0.0\"},{\"v\":\"0\"},{\"v\":\"0\"},{\"v\":\"0.0\"},{\"v\":\"Flat\"},{\"v\":\"ADVISO_P2CL8J5_230629|230711_2023IMT_NewsletterLeaderboardMMSD_Flat_pRate:10000_p$:10000\"},{\"v\":\"2023-06-29\"},{\"v\":\"2023-09-09\"},{\"v\":\"13\"},{\"v\":\"769.23\"},{\"v\":\"10000.0\"},{\"v\":\"0.0\"},{\"v\":\"0\"},{\"v\":\"display\"},{\"v\":\"MassMutual\"},{\"v\":\"1\"},{\"v\":\"ended\"},{\"v\":\"10000.00\"},{\"v\":\"1\"},{\"v\":\"2024-02-05\"},{\"v\":\"2024-12-31\"},{\"v\":null},{\"v\":null},{\"v\":\"146\"},{\"v\":\"0\"},{\"v\":\"2\"},{\"v\":\"1.0\"},{\"v\":\"0.0136986301369863\"},{\"v\":null},{\"v\":null},{\"v\":\"10000.0\"},{\"v\":\"0.0\"},{\"v\":\"0\"},{\"v\":\"384615.0\"},{\"v\":\"0.0\"},{\"v\":\"OUT_OF_FLIGHT\"},{\"v\":\"0\"},{\"v\":\"P2CL8J4 | PartnershipAwareness_1 x 1\"},{\"v\":\"gs_advisorperspectives\"},{\"v\":\"Child_MASS_MMSD_MassMutual2023IMT_Display_Email-email_ADVISO_ADVISORPERSPECTIVES_newsletter_aware_clks|P2CL8J4_NewsletterLeaderboardMMSD_IMG_PartnershipAwareness_1x1|dvcTyp:all_cxt_Broad_geo:na_1 x 1_Flat_10000.00\"},{\"v\":\"Package_MASS_MMSD_MassMutual2023IMT_Display_Email-email_ADVISO_ADVISORPERSPECTIVES_newsletter_aware_clks|P2CL8J5_NewsletterLeaderboardMMSD_IMG_PKG_NA|dvcTyp:all_cxt_Broad_geo:na_Flat_10000.00\"}]},{\"f\":[{\"v\":\"2024-03-05\"},{\"v\":\"MassMutualIMT2023\"},{\"v\":\"Package_MASS_WLPP_MassMutual2023IMT_Display_Standard-email_SMARTB_SMARTBRIEF_newsletter_aware_clks|P2CLDS8_ATFNAIFAWLPP_IMG_PKG_NA|dvcTyp:all_cxt_Broad_geo:na_Flat_6000.00\"},{\"v\":\"P2CLDS8\"},{\"v\":\"P2CLDS9\"},{\"v\":\"4\"},{\"v\":\"2024-03-05P2CLDS8-ATFNAIFAWLPP-P2CLDS9-Dependability | Dependability\"},{\"v\":\"P2CLDS8-ATFNAIFAWLPP-P2CLDS9-Dependability | Dependability\"},{\"v\":\"0.0\"},{\"v\":\"0\"},{\"v\":\"DependabilityN_1 x 1\"},{\"v\":\"0.0\"},{\"v\":\"0\"},{\"v\":\"0\"},{\"v\":\"0.0\"},{\"v\":\"Flat\"},{\"v\":\"SMARTB_P2CLDS8_230801|231215_2023IMT_ATFNAIFAWLPP_Flat_pRate:6000_p$:6000\"},{\"v\":\"2023-08-01\"},{\"v\":\"2024-02-13\"},{\"v\":\"137\"},{\"v\":\"43.8\"},{\"v\":\"6000.0\"},{\"v\":\"0.0\"},{\"v\":\"0\"},{\"v\":\"display\"},{\"v\":\"MassMutual\"},{\"v\":\"1\"},{\"v\":\"ended\"},{\"v\":\"6000.00\"},{\"v\":\"1\"},{\"v\":\"2024-02-01\"},{\"v\":\"2024-12-04\"},{\"v\":\"2024-02-01\"},{\"v\":\"2024-02-13\"},{\"v\":\"101\"},{\"v\":\"13\"},{\"v\":\"4\"},{\"v\":\"1.0\"},{\"v\":\"0.039603960396039604\"},{\"v\":\"0.30769230769230771\"},{\"v\":\"13\"},{\"v\":\"6000.0\"},{\"v\":\"0.0\"},{\"v\":\"0\"},{\"v\":\"10950.0\"},{\"v\":\"0.0\"},{\"v\":\"OUT_OF_FLIGHT\"},{\"v\":\"0\"},{\"v\":\"P2CLDS9 | DependabilityN_1 x 1\"},{\"v\":null},{\"v\":null},{\"v\":\"Package_MASS_WLPP_MassMutual2023IMT_Display_Standard-email_SMARTB_SMARTBRIEF_newsletter_aware_clks|P2CLDS8_ATFNAIFAWLPP_IMG_PKG_NA|dvcTyp:all_cxt_Broad_geo:na_Flat_6000.00\"}]},{\"f\":[{\"v\":\"2024-03-11\"},{\"v\":\"MassMutualIMT2023\"},{\"v\":\"Package_MASS_AMMD_MassMutual2023IMT_Display_Standard-email_SMARTB_SMARTBRIEF_newsletter_aware_clks|P2CLDVZ_ATFNAIFAAnnuities_IMG_PKG_NA|dvcTyp:all_cxt_Broad_geo:na_Flat_2400.00\"},{\"v\":\"P2CLDVZ\"},{\"v\":\"P2CLDW0\"},{\"v\":\"2\"},{\"v\":\"2024-03-11P2CLDVZ-ATFNAIFAAnnuities-P2CLDW0-StableVoyageOrig | StableVoyageOrig\"},{\"v\":\"P2CLDVZ-ATFNAIFAAnnuities-P2CLDW0-StableVoyageOrig | StableVoyageOrig\"},{\"v\":\"0.0\"},{\"v\":\"0\"},{\"v\":\"VoyagePortfolio_1 x 1\"},{\"v\":\"0.0\"},{\"v\":\"0\"},{\"v\":\"0\"},{\"v\":\"0.0\"},{\"v\":\"Flat\"},{\"v\":\"SMARTB_P2CLDVZ_230920|231011_2023IMT_ATFNAIFAAnnuities_Flat_pRate:2400_p$:2400\"},{\"v\":\"2023-09-20\"},{\"v\":\"2023-12-10\"},{\"v\":\"22\"},{\"v\":\"109.09\"},{\"v\":\"2400.0\"},{\"v\":\"0.0\"},{\"v\":\"0\"},{\"v\":\"display\"},{\"v\":\"MassMutual\"},{\"v\":\"1\"},{\"v\":\"ended\"},{\"v\":\"2400.00\"},{\"v\":\"1\"},{\"v\":\"2024-02-01\"},{\"v\":\"2024-11-18\"},{\"v\":null},{\"v\":null},{\"v\":\"39\"},{\"v\":\"0\"},{\"v\":\"2\"},{\"v\":\"1.0\"},{\"v\":\"0.05128205128205128\"},{\"v\":null},{\"v\":null},{\"v\":\"2400.0\"},{\"v\":\"0.0\"},{\"v\":\"0\"},{\"v\":\"54545.0\"},{\"v\":\"0.0\"},{\"v\":\"OUT_OF_FLIGHT\"},{\"v\":\"0\"},{\"v\":\"P2CLDW0 | VoyagePortfolio_1 x 1\"},{\"v\":null},{\"v\":null},{\"v\":\"Package_MASS_AMMD_MassMutual2023IMT_Display_Standard-email_SMARTB_SMARTBRIEF_newsletter_aware_clks|P2CLDVZ_ATFNAIFAAnnuities_IMG_PKG_NA|dvcTyp:all_cxt_Broad_geo:na_Flat_2400.00\"}]},{\"f\":[{\"v\":\"2024-02-19\"},{\"v\":\"MassMutualIMT2023\"},{\"v\":\"Package_MASS_MMSD_MassMutual2023IMT_Display_Standard-email_SMARTB_SMARTBRIEF_newsletter_aware_clks|P2CLDXF_ATFNAIFAMMSD_IMG_PKG_NA|dvcTyp:all_cxt_Broad_geo:na_Flat_2400.00\"},{\"v\":\"P2CLDXF\"},{\"v\":\"P2CLDXG\"},{\"v\":\"2\"},{\"v\":\"2024-02-19P2CLDXF-ATFNAIFAMMSD-P2CLDXG-AnnuityConsiderationImg | AnnuityConsiderationImg\"},{\"v\":\"P2CLDXF-ATFNAIFAMMSD-P2CLDXG-AnnuityConsiderationImg | AnnuityConsiderationImg\"},{\"v\":\"0.0\"},{\"v\":\"0\"},{\"v\":\"AnnuityConsiderationImg_1 x 1\"},{\"v\":\"0.0\"},{\"v\":\"0\"},{\"v\":\"0\"},{\"v\":\"0.0\"},{\"v\":\"Flat\"},{\"v\":\"SMARTB_P2CLDXF_230801|231215_2023IMT_ATFNAIFAMMSD_Flat_pRate:2400_p$:2400\"},{\"v\":\"2023-08-01\"},{\"v\":\"2024-02-13\"},{\"v\":\"137\"},{\"v\":\"17.52\"},{\"v\":\"2400.0\"},{\"v\":\"0.0\"},{\"v\":\"0\"},{\"v\":\"display\"},{\"v\":\"MassMutual\"},{\"v\":\"1\"},{\"v\":\"ended\"},{\"v\":\"2400.00\"},{\"v\":\"1\"},{\"v\":\"2024-02-03\"},{\"v\":\"2025-05-05\"},{\"v\":\"2024-02-03\"},{\"v\":\"2024-02-13\"},{\"v\":\"36\"},{\"v\":\"4\"},{\"v\":\"2\"},{\"v\":\"1.0\"},{\"v\":\"0.055555555555555552\"},{\"v\":\"0.5\"},{\"v\":\"11\"},{\"v\":\"2400.0\"},{\"v\":\"0.0\"},{\"v\":\"0\"},{\"v\":\"8760.0\"},{\"v\":\"0.0\"},{\"v\":\"OUT_OF_FLIGHT\"},{\"v\":\"0\"},{\"v\":\"P2CLDXG | AnnuityConsiderationImg_1 x 1\"},{\"v\":\"gs_smartbrief\"},{\"v\":\"Child_MASS_MMSD_MassMutual2023IMT_Display_Standard-email_SMARTB_SMARTBRIEF_newsletter_aware_clks|P2CLDXG_ATFNAIFAMMSD_IMG_AnnuityConsiderationImg_1x1|dvcTyp:all_cxt_Broad_geo:na_1 x 1_Flat_2400.00\"},{\"v\":\"Package_MASS_MMSD_MassMutual2023IMT_Display_Standard-email_SMARTB_SMARTBRIEF_newsletter_aware_clks|P2CLDXF_ATFNAIFAMMSD_IMG_PKG_NA|dvcTyp:all_cxt_Broad_geo:na_Flat_2400.00\"}]},{\"f\":[{\"v\":\"2025-03-31\"},{\"v\":\"MassMutualIMT2023\"},{\"v\":\"Package_MASS_MMSD_MassMutual2023IMT_Display_Standard-email_SMARTB_SMARTBRIEF_newsletter_aware_clks|P2CLF1L_ATFFSIMMSD_IMG_PKG_NA|dvcTyp:all_cxt_Broad_geo:na_Flat_5250.00\"},{\"v\":\"P2CLF1L\"},{\"v\":\"P2CLF1M\"},{\"v\":\"1\"},{\"v\":\"2025-03-31P2CLF1L-ATFFSIMMSD-P2CLF1M-AnnuityConsiderationImg | AnnuityConsiderationImg\"},{\"v\":\"P2CLF1L-ATFFSIMMSD-P2CLF1M-AnnuityConsiderationImg | AnnuityConsiderationImg\"},{\"v\":\"0.0\"},{\"v\":\"0\"},{\"v\":\"AnnuityConsiderationImg_1 x 1\"},{\"v\":\"0.0\"},{\"v\":\"0\"},{\"v\":\"0\"},{\"v\":\"0.0\"},{\"v\":\"Flat\"},{\"v\":\"SMARTB_P2CLF1L_230801|231215_2023IMT_ATFFSIMMSD_Flat_pRate:5250_p$:5250\"},{\"v\":\"2023-08-01\"},{\"v\":\"2024-02-13\"},{\"v\":\"137\"},{\"v\":\"38.32\"},{\"v\":\"5250.0\"},{\"v\":\"0.0\"},{\"v\":\"0\"},{\"v\":\"display\"},{\"v\":\"MassMutual\"},{\"v\":\"1\"},{\"v\":\"ended\"},{\"v\":\"5250.00\"},{\"v\":\"1\"},{\"v\":\"2024-01-30\"},{\"v\":\"2025-05-08\"},{\"v\":\"2024-01-30\"},{\"v\":\"2024-02-13\"},{\"v\":\"317\"},{\"v\":\"65\"},{\"v\":\"1\"},{\"v\":\"1.0\"},{\"v\":\"0.0031545741324921135\"},{\"v\":\"0.015384615384615385\"},{\"v\":\"15\"},{\"v\":\"5250.0\"},{\"v\":\"0.0\"},{\"v\":\"0\"},{\"v\":\"38320.0\"},{\"v\":\"0.0\"},{\"v\":\"OUT_OF_FLIGHT\"},{\"v\":\"0\"},{\"v\":\"P2CLF1M | AnnuityConsiderationImg_1 x 1\"},{\"v\":\"gs_smartbrief\"},{\"v\":\"Child_MASS_MMSD_MassMutual2023IMT_Display_Standard-email_SMARTB_SMARTBRIEF_newsletter_aware_clks|P2CLF1M_ATFFSIMMSD_IMG_AnnuityConsiderationImg_1x1|dvcTyp:all_cxt_Broad_geo:na_1 x 1_Flat_5250.00\"},{\"v\":\"Package_MASS_MMSD_MassMutual2023IMT_Display_Standard-email_SMARTB_SMARTBRIEF_newsletter_aware_clks|P2CLF1L_ATFFSIMMSD_IMG_PKG_NA|dvcTyp:all_cxt_Broad_geo:na_Flat_5250.00\"}]},{\"f\":[{\"v\":\"2024-02-19\"},{\"v\":\"MassMutualIMT2023\"},{\"v\":\"Package_MASS_WLPP_MassMutual2023IMT_Display_Standard-email_SMARTB_SMARTBRIEF_newsletter_aware_clks|P2CLF2P_ATFSifmaWLPP_IMG_PKG_NA|dvcTyp:all_cxt_Broad_geo:na_Flat_5000.00\"},{\"v\":\"P2CLF2P\"},{\"v\":\"P2CLF2N\"},{\"v\":\"1\"},{\"v\":\"2024-02-19P2CLF2P-ATFSifmaWLPP-P2CLF2N-Dependability | Dependability\"},{\"v\":\"P2CLF2P-ATFSifmaWLPP-P2CLF2N-Dependability | Dependability\"},{\"v\":\"0.0\"},{\"v\":\"0\"},{\"v\":\"DependabilityN_1 x 1\"},{\"v\":\"0.0\"},{\"v\":\"0\"},{\"v\":\"0\"},{\"v\":\"0.0\"},{\"v\":\"Flat\"},{\"v\":\"SMARTB_P2CLF2P_230801|231215_2023IMT_ATFSifmaWLPP_Flat_pRate:5000_p$:5000\"},{\"v\":\"2023-08-01\"},{\"v\":\"2024-02-13\"},{\"v\":\"137\"},{\"v\":\"36.5\"},{\"v\":\"5000.0\"},{\"v\":\"0.0\"},{\"v\":\"0\"},{\"v\":\"display\"},{\"v\":\"MassMutual\"},{\"v\":\"1\"},{\"v\":\"ended\"},{\"v\":\"5000.00\"},{\"v\":\"1\"},{\"v\":\"2024-01-30\"},{\"v\":\"2024-12-31\"},{\"v\":\"2024-01-30\"},{\"v\":\"2024-02-13\"},{\"v\":\"293\"},{\"v\":\"41\"},{\"v\":\"1\"},{\"v\":\"1.0\"},{\"v\":\"0.0034129692832764505\"},{\"v\":\"0.024390243902439025\"},{\"v\":\"15\"},{\"v\":\"5000.0\"},{\"v\":\"0.0\"},{\"v\":\"0\"},{\"v\":\"36500.0\"},{\"v\":\"0.0\"},{\"v\":\"OUT_OF_FLIGHT\"},{\"v\":\"0\"},{\"v\":\"P2CLF2N | DependabilityN_1 x 1\"},{\"v\":null},{\"v\":null},{\"v\":\"Package_MASS_WLPP_MassMutual2023IMT_Display_Standard-email_SMARTB_SMARTBRIEF_newsletter_aware_clks|P2CLF2P_ATFSifmaWLPP_IMG_PKG_NA|dvcTyp:all_cxt_Broad_geo:na_Flat_5000.00\"}]},{\"f\":[{\"v\":\"2024-05-23\"},{\"v\":\"MassMutualIMT2023\"},{\"v\":\"Package_MASS_WLPP_MassMutual2023IMT_Display_Standard-email_SMARTB_SMARTBRIEF_newsletter_aware_clks|P2CLF2P_ATFSifmaWLPP_IMG_PKG_NA|dvcTyp:all_cxt_Broad_geo:na_Flat_5000.00\"},{\"v\":\"P2CLF2P\"},{\"v\":\"P2CLF2N\"},{\"v\":\"2\"},{\"v\":\"2024-05-23P2CLF2P-ATFSifmaWLPP-P2CLF2N-Dependability | Dependability\"},{\"v\":\"P2CLF2P-ATFSifmaWLPP-P2CLF2N-Dependability | Dependability\"},{\"v\":\"0.0\"},{\"v\":\"0\"},{\"v\":\"DependabilityN_1 x 1\"},{\"v\":\"0.0\"},{\"v\":\"0\"},{\"v\":\"0\"},{\"v\":\"0.0\"},{\"v\":\"Flat\"},{\"v\":\"SMARTB_P2CLF2P_230801|231215_2023IMT_ATFSifmaWLPP_Flat_pRate:5000_p$:5000\"},{\"v\":\"2023-08-01\"},{\"v\":\"2024-02-13\"},{\"v\":\"137\"},{\"v\":\"36.5\"},{\"v\":\"5000.0\"},{\"v\":\"0.0\"},{\"v\":\"0\"},{\"v\":\"display\"},{\"v\":\"MassMutual\"},{\"v\":\"1\"},{\"v\":\"ended\"},{\"v\":\"5000.00\"},{\"v\":\"1\"},{\"v\":\"2024-01-30\"},{\"v\":\"2024-12-31\"},{\"v\":\"2024-01-30\"},{\"v\":\"2024-02-13\"},{\"v\":\"293\"},{\"v\":\"41\"},{\"v\":\"2\"},{\"v\":\"1.0\"},{\"v\":\"0.0068259385665529011\"},{\"v\":\"0.04878048780487805\"},{\"v\":\"15\"},{\"v\":\"5000.0\"},{\"v\":\"0.0\"},{\"v\":\"0\"},{\"v\":\"18250.0\"},{\"v\":\"0.0\"},{\"v\":\"OUT_OF_FLIGHT\"},{\"v\":\"0\"},{\"v\":\"P2CLF2N | DependabilityN_1 x 1\"},{\"v\":null},{\"v\":null},{\"v\":\"Package_MASS_WLPP_MassMutual2023IMT_Display_Standard-email_SMARTB_SMARTBRIEF_newsletter_aware_clks|P2CLF2P_ATFSifmaWLPP_IMG_PKG_NA|dvcTyp:all_cxt_Broad_geo:na_Flat_5000.00\"}]},{\"f\":[{\"v\":\"2024-05-30\"},{\"v\":\"MassMutualIMT2023\"},{\"v\":\"Package_MASS_WLPP_MassMutual2023IMT_Display_Standard-email_SMARTB_SMARTBRIEF_newsletter_aware_clks|P2CLF2P_ATFSifmaWLPP_IMG_PKG_NA|dvcTyp:all_cxt_Broad_geo:na_Flat_5000.00\"},{\"v\":\"P2CLF2P\"},{\"v\":\"P2CLF2N\"},{\"v\":\"1\"},{\"v\":\"2024-05-30P2CLF2P-ATFSifmaWLPP-P2CLF2N-Dependability | Dependability\"},{\"v\":\"P2CLF2P-ATFSifmaWLPP-P2CLF2N-Dependability | Dependability\"},{\"v\":\"0.0\"},{\"v\":\"0\"},{\"v\":\"DependabilityN_1 x 1\"},{\"v\":\"0.0\"},{\"v\":\"0\"},{\"v\":\"0\"},{\"v\":\"0.0\"},{\"v\":\"Flat\"},{\"v\":\"SMARTB_P2CLF2P_230801|231215_2023IMT_ATFSifmaWLPP_Flat_pRate:5000_p$:5000\"},{\"v\":\"2023-08-01\"},{\"v\":\"2024-02-13\"},{\"v\":\"137\"},{\"v\":\"36.5\"},{\"v\":\"5000.0\"},{\"v\":\"0.0\"},{\"v\":\"0\"},{\"v\":\"display\"},{\"v\":\"MassMutual\"},{\"v\":\"1\"},{\"v\":\"ended\"},{\"v\":\"5000.00\"},{\"v\":\"1\"},{\"v\":\"2024-01-30\"},{\"v\":\"2024-12-31\"},{\"v\":\"2024-01-30\"},{\"v\":\"2024-02-13\"},{\"v\":\"293\"},{\"v\":\"41\"},{\"v\":\"1\"},{\"v\":\"1.0\"},{\"v\":\"0.0034129692832764505\"},{\"v\":\"0.024390243902439025\"},{\"v\":\"15\"},{\"v\":\"5000.0\"},{\"v\":\"0.0\"},{\"v\":\"0\"},{\"v\":\"36500.0\"},{\"v\":\"0.0\"},{\"v\":\"OUT_OF_FLIGHT\"},{\"v\":\"0\"},{\"v\":\"P2CLF2N | DependabilityN_1 x 1\"},{\"v\":null},{\"v\":null},{\"v\":\"Package_MASS_WLPP_MassMutual2023IMT_Display_Standard-email_SMARTB_SMARTBRIEF_newsletter_aware_clks|P2CLF2P_ATFSifmaWLPP_IMG_PKG_NA|dvcTyp:all_cxt_Broad_geo:na_Flat_5000.00\"}]},{\"f\":[{\"v\":\"2024-04-11\"},{\"v\":\"MassMutualIMT2023\"},{\"v\":\"Package_MASS_MMSD_MassMutual2023IMT_Display_Standard-email_SMARTB_SMARTBRIEF_newsletter_aware_clks|P2CLF55_ATFFPAMMSD_IMG_PKG_NA|dvcTyp:all_cxt_Broad_geo:na_Flat_5850.00\"},{\"v\":\"P2CLF55\"},{\"v\":\"P2CLF56\"},{\"v\":\"3\"},{\"v\":\"2024-04-11P2CLF55-ATFFPAMMSD-P2CLF56-DIAwarenessN | DIAwarenessN\"},{\"v\":\"P2CLF55-ATFFPAMMSD-P2CLF56-DIAwarenessN | DIAwarenessN\"},{\"v\":\"0.0\"},{\"v\":\"0\"},{\"v\":\"DIAwarenessN_1 x 1\"},{\"v\":\"0.0\"},{\"v\":\"0\"},{\"v\":\"0\"},{\"v\":\"0.0\"},{\"v\":\"Flat\"},{\"v\":\"SMARTB_P2CLF55_230801|231215_2023IMT_ATFFPAMMSD_Flat_pRate:5850_p$:5850\"},{\"v\":\"2023-08-01\"},{\"v\":\"2024-02-13\"},{\"v\":\"137\"},{\"v\":\"42.7\"},{\"v\":\"5850.0\"},{\"v\":\"0.0\"},{\"v\":\"0\"},{\"v\":\"display\"},{\"v\":\"MassMutual\"},{\"v\":\"1\"},{\"v\":\"ended\"},{\"v\":\"5850.00\"},{\"v\":\"1\"},{\"v\":\"2024-01-30\"},{\"v\":\"2025-04-11\"},{\"v\":\"2024-01-30\"},{\"v\":\"2024-02-13\"},{\"v\":\"236\"},{\"v\":\"45\"},{\"v\":\"3\"},{\"v\":\"1.0\"},{\"v\":\"0.012711864406779662\"},{\"v\":\"0.066666666666666666\"},{\"v\":\"15\"},{\"v\":\"5850.0\"},{\"v\":\"0.0\"},{\"v\":\"0\"},{\"v\":\"14233.333333333334\"},{\"v\":\"0.0\"},{\"v\":\"OUT_OF_FLIGHT\"},{\"v\":\"0\"},{\"v\":\"P2CLF56 | DIAwarenessN_1 x 1\"},{\"v\":\"gs_smartbrief\"},{\"v\":\"Child_MASS_MMSD_MassMutual2023IMT_Display_Standard-email_SMARTB_SMARTBRIEF_newsletter_aware_clks|P2CLF56_ATFFPAMMSD_IMG_DIAwarenessN_1x1|dvcTyp:all_cxt_Broad_geo:na_1 x 1_Flat_5850.00\"},{\"v\":\"Package_MASS_MMSD_MassMutual2023IMT_Display_Standard-email_SMARTB_SMARTBRIEF_newsletter_aware_clks|P2CLF55_ATFFPAMMSD_IMG_PKG_NA|dvcTyp:all_cxt_Broad_geo:na_Flat_5850.00\"}]},{\"f\":[{\"v\":\"2024-02-23\"},{\"v\":\"MassMutualIMT2023\"},{\"v\":\"Package_MASS_MMSD_MassMutual2023IMT_Display_Standard-email_SMARTB_SMARTBRIEF_newsletter_aware_clks|P2CLF6Q_ATFIRIMMSD_IMG_PKG_NA|dvcTyp:all_cxt_Broad_geo:na_Flat_5250.00\"},{\"v\":\"P2CLF6Q\"},{\"v\":\"P2CLF6P\"},{\"v\":\"1\"},{\"v\":\"2024-02-23P2CLF6Q-ATFIRIMMSD-P2CLF6P-AnnuityConsiderationImg | AnnuityConsiderationImg\"},{\"v\":\"P2CLF6Q-ATFIRIMMSD-P2CLF6P-AnnuityConsiderationImg | AnnuityConsiderationImg\"},{\"v\":\"0.0\"},{\"v\":\"0\"},{\"v\":\"AnnuityConsiderationImg_1 x 1\"},{\"v\":\"0.0\"},{\"v\":\"0\"},{\"v\":\"0\"},{\"v\":\"0.0\"},{\"v\":\"Flat\"},{\"v\":\"SMARTB_P2CLF6Q_230801|231215_2023IMT_ATFIRIMMSD_Flat_pRate:5250_p$:5250\"},{\"v\":\"2023-08-01\"},{\"v\":\"2024-02-13\"},{\"v\":\"137\"},{\"v\":\"38.32\"},{\"v\":\"5250.0\"},{\"v\":\"0.0\"},{\"v\":\"0\"},{\"v\":\"display\"},{\"v\":\"MassMutual\"},{\"v\":\"1\"},{\"v\":\"ended\"},{\"v\":\"5250.00\"},{\"v\":\"1\"},{\"v\":\"2024-01-30\"},{\"v\":\"2025-05-07\"},{\"v\":\"2024-01-30\"},{\"v\":\"2024-02-13\"},{\"v\":\"299\"},{\"v\":\"62\"},{\"v\":\"1\"},{\"v\":\"1.0\"},{\"v\":\"0.0033444816053511705\"},{\"v\":\"0.016129032258064516\"},{\"v\":\"15\"},{\"v\":\"5250.0\"},{\"v\":\"0.0\"},{\"v\":\"0\"},{\"v\":\"38320.0\"},{\"v\":\"0.0\"},{\"v\":\"OUT_OF_FLIGHT\"},{\"v\":\"0\"},{\"v\":\"P2CLF6P | AnnuityConsiderationImg_1 x 1\"},{\"v\":\"gs_smartbrief\"},{\"v\":\"Child_MASS_MMSD_MassMutual2023IMT_Display_Standard-email_SMARTB_SMARTBRIEF_newsletter_aware_clks|P2CLF6P_ATFIRIMMSD_IMG_AnnuityConsiderationImg_1x1|dvcTyp:all_cxt_Broad_geo:na_1 x 1_Flat_5250.00\"},{\"v\":\"Package_MASS_MMSD_MassMutual2023IMT_Display_Standard-email_SMARTB_SMARTBRIEF_newsletter_aware_clks|P2CLF6Q_ATFIRIMMSD_IMG_PKG_NA|dvcTyp:all_cxt_Broad_geo:na_Flat_5250.00\"}]}]}",
        "hasStartedMultiturnSession": true,
        "resultsView": {
          "jobReference": {
            "projectId": "looker-studio-pro-452620",
            "jobId": "bquxjob_56d9f6dd_196b60e89e5",
            "location": "US"
          },
          "destinationTable": {
            "projectId": "looker-studio-pro-452620",
            "datasetId": "_bd9df8445e419809648f541b13160572fb3564f1",
            "tableId": "anon67ffc5b7_e4d4_4d0c_a1e5_c222743923a1",
            "projectIdAlternative": [],
            "datasetIdAlternative": [],
            "tableIdAlternative": []
          }
        }
      }
    },
    {
      "cell_type": "aidi-dag-node",
      "metadata": {
        "name": "",
        "tags": [],
        "pullContextTime": "1746739678868",
        "createTime": "1746739678868",
        "updateTime": "1746811848307",
        "outputContextCreateTime": "1746811848307",
        "outputContextHash": 796296038,
        "nodeHeight": 540,
        "nodeWidth": 800,
        "positionX": 1674.7386363636363,
        "positionY": 495.14772727272725
      },
      "id": "table-dag-node-1746739678868-4",
      "type": "table",
      "state": "COMPLETE",
      "nlInput": "",
      "nlInputHistory": [],
      "modelResponse": "",
      "children": [],
      "groupId": "",
      "collapsedSubgraphId": "",
      "isMultiturnNodeType": false,
      "additional_properties": {
        "reference": {
          "projectId": "looker-studio-pro-452620",
          "datasetId": "final_views",
          "tableId": "utms_view"
        },
        "title": "utms_view",
        "isCollapsed": false,
        "preCollapsedNodeHeight": 0,
        "preCollapsedNodeWidth": 0
      }
    }
  ],
  "groups": []
}