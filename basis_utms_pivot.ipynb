{
  "cells": [
    {
      "cell_type": "markdown",
      "id": "93a365f4",
      "metadata": {
        "id": "93a365f4"
      },
      "source": [
        "# pivot_utms"
      ]
    },
    {
      "cell_type": "code",
      "source": [
        "install.packages(\"janitor\")\n",
        "install.packages(\"bigrquery\")\n",
        "install.packages(\"DBI\")"
      ],
      "metadata": {
        "colab": {
          "base_uri": "https://localhost:8080/"
        },
        "id": "oi3tU-3lf20q",
        "executionInfo": {
          "status": "ok",
          "timestamp": 1750093081204,
          "user_tz": 240,
          "elapsed": 145833,
          "user": {
            "displayName": "",
            "userId": ""
          }
        },
        "outputId": "0bd54585-d5a0-41bf-e82a-e2497698d787"
      },
      "id": "oi3tU-3lf20q",
      "execution_count": 4,
      "outputs": [
        {
          "output_type": "stream",
          "name": "stderr",
          "text": [
            "Installing package into ‘/usr/local/lib/R/site-library’\n",
            "(as ‘lib’ is unspecified)\n",
            "\n",
            "also installing the dependency ‘snakecase’\n",
            "\n",
            "\n",
            "Installing package into ‘/usr/local/lib/R/site-library’\n",
            "(as ‘lib’ is unspecified)\n",
            "\n",
            "also installing the dependencies ‘clock’, ‘rapidjsonr’\n",
            "\n",
            "\n",
            "Installing package into ‘/usr/local/lib/R/site-library’\n",
            "(as ‘lib’ is unspecified)\n",
            "\n"
          ]
        }
      ]
    },
    {
      "cell_type": "code",
      "source": [
        "library(readxl)\n",
        "library(dplyr)\n",
        "library(tidyr)\n",
        "library(bigrquery)\n",
        "library(janitor)\n",
        "library(stringr)\n",
        "library(DBI)\n",
        "\n",
        "con <- dbConnect(\n",
        "  bigrquery::bigquery(),\n",
        "  project = \"looker-studio-pro-452620\",\n",
        "  dataset = \"20250327_data_model\",\n",
        "  billing = \"looker-studio-pro-452620\")\n",
        "\n",
        "df <- dbGetQuery(\n",
        "  con,\n",
        "  #\"SELECT * FROM basis_utms_raw_25Q1_v2\"\n",
        "  )\n",
        "colnames(df)"
      ],
      "metadata": {
        "colab": {
          "base_uri": "https://localhost:8080/",
          "height": 642
        },
        "id": "KljinxIemegH",
        "executionInfo": {
          "status": "ok",
          "timestamp": 1750094950000,
          "user_tz": 240,
          "elapsed": 2209,
          "user": {
            "displayName": "",
            "userId": ""
          }
        },
        "outputId": "25462714-94ad-4f92-9ad5-2189253696f5"
      },
      "id": "KljinxIemegH",
      "execution_count": 16,
      "outputs": [
        {
          "output_type": "display_data",
          "data": {
            "text/html": [
              "<style>\n",
              ".list-inline {list-style: none; margin:0; padding: 0}\n",
              ".list-inline>li {display: inline-block}\n",
              ".list-inline>li:not(:last-child)::after {content: \"\\00b7\"; padding: 0 .5ex}\n",
              "</style>\n",
              "<ol class=list-inline><li>'creative_number_12_3p_or_1p_tag'</li><li>'creative_number_12_video_amp_tag'</li><li>'creative_number_12_disqo_tag'</li><li>'creative_number_12_asset_link'</li><li>'rotation_number_12'</li><li>'creative_number_11_edo_tag'</li><li>'rotation_number_11'</li><li>'creative_number_5_disqo_tag'</li><li>'creative_number_10_3p_or_1p_tag'</li><li>'creative_number_10_video_amp_tag'</li><li>'creative_number_11_asset_link'</li><li>'creative_number_10_asset_link'</li><li>'rotation_number_10'</li><li>'creative_url_number_8'</li><li>'creative_url_number_10'</li><li>'creative_number_9_disqo_tag'</li><li>'creative_name_number_9'</li><li>'creative_3_number_video_amp_tag'</li><li>'creative_number_8_video_amp_tag'</li><li>'creative_number_8_disqo_tag'</li><li>'rotation_number_2'</li><li>'creative_number_8_edo_tag'</li><li>'creative_number_8_asset_link'</li><li>'creative_number_7_edo_tag'</li><li>'rotation_number_8'</li><li>'creative_number_10_disqo_tag'</li><li>'creative_name_number_8'</li><li>'creative_number_7_disqo_tag'</li><li>'rotation_number_7'</li><li>'creative_url_number_7'</li><li>'creative_name_number_7'</li><li>'rotation_number_9'</li><li>'creative_number_6_asset_link'</li><li>'creative_url_number_6'</li><li>'creative_name_number_6'</li><li>'creative_number_11_disqo_tag'</li><li>'tag_placement'</li><li>'creative_number_5_video_amp_tag'</li><li>'creative_number_1_video_amp_tag'</li><li>'creative_url_number_4'</li><li>'rotation_number_5'</li><li>'creative_name_number_11'</li><li>'creative_number_8_3p_or_1p_tag'</li><li>'start_date'</li><li>'creative_url_number_5'</li><li>'creative_number_7_video_amp_tag'</li><li>'creative_number_4_3p_or_1p_tag'</li><li>'creative_name_number_12'</li><li>'creative_number_11_video_amp_tag'</li><li>'creative_number_1_3p_or_1p_tag'</li><li>'creative_name_number_2'</li><li>'creative_number_4_edo_tag'</li><li>'creative_number_12_edo_tag'</li><li>'creative_number_10_edo_tag'</li><li>'creative_number_2_disqo_tag'</li><li>'rotation_number_6'</li><li>'rotation_number_4'</li><li>'creative_url_number_2'</li><li>'creative_name_number_5'</li><li>'creative_number_7_3p_or_1p_tag'</li><li>'creative_name_number_4'</li><li>'creative_3_number_3p_or_1p_tag'</li><li>'creative_number_6_disqo_tag'</li><li>'creative_number_1_edo_tag'</li><li>'creative_number_7_asset_link'</li><li>'creative_number_4_disqo_tag'</li><li>'creative_3_number_disqo_tag'</li><li>'line_item'</li><li>'creative_number_9_asset_link'</li><li>'creative_3_number_edo_tag'</li><li>'rotation_3_number'</li><li>'creative_number_2_edo_tag'</li><li>'creative_url_number_12'</li><li>'size'</li><li>'creative_number_9_edo_tag'</li><li>'creative_number_6_video_amp_tag'</li><li>'creative_url_3_number'</li><li>'end_date'</li><li>'creative_name_number_10'</li><li>'creative_number_6_edo_tag'</li><li>'rotation_number_1'</li><li>'creative_number_2_video_amp_tag'</li><li>'creative_number_9_3p_or_1p_tag'</li><li>'creative_number_1_disqo_tag'</li><li>'creative_number_5_3p_or_1p_tag'</li><li>'creative_number_1_asset_link'</li><li>'creative_number_11_3p_or_1p_tag'</li><li>'creative_name_number_3'</li><li>'creative_name_number_1'</li><li>'creative_url_number_1'</li><li>'creative_number_5_asset_link'</li><li>'creative_number_9_video_amp_tag'</li><li>'creative_number_4_video_amp_tag'</li><li>'creative_3_number_asset_link'</li><li>'formats'</li><li>'creative_number_2_3p_or_1p_tag'</li><li>'creative_number_2_asset_link'</li><li>'creative_number_6_3p_or_1p_tag'</li><li>'creative_number_4_asset_link'</li><li>'creative_url_number_9'</li><li>'creative_number_5_edo_tag'</li><li>'creative_url_number_11'</li><li>'property'</li></ol>\n"
            ],
            "text/markdown": "1. 'creative_number_12_3p_or_1p_tag'\n2. 'creative_number_12_video_amp_tag'\n3. 'creative_number_12_disqo_tag'\n4. 'creative_number_12_asset_link'\n5. 'rotation_number_12'\n6. 'creative_number_11_edo_tag'\n7. 'rotation_number_11'\n8. 'creative_number_5_disqo_tag'\n9. 'creative_number_10_3p_or_1p_tag'\n10. 'creative_number_10_video_amp_tag'\n11. 'creative_number_11_asset_link'\n12. 'creative_number_10_asset_link'\n13. 'rotation_number_10'\n14. 'creative_url_number_8'\n15. 'creative_url_number_10'\n16. 'creative_number_9_disqo_tag'\n17. 'creative_name_number_9'\n18. 'creative_3_number_video_amp_tag'\n19. 'creative_number_8_video_amp_tag'\n20. 'creative_number_8_disqo_tag'\n21. 'rotation_number_2'\n22. 'creative_number_8_edo_tag'\n23. 'creative_number_8_asset_link'\n24. 'creative_number_7_edo_tag'\n25. 'rotation_number_8'\n26. 'creative_number_10_disqo_tag'\n27. 'creative_name_number_8'\n28. 'creative_number_7_disqo_tag'\n29. 'rotation_number_7'\n30. 'creative_url_number_7'\n31. 'creative_name_number_7'\n32. 'rotation_number_9'\n33. 'creative_number_6_asset_link'\n34. 'creative_url_number_6'\n35. 'creative_name_number_6'\n36. 'creative_number_11_disqo_tag'\n37. 'tag_placement'\n38. 'creative_number_5_video_amp_tag'\n39. 'creative_number_1_video_amp_tag'\n40. 'creative_url_number_4'\n41. 'rotation_number_5'\n42. 'creative_name_number_11'\n43. 'creative_number_8_3p_or_1p_tag'\n44. 'start_date'\n45. 'creative_url_number_5'\n46. 'creative_number_7_video_amp_tag'\n47. 'creative_number_4_3p_or_1p_tag'\n48. 'creative_name_number_12'\n49. 'creative_number_11_video_amp_tag'\n50. 'creative_number_1_3p_or_1p_tag'\n51. 'creative_name_number_2'\n52. 'creative_number_4_edo_tag'\n53. 'creative_number_12_edo_tag'\n54. 'creative_number_10_edo_tag'\n55. 'creative_number_2_disqo_tag'\n56. 'rotation_number_6'\n57. 'rotation_number_4'\n58. 'creative_url_number_2'\n59. 'creative_name_number_5'\n60. 'creative_number_7_3p_or_1p_tag'\n61. 'creative_name_number_4'\n62. 'creative_3_number_3p_or_1p_tag'\n63. 'creative_number_6_disqo_tag'\n64. 'creative_number_1_edo_tag'\n65. 'creative_number_7_asset_link'\n66. 'creative_number_4_disqo_tag'\n67. 'creative_3_number_disqo_tag'\n68. 'line_item'\n69. 'creative_number_9_asset_link'\n70. 'creative_3_number_edo_tag'\n71. 'rotation_3_number'\n72. 'creative_number_2_edo_tag'\n73. 'creative_url_number_12'\n74. 'size'\n75. 'creative_number_9_edo_tag'\n76. 'creative_number_6_video_amp_tag'\n77. 'creative_url_3_number'\n78. 'end_date'\n79. 'creative_name_number_10'\n80. 'creative_number_6_edo_tag'\n81. 'rotation_number_1'\n82. 'creative_number_2_video_amp_tag'\n83. 'creative_number_9_3p_or_1p_tag'\n84. 'creative_number_1_disqo_tag'\n85. 'creative_number_5_3p_or_1p_tag'\n86. 'creative_number_1_asset_link'\n87. 'creative_number_11_3p_or_1p_tag'\n88. 'creative_name_number_3'\n89. 'creative_name_number_1'\n90. 'creative_url_number_1'\n91. 'creative_number_5_asset_link'\n92. 'creative_number_9_video_amp_tag'\n93. 'creative_number_4_video_amp_tag'\n94. 'creative_3_number_asset_link'\n95. 'formats'\n96. 'creative_number_2_3p_or_1p_tag'\n97. 'creative_number_2_asset_link'\n98. 'creative_number_6_3p_or_1p_tag'\n99. 'creative_number_4_asset_link'\n100. 'creative_url_number_9'\n101. 'creative_number_5_edo_tag'\n102. 'creative_url_number_11'\n103. 'property'\n\n\n",
            "text/latex": "\\begin{enumerate}\n\\item 'creative\\_number\\_12\\_3p\\_or\\_1p\\_tag'\n\\item 'creative\\_number\\_12\\_video\\_amp\\_tag'\n\\item 'creative\\_number\\_12\\_disqo\\_tag'\n\\item 'creative\\_number\\_12\\_asset\\_link'\n\\item 'rotation\\_number\\_12'\n\\item 'creative\\_number\\_11\\_edo\\_tag'\n\\item 'rotation\\_number\\_11'\n\\item 'creative\\_number\\_5\\_disqo\\_tag'\n\\item 'creative\\_number\\_10\\_3p\\_or\\_1p\\_tag'\n\\item 'creative\\_number\\_10\\_video\\_amp\\_tag'\n\\item 'creative\\_number\\_11\\_asset\\_link'\n\\item 'creative\\_number\\_10\\_asset\\_link'\n\\item 'rotation\\_number\\_10'\n\\item 'creative\\_url\\_number\\_8'\n\\item 'creative\\_url\\_number\\_10'\n\\item 'creative\\_number\\_9\\_disqo\\_tag'\n\\item 'creative\\_name\\_number\\_9'\n\\item 'creative\\_3\\_number\\_video\\_amp\\_tag'\n\\item 'creative\\_number\\_8\\_video\\_amp\\_tag'\n\\item 'creative\\_number\\_8\\_disqo\\_tag'\n\\item 'rotation\\_number\\_2'\n\\item 'creative\\_number\\_8\\_edo\\_tag'\n\\item 'creative\\_number\\_8\\_asset\\_link'\n\\item 'creative\\_number\\_7\\_edo\\_tag'\n\\item 'rotation\\_number\\_8'\n\\item 'creative\\_number\\_10\\_disqo\\_tag'\n\\item 'creative\\_name\\_number\\_8'\n\\item 'creative\\_number\\_7\\_disqo\\_tag'\n\\item 'rotation\\_number\\_7'\n\\item 'creative\\_url\\_number\\_7'\n\\item 'creative\\_name\\_number\\_7'\n\\item 'rotation\\_number\\_9'\n\\item 'creative\\_number\\_6\\_asset\\_link'\n\\item 'creative\\_url\\_number\\_6'\n\\item 'creative\\_name\\_number\\_6'\n\\item 'creative\\_number\\_11\\_disqo\\_tag'\n\\item 'tag\\_placement'\n\\item 'creative\\_number\\_5\\_video\\_amp\\_tag'\n\\item 'creative\\_number\\_1\\_video\\_amp\\_tag'\n\\item 'creative\\_url\\_number\\_4'\n\\item 'rotation\\_number\\_5'\n\\item 'creative\\_name\\_number\\_11'\n\\item 'creative\\_number\\_8\\_3p\\_or\\_1p\\_tag'\n\\item 'start\\_date'\n\\item 'creative\\_url\\_number\\_5'\n\\item 'creative\\_number\\_7\\_video\\_amp\\_tag'\n\\item 'creative\\_number\\_4\\_3p\\_or\\_1p\\_tag'\n\\item 'creative\\_name\\_number\\_12'\n\\item 'creative\\_number\\_11\\_video\\_amp\\_tag'\n\\item 'creative\\_number\\_1\\_3p\\_or\\_1p\\_tag'\n\\item 'creative\\_name\\_number\\_2'\n\\item 'creative\\_number\\_4\\_edo\\_tag'\n\\item 'creative\\_number\\_12\\_edo\\_tag'\n\\item 'creative\\_number\\_10\\_edo\\_tag'\n\\item 'creative\\_number\\_2\\_disqo\\_tag'\n\\item 'rotation\\_number\\_6'\n\\item 'rotation\\_number\\_4'\n\\item 'creative\\_url\\_number\\_2'\n\\item 'creative\\_name\\_number\\_5'\n\\item 'creative\\_number\\_7\\_3p\\_or\\_1p\\_tag'\n\\item 'creative\\_name\\_number\\_4'\n\\item 'creative\\_3\\_number\\_3p\\_or\\_1p\\_tag'\n\\item 'creative\\_number\\_6\\_disqo\\_tag'\n\\item 'creative\\_number\\_1\\_edo\\_tag'\n\\item 'creative\\_number\\_7\\_asset\\_link'\n\\item 'creative\\_number\\_4\\_disqo\\_tag'\n\\item 'creative\\_3\\_number\\_disqo\\_tag'\n\\item 'line\\_item'\n\\item 'creative\\_number\\_9\\_asset\\_link'\n\\item 'creative\\_3\\_number\\_edo\\_tag'\n\\item 'rotation\\_3\\_number'\n\\item 'creative\\_number\\_2\\_edo\\_tag'\n\\item 'creative\\_url\\_number\\_12'\n\\item 'size'\n\\item 'creative\\_number\\_9\\_edo\\_tag'\n\\item 'creative\\_number\\_6\\_video\\_amp\\_tag'\n\\item 'creative\\_url\\_3\\_number'\n\\item 'end\\_date'\n\\item 'creative\\_name\\_number\\_10'\n\\item 'creative\\_number\\_6\\_edo\\_tag'\n\\item 'rotation\\_number\\_1'\n\\item 'creative\\_number\\_2\\_video\\_amp\\_tag'\n\\item 'creative\\_number\\_9\\_3p\\_or\\_1p\\_tag'\n\\item 'creative\\_number\\_1\\_disqo\\_tag'\n\\item 'creative\\_number\\_5\\_3p\\_or\\_1p\\_tag'\n\\item 'creative\\_number\\_1\\_asset\\_link'\n\\item 'creative\\_number\\_11\\_3p\\_or\\_1p\\_tag'\n\\item 'creative\\_name\\_number\\_3'\n\\item 'creative\\_name\\_number\\_1'\n\\item 'creative\\_url\\_number\\_1'\n\\item 'creative\\_number\\_5\\_asset\\_link'\n\\item 'creative\\_number\\_9\\_video\\_amp\\_tag'\n\\item 'creative\\_number\\_4\\_video\\_amp\\_tag'\n\\item 'creative\\_3\\_number\\_asset\\_link'\n\\item 'formats'\n\\item 'creative\\_number\\_2\\_3p\\_or\\_1p\\_tag'\n\\item 'creative\\_number\\_2\\_asset\\_link'\n\\item 'creative\\_number\\_6\\_3p\\_or\\_1p\\_tag'\n\\item 'creative\\_number\\_4\\_asset\\_link'\n\\item 'creative\\_url\\_number\\_9'\n\\item 'creative\\_number\\_5\\_edo\\_tag'\n\\item 'creative\\_url\\_number\\_11'\n\\item 'property'\n\\end{enumerate}\n",
            "text/plain": [
              "  [1] \"creative_number_12_3p_or_1p_tag\"  \"creative_number_12_video_amp_tag\"\n",
              "  [3] \"creative_number_12_disqo_tag\"     \"creative_number_12_asset_link\"   \n",
              "  [5] \"rotation_number_12\"               \"creative_number_11_edo_tag\"      \n",
              "  [7] \"rotation_number_11\"               \"creative_number_5_disqo_tag\"     \n",
              "  [9] \"creative_number_10_3p_or_1p_tag\"  \"creative_number_10_video_amp_tag\"\n",
              " [11] \"creative_number_11_asset_link\"    \"creative_number_10_asset_link\"   \n",
              " [13] \"rotation_number_10\"               \"creative_url_number_8\"           \n",
              " [15] \"creative_url_number_10\"           \"creative_number_9_disqo_tag\"     \n",
              " [17] \"creative_name_number_9\"           \"creative_3_number_video_amp_tag\" \n",
              " [19] \"creative_number_8_video_amp_tag\"  \"creative_number_8_disqo_tag\"     \n",
              " [21] \"rotation_number_2\"                \"creative_number_8_edo_tag\"       \n",
              " [23] \"creative_number_8_asset_link\"     \"creative_number_7_edo_tag\"       \n",
              " [25] \"rotation_number_8\"                \"creative_number_10_disqo_tag\"    \n",
              " [27] \"creative_name_number_8\"           \"creative_number_7_disqo_tag\"     \n",
              " [29] \"rotation_number_7\"                \"creative_url_number_7\"           \n",
              " [31] \"creative_name_number_7\"           \"rotation_number_9\"               \n",
              " [33] \"creative_number_6_asset_link\"     \"creative_url_number_6\"           \n",
              " [35] \"creative_name_number_6\"           \"creative_number_11_disqo_tag\"    \n",
              " [37] \"tag_placement\"                    \"creative_number_5_video_amp_tag\" \n",
              " [39] \"creative_number_1_video_amp_tag\"  \"creative_url_number_4\"           \n",
              " [41] \"rotation_number_5\"                \"creative_name_number_11\"         \n",
              " [43] \"creative_number_8_3p_or_1p_tag\"   \"start_date\"                      \n",
              " [45] \"creative_url_number_5\"            \"creative_number_7_video_amp_tag\" \n",
              " [47] \"creative_number_4_3p_or_1p_tag\"   \"creative_name_number_12\"         \n",
              " [49] \"creative_number_11_video_amp_tag\" \"creative_number_1_3p_or_1p_tag\"  \n",
              " [51] \"creative_name_number_2\"           \"creative_number_4_edo_tag\"       \n",
              " [53] \"creative_number_12_edo_tag\"       \"creative_number_10_edo_tag\"      \n",
              " [55] \"creative_number_2_disqo_tag\"      \"rotation_number_6\"               \n",
              " [57] \"rotation_number_4\"                \"creative_url_number_2\"           \n",
              " [59] \"creative_name_number_5\"           \"creative_number_7_3p_or_1p_tag\"  \n",
              " [61] \"creative_name_number_4\"           \"creative_3_number_3p_or_1p_tag\"  \n",
              " [63] \"creative_number_6_disqo_tag\"      \"creative_number_1_edo_tag\"       \n",
              " [65] \"creative_number_7_asset_link\"     \"creative_number_4_disqo_tag\"     \n",
              " [67] \"creative_3_number_disqo_tag\"      \"line_item\"                       \n",
              " [69] \"creative_number_9_asset_link\"     \"creative_3_number_edo_tag\"       \n",
              " [71] \"rotation_3_number\"                \"creative_number_2_edo_tag\"       \n",
              " [73] \"creative_url_number_12\"           \"size\"                            \n",
              " [75] \"creative_number_9_edo_tag\"        \"creative_number_6_video_amp_tag\" \n",
              " [77] \"creative_url_3_number\"            \"end_date\"                        \n",
              " [79] \"creative_name_number_10\"          \"creative_number_6_edo_tag\"       \n",
              " [81] \"rotation_number_1\"                \"creative_number_2_video_amp_tag\" \n",
              " [83] \"creative_number_9_3p_or_1p_tag\"   \"creative_number_1_disqo_tag\"     \n",
              " [85] \"creative_number_5_3p_or_1p_tag\"   \"creative_number_1_asset_link\"    \n",
              " [87] \"creative_number_11_3p_or_1p_tag\"  \"creative_name_number_3\"          \n",
              " [89] \"creative_name_number_1\"           \"creative_url_number_1\"           \n",
              " [91] \"creative_number_5_asset_link\"     \"creative_number_9_video_amp_tag\" \n",
              " [93] \"creative_number_4_video_amp_tag\"  \"creative_3_number_asset_link\"    \n",
              " [95] \"formats\"                          \"creative_number_2_3p_or_1p_tag\"  \n",
              " [97] \"creative_number_2_asset_link\"     \"creative_number_6_3p_or_1p_tag\"  \n",
              " [99] \"creative_number_4_asset_link\"     \"creative_url_number_9\"           \n",
              "[101] \"creative_number_5_edo_tag\"        \"creative_url_number_11\"          \n",
              "[103] \"property\"                        "
            ]
          },
          "metadata": {}
        }
      ]
    },
    {
      "cell_type": "code",
      "source": [],
      "metadata": {
        "id": "_2CEkd9D2gE6"
      },
      "id": "_2CEkd9D2gE6",
      "execution_count": null,
      "outputs": []
    },
    {
      "cell_type": "code",
      "source": [
        "# Make all creative columns follow creative_<number>_<attribute>\n",
        "names_test <- str_remove(str_replace(str_replace(names(df),\"creative_\",\"\"),\"number_\",\"\"),\"\\\\d*\")\n",
        "names_prefix <- gsub(\"__\",\"_\",paste0(\"creative_\",str_extract(names(df),\"-?\\\\d*\\\\.?\\\\d+\"),\"_\", names_test))\n",
        "names(df) <- names_prefix\n",
        "colnames(df)"
      ],
      "metadata": {
        "colab": {
          "base_uri": "https://localhost:8080/",
          "height": 503
        },
        "id": "zaZOjLihr9Lw",
        "executionInfo": {
          "status": "ok",
          "timestamp": 1750095209602,
          "user_tz": 240,
          "elapsed": 150,
          "user": {
            "displayName": "",
            "userId": ""
          }
        },
        "outputId": "e662c042-7337-45f4-cea0-0f882b4966e3"
      },
      "id": "zaZOjLihr9Lw",
      "execution_count": 20,
      "outputs": [
        {
          "output_type": "display_data",
          "data": {
            "text/html": [
              "<style>\n",
              ".list-inline {list-style: none; margin:0; padding: 0}\n",
              ".list-inline>li {display: inline-block}\n",
              ".list-inline>li:not(:last-child)::after {content: \"\\00b7\"; padding: 0 .5ex}\n",
              "</style>\n",
              "<ol class=list-inline><li>'creative_12_3p_or_1p_tag'</li><li>'creative_12_video_amp_tag'</li><li>'creative_12_disqo_tag'</li><li>'creative_12_asset_link'</li><li>'creative_12_rotation_12'</li><li>'creative_11_edo_tag'</li><li>'creative_11_rotation_11'</li><li>'creative_5_disqo_tag'</li><li>'creative_10_3p_or_1p_tag'</li><li>'creative_10_video_amp_tag'</li><li>'creative_11_asset_link'</li><li>'creative_10_asset_link'</li><li>'creative_10_rotation_10'</li><li>'creative_8_url_8'</li><li>'creative_10_url_10'</li><li>'creative_9_disqo_tag'</li><li>'creative_9_name_9'</li><li>'creative_3_video_amp_tag'</li><li>'creative_8_video_amp_tag'</li><li>'creative_8_disqo_tag'</li><li>'creative_2_rotation_2'</li><li>'creative_8_edo_tag'</li><li>'creative_8_asset_link'</li><li>'creative_7_edo_tag'</li><li>'creative_8_rotation_8'</li><li>'creative_10_disqo_tag'</li><li>'creative_8_name_8'</li><li>'creative_7_disqo_tag'</li><li>'creative_7_rotation_7'</li><li>'creative_7_url_7'</li><li>'creative_7_name_7'</li><li>'creative_9_rotation_9'</li><li>'creative_6_asset_link'</li><li>'creative_6_url_6'</li><li>'creative_6_name_6'</li><li>'creative_11_disqo_tag'</li><li>'creative_NA_tag_placement'</li><li>'creative_5_video_amp_tag'</li><li>'creative_1_video_amp_tag'</li><li>'creative_4_url_4'</li><li>'creative_5_rotation_5'</li><li>'creative_11_name_11'</li><li>'creative_8_3p_or_1p_tag'</li><li>'creative_NA_start_date'</li><li>'creative_5_url_5'</li><li>'creative_7_video_amp_tag'</li><li>'creative_4_3p_or_1p_tag'</li><li>'creative_12_name_12'</li><li>'creative_11_video_amp_tag'</li><li>'creative_1_3p_or_1p_tag'</li><li>'creative_2_name_2'</li><li>'creative_4_edo_tag'</li><li>'creative_12_edo_tag'</li><li>'creative_10_edo_tag'</li><li>'creative_2_disqo_tag'</li><li>'creative_6_rotation_6'</li><li>'creative_4_rotation_4'</li><li>'creative_2_url_2'</li><li>'creative_5_name_5'</li><li>'creative_7_3p_or_1p_tag'</li><li>'creative_4_name_4'</li><li>'creative_3_3p_or_1p_tag'</li><li>'creative_6_disqo_tag'</li><li>'creative_1_edo_tag'</li><li>'creative_7_asset_link'</li><li>'creative_4_disqo_tag'</li><li>'creative_3_disqo_tag'</li><li>'creative_NA_line_item'</li><li>'creative_9_asset_link'</li><li>'creative_3_edo_tag'</li><li>'creative_3_rotation_3_number'</li><li>'creative_2_edo_tag'</li><li>'creative_12_url_12'</li><li>'creative_NA_size'</li><li>'creative_9_edo_tag'</li><li>'creative_6_video_amp_tag'</li><li>'creative_3_url_3_number'</li><li>'creative_NA_end_date'</li><li>'creative_10_name_10'</li><li>'creative_6_edo_tag'</li><li>'creative_1_rotation_1'</li><li>'creative_2_video_amp_tag'</li><li>'creative_9_3p_or_1p_tag'</li><li>'creative_1_disqo_tag'</li><li>'creative_5_3p_or_1p_tag'</li><li>'creative_1_asset_link'</li><li>'creative_11_3p_or_1p_tag'</li><li>'creative_3_name_3'</li><li>'creative_1_name_1'</li><li>'creative_1_url_1'</li><li>'creative_5_asset_link'</li><li>'creative_9_video_amp_tag'</li><li>'creative_4_video_amp_tag'</li><li>'creative_3_asset_link'</li><li>'creative_NA_formats'</li><li>'creative_2_3p_or_1p_tag'</li><li>'creative_2_asset_link'</li><li>'creative_6_3p_or_1p_tag'</li><li>'creative_4_asset_link'</li><li>'creative_9_url_9'</li><li>'creative_5_edo_tag'</li><li>'creative_11_url_11'</li><li>'creative_NA_property'</li></ol>\n"
            ],
            "text/markdown": "1. 'creative_12_3p_or_1p_tag'\n2. 'creative_12_video_amp_tag'\n3. 'creative_12_disqo_tag'\n4. 'creative_12_asset_link'\n5. 'creative_12_rotation_12'\n6. 'creative_11_edo_tag'\n7. 'creative_11_rotation_11'\n8. 'creative_5_disqo_tag'\n9. 'creative_10_3p_or_1p_tag'\n10. 'creative_10_video_amp_tag'\n11. 'creative_11_asset_link'\n12. 'creative_10_asset_link'\n13. 'creative_10_rotation_10'\n14. 'creative_8_url_8'\n15. 'creative_10_url_10'\n16. 'creative_9_disqo_tag'\n17. 'creative_9_name_9'\n18. 'creative_3_video_amp_tag'\n19. 'creative_8_video_amp_tag'\n20. 'creative_8_disqo_tag'\n21. 'creative_2_rotation_2'\n22. 'creative_8_edo_tag'\n23. 'creative_8_asset_link'\n24. 'creative_7_edo_tag'\n25. 'creative_8_rotation_8'\n26. 'creative_10_disqo_tag'\n27. 'creative_8_name_8'\n28. 'creative_7_disqo_tag'\n29. 'creative_7_rotation_7'\n30. 'creative_7_url_7'\n31. 'creative_7_name_7'\n32. 'creative_9_rotation_9'\n33. 'creative_6_asset_link'\n34. 'creative_6_url_6'\n35. 'creative_6_name_6'\n36. 'creative_11_disqo_tag'\n37. 'creative_NA_tag_placement'\n38. 'creative_5_video_amp_tag'\n39. 'creative_1_video_amp_tag'\n40. 'creative_4_url_4'\n41. 'creative_5_rotation_5'\n42. 'creative_11_name_11'\n43. 'creative_8_3p_or_1p_tag'\n44. 'creative_NA_start_date'\n45. 'creative_5_url_5'\n46. 'creative_7_video_amp_tag'\n47. 'creative_4_3p_or_1p_tag'\n48. 'creative_12_name_12'\n49. 'creative_11_video_amp_tag'\n50. 'creative_1_3p_or_1p_tag'\n51. 'creative_2_name_2'\n52. 'creative_4_edo_tag'\n53. 'creative_12_edo_tag'\n54. 'creative_10_edo_tag'\n55. 'creative_2_disqo_tag'\n56. 'creative_6_rotation_6'\n57. 'creative_4_rotation_4'\n58. 'creative_2_url_2'\n59. 'creative_5_name_5'\n60. 'creative_7_3p_or_1p_tag'\n61. 'creative_4_name_4'\n62. 'creative_3_3p_or_1p_tag'\n63. 'creative_6_disqo_tag'\n64. 'creative_1_edo_tag'\n65. 'creative_7_asset_link'\n66. 'creative_4_disqo_tag'\n67. 'creative_3_disqo_tag'\n68. 'creative_NA_line_item'\n69. 'creative_9_asset_link'\n70. 'creative_3_edo_tag'\n71. 'creative_3_rotation_3_number'\n72. 'creative_2_edo_tag'\n73. 'creative_12_url_12'\n74. 'creative_NA_size'\n75. 'creative_9_edo_tag'\n76. 'creative_6_video_amp_tag'\n77. 'creative_3_url_3_number'\n78. 'creative_NA_end_date'\n79. 'creative_10_name_10'\n80. 'creative_6_edo_tag'\n81. 'creative_1_rotation_1'\n82. 'creative_2_video_amp_tag'\n83. 'creative_9_3p_or_1p_tag'\n84. 'creative_1_disqo_tag'\n85. 'creative_5_3p_or_1p_tag'\n86. 'creative_1_asset_link'\n87. 'creative_11_3p_or_1p_tag'\n88. 'creative_3_name_3'\n89. 'creative_1_name_1'\n90. 'creative_1_url_1'\n91. 'creative_5_asset_link'\n92. 'creative_9_video_amp_tag'\n93. 'creative_4_video_amp_tag'\n94. 'creative_3_asset_link'\n95. 'creative_NA_formats'\n96. 'creative_2_3p_or_1p_tag'\n97. 'creative_2_asset_link'\n98. 'creative_6_3p_or_1p_tag'\n99. 'creative_4_asset_link'\n100. 'creative_9_url_9'\n101. 'creative_5_edo_tag'\n102. 'creative_11_url_11'\n103. 'creative_NA_property'\n\n\n",
            "text/latex": "\\begin{enumerate*}\n\\item 'creative\\_12\\_3p\\_or\\_1p\\_tag'\n\\item 'creative\\_12\\_video\\_amp\\_tag'\n\\item 'creative\\_12\\_disqo\\_tag'\n\\item 'creative\\_12\\_asset\\_link'\n\\item 'creative\\_12\\_rotation\\_12'\n\\item 'creative\\_11\\_edo\\_tag'\n\\item 'creative\\_11\\_rotation\\_11'\n\\item 'creative\\_5\\_disqo\\_tag'\n\\item 'creative\\_10\\_3p\\_or\\_1p\\_tag'\n\\item 'creative\\_10\\_video\\_amp\\_tag'\n\\item 'creative\\_11\\_asset\\_link'\n\\item 'creative\\_10\\_asset\\_link'\n\\item 'creative\\_10\\_rotation\\_10'\n\\item 'creative\\_8\\_url\\_8'\n\\item 'creative\\_10\\_url\\_10'\n\\item 'creative\\_9\\_disqo\\_tag'\n\\item 'creative\\_9\\_name\\_9'\n\\item 'creative\\_3\\_video\\_amp\\_tag'\n\\item 'creative\\_8\\_video\\_amp\\_tag'\n\\item 'creative\\_8\\_disqo\\_tag'\n\\item 'creative\\_2\\_rotation\\_2'\n\\item 'creative\\_8\\_edo\\_tag'\n\\item 'creative\\_8\\_asset\\_link'\n\\item 'creative\\_7\\_edo\\_tag'\n\\item 'creative\\_8\\_rotation\\_8'\n\\item 'creative\\_10\\_disqo\\_tag'\n\\item 'creative\\_8\\_name\\_8'\n\\item 'creative\\_7\\_disqo\\_tag'\n\\item 'creative\\_7\\_rotation\\_7'\n\\item 'creative\\_7\\_url\\_7'\n\\item 'creative\\_7\\_name\\_7'\n\\item 'creative\\_9\\_rotation\\_9'\n\\item 'creative\\_6\\_asset\\_link'\n\\item 'creative\\_6\\_url\\_6'\n\\item 'creative\\_6\\_name\\_6'\n\\item 'creative\\_11\\_disqo\\_tag'\n\\item 'creative\\_NA\\_tag\\_placement'\n\\item 'creative\\_5\\_video\\_amp\\_tag'\n\\item 'creative\\_1\\_video\\_amp\\_tag'\n\\item 'creative\\_4\\_url\\_4'\n\\item 'creative\\_5\\_rotation\\_5'\n\\item 'creative\\_11\\_name\\_11'\n\\item 'creative\\_8\\_3p\\_or\\_1p\\_tag'\n\\item 'creative\\_NA\\_start\\_date'\n\\item 'creative\\_5\\_url\\_5'\n\\item 'creative\\_7\\_video\\_amp\\_tag'\n\\item 'creative\\_4\\_3p\\_or\\_1p\\_tag'\n\\item 'creative\\_12\\_name\\_12'\n\\item 'creative\\_11\\_video\\_amp\\_tag'\n\\item 'creative\\_1\\_3p\\_or\\_1p\\_tag'\n\\item 'creative\\_2\\_name\\_2'\n\\item 'creative\\_4\\_edo\\_tag'\n\\item 'creative\\_12\\_edo\\_tag'\n\\item 'creative\\_10\\_edo\\_tag'\n\\item 'creative\\_2\\_disqo\\_tag'\n\\item 'creative\\_6\\_rotation\\_6'\n\\item 'creative\\_4\\_rotation\\_4'\n\\item 'creative\\_2\\_url\\_2'\n\\item 'creative\\_5\\_name\\_5'\n\\item 'creative\\_7\\_3p\\_or\\_1p\\_tag'\n\\item 'creative\\_4\\_name\\_4'\n\\item 'creative\\_3\\_3p\\_or\\_1p\\_tag'\n\\item 'creative\\_6\\_disqo\\_tag'\n\\item 'creative\\_1\\_edo\\_tag'\n\\item 'creative\\_7\\_asset\\_link'\n\\item 'creative\\_4\\_disqo\\_tag'\n\\item 'creative\\_3\\_disqo\\_tag'\n\\item 'creative\\_NA\\_line\\_item'\n\\item 'creative\\_9\\_asset\\_link'\n\\item 'creative\\_3\\_edo\\_tag'\n\\item 'creative\\_3\\_rotation\\_3\\_number'\n\\item 'creative\\_2\\_edo\\_tag'\n\\item 'creative\\_12\\_url\\_12'\n\\item 'creative\\_NA\\_size'\n\\item 'creative\\_9\\_edo\\_tag'\n\\item 'creative\\_6\\_video\\_amp\\_tag'\n\\item 'creative\\_3\\_url\\_3\\_number'\n\\item 'creative\\_NA\\_end\\_date'\n\\item 'creative\\_10\\_name\\_10'\n\\item 'creative\\_6\\_edo\\_tag'\n\\item 'creative\\_1\\_rotation\\_1'\n\\item 'creative\\_2\\_video\\_amp\\_tag'\n\\item 'creative\\_9\\_3p\\_or\\_1p\\_tag'\n\\item 'creative\\_1\\_disqo\\_tag'\n\\item 'creative\\_5\\_3p\\_or\\_1p\\_tag'\n\\item 'creative\\_1\\_asset\\_link'\n\\item 'creative\\_11\\_3p\\_or\\_1p\\_tag'\n\\item 'creative\\_3\\_name\\_3'\n\\item 'creative\\_1\\_name\\_1'\n\\item 'creative\\_1\\_url\\_1'\n\\item 'creative\\_5\\_asset\\_link'\n\\item 'creative\\_9\\_video\\_amp\\_tag'\n\\item 'creative\\_4\\_video\\_amp\\_tag'\n\\item 'creative\\_3\\_asset\\_link'\n\\item 'creative\\_NA\\_formats'\n\\item 'creative\\_2\\_3p\\_or\\_1p\\_tag'\n\\item 'creative\\_2\\_asset\\_link'\n\\item 'creative\\_6\\_3p\\_or\\_1p\\_tag'\n\\item 'creative\\_4\\_asset\\_link'\n\\item 'creative\\_9\\_url\\_9'\n\\item 'creative\\_5\\_edo\\_tag'\n\\item 'creative\\_11\\_url\\_11'\n\\item 'creative\\_NA\\_property'\n\\end{enumerate*}\n",
            "text/plain": [
              "  [1] \"creative_12_3p_or_1p_tag\"     \"creative_12_video_amp_tag\"   \n",
              "  [3] \"creative_12_disqo_tag\"        \"creative_12_asset_link\"      \n",
              "  [5] \"creative_12_rotation_12\"      \"creative_11_edo_tag\"         \n",
              "  [7] \"creative_11_rotation_11\"      \"creative_5_disqo_tag\"        \n",
              "  [9] \"creative_10_3p_or_1p_tag\"     \"creative_10_video_amp_tag\"   \n",
              " [11] \"creative_11_asset_link\"       \"creative_10_asset_link\"      \n",
              " [13] \"creative_10_rotation_10\"      \"creative_8_url_8\"            \n",
              " [15] \"creative_10_url_10\"           \"creative_9_disqo_tag\"        \n",
              " [17] \"creative_9_name_9\"            \"creative_3_video_amp_tag\"    \n",
              " [19] \"creative_8_video_amp_tag\"     \"creative_8_disqo_tag\"        \n",
              " [21] \"creative_2_rotation_2\"        \"creative_8_edo_tag\"          \n",
              " [23] \"creative_8_asset_link\"        \"creative_7_edo_tag\"          \n",
              " [25] \"creative_8_rotation_8\"        \"creative_10_disqo_tag\"       \n",
              " [27] \"creative_8_name_8\"            \"creative_7_disqo_tag\"        \n",
              " [29] \"creative_7_rotation_7\"        \"creative_7_url_7\"            \n",
              " [31] \"creative_7_name_7\"            \"creative_9_rotation_9\"       \n",
              " [33] \"creative_6_asset_link\"        \"creative_6_url_6\"            \n",
              " [35] \"creative_6_name_6\"            \"creative_11_disqo_tag\"       \n",
              " [37] \"creative_NA_tag_placement\"    \"creative_5_video_amp_tag\"    \n",
              " [39] \"creative_1_video_amp_tag\"     \"creative_4_url_4\"            \n",
              " [41] \"creative_5_rotation_5\"        \"creative_11_name_11\"         \n",
              " [43] \"creative_8_3p_or_1p_tag\"      \"creative_NA_start_date\"      \n",
              " [45] \"creative_5_url_5\"             \"creative_7_video_amp_tag\"    \n",
              " [47] \"creative_4_3p_or_1p_tag\"      \"creative_12_name_12\"         \n",
              " [49] \"creative_11_video_amp_tag\"    \"creative_1_3p_or_1p_tag\"     \n",
              " [51] \"creative_2_name_2\"            \"creative_4_edo_tag\"          \n",
              " [53] \"creative_12_edo_tag\"          \"creative_10_edo_tag\"         \n",
              " [55] \"creative_2_disqo_tag\"         \"creative_6_rotation_6\"       \n",
              " [57] \"creative_4_rotation_4\"        \"creative_2_url_2\"            \n",
              " [59] \"creative_5_name_5\"            \"creative_7_3p_or_1p_tag\"     \n",
              " [61] \"creative_4_name_4\"            \"creative_3_3p_or_1p_tag\"     \n",
              " [63] \"creative_6_disqo_tag\"         \"creative_1_edo_tag\"          \n",
              " [65] \"creative_7_asset_link\"        \"creative_4_disqo_tag\"        \n",
              " [67] \"creative_3_disqo_tag\"         \"creative_NA_line_item\"       \n",
              " [69] \"creative_9_asset_link\"        \"creative_3_edo_tag\"          \n",
              " [71] \"creative_3_rotation_3_number\" \"creative_2_edo_tag\"          \n",
              " [73] \"creative_12_url_12\"           \"creative_NA_size\"            \n",
              " [75] \"creative_9_edo_tag\"           \"creative_6_video_amp_tag\"    \n",
              " [77] \"creative_3_url_3_number\"      \"creative_NA_end_date\"        \n",
              " [79] \"creative_10_name_10\"          \"creative_6_edo_tag\"          \n",
              " [81] \"creative_1_rotation_1\"        \"creative_2_video_amp_tag\"    \n",
              " [83] \"creative_9_3p_or_1p_tag\"      \"creative_1_disqo_tag\"        \n",
              " [85] \"creative_5_3p_or_1p_tag\"      \"creative_1_asset_link\"       \n",
              " [87] \"creative_11_3p_or_1p_tag\"     \"creative_3_name_3\"           \n",
              " [89] \"creative_1_name_1\"            \"creative_1_url_1\"            \n",
              " [91] \"creative_5_asset_link\"        \"creative_9_video_amp_tag\"    \n",
              " [93] \"creative_4_video_amp_tag\"     \"creative_3_asset_link\"       \n",
              " [95] \"creative_NA_formats\"          \"creative_2_3p_or_1p_tag\"     \n",
              " [97] \"creative_2_asset_link\"        \"creative_6_3p_or_1p_tag\"     \n",
              " [99] \"creative_4_asset_link\"        \"creative_9_url_9\"            \n",
              "[101] \"creative_5_edo_tag\"           \"creative_11_url_11\"          \n",
              "[103] \"creative_NA_property\"        "
            ]
          },
          "metadata": {}
        }
      ]
    },
    {
      "cell_type": "code",
      "execution_count": null,
      "id": "c7e449e5",
      "metadata": {
        "vscode": {
          "languageId": "r"
        },
        "colab": {
          "base_uri": "https://localhost:8080/"
        },
        "id": "c7e449e5",
        "executionInfo": {
          "status": "ok",
          "timestamp": 1747442533655,
          "user_tz": 240,
          "elapsed": 219,
          "user": {
            "displayName": "",
            "userId": ""
          }
        },
        "outputId": "7e5b226f-95ba-44c5-cfb7-00843c54f086"
      },
      "outputs": [
        {
          "output_type": "stream",
          "name": "stdout",
          "text": [
            "`tag_placement`,\n",
            "`start_date`,\n",
            "`line_item`,\n",
            "`size`,\n",
            "`end_date`,\n",
            "`formats`,\n",
            "`property`,\n",
            "`creative_num`,\n",
            "`3p_or_1p_tag`,\n",
            "`video_amp_tag`,\n",
            "`disqo_tag`,\n",
            "`asset_link`,\n",
            "`edo_tag`,\n",
            "`url`,\n",
            "`name`"
          ]
        }
      ],
      "source": [
        "\n",
        "\n",
        "\n",
        "\n",
        "\n",
        "\n",
        "names(df) <- names(df) |>\n",
        "  # Remove trailing numbers from names: creative_1__name_1 → creative_1__name\n",
        "  str_replace(\"(_name|_url|_asset_link|_edo_tag|_disqo_tag|_video_amp_tag|_3p_or_1p_tag)_\\\\d+$\", \"\\\\1\") |>\n",
        "  # Remove all sequences of 2 or more underscores: creative_1__name → creative_1_name\n",
        "  str_replace_all(\"_+\", \"_\") |>\n",
        "  # Fix creative_3__url_3_number → creative_3_url\n",
        "  str_replace(\"_url_3_number\", \"_url\")\n",
        "\n",
        "\n",
        "# 2️⃣  Identify all creative columns ---------------------------------------\n",
        "cre_cols <- grep(\"(name|url|asset_link|edo_tag|disqo_tag|video_amp_tag|3p_or_1p_tag)\",\n",
        "                 names(df), value = TRUE)\n",
        "\n",
        "# 3️⃣  Pivot longer ---------------------------------------------------------\n",
        "creative_long <- df %>%                             # Start a pipeline with the dataframe 'df'\n",
        "  pivot_longer(                                     # Reshape data from wide to long format\n",
        "    cols = matches(\"^creative_\\\\d+_\"),              # Select columns that start with 'creative_' followed by digits and an underscore\n",
        "    names_to = c(\"creative_num\", \".value\"),         # Split column names into 'creative_num' and the rest as new columns\n",
        "    names_pattern = \"^creative_(\\\\d+)_(.*)$\",       # Regex to extract the creative number and attribute from column names\n",
        "    values_drop_na = TRUE                           # Drop rows where the value is NA\n",
        "  ) %>%\n",
        "  mutate(creative_num = as.integer(creative_num))   # Convert 'creative_num' from character to integer\n",
        "\n",
        "names(creative_long) <-\n",
        "  str_replace_all(names(creative_long), \"creative_NA_\", \"\") # Replace underscores with dots in column names\n",
        "\n",
        "#print as tidy list of columns\n",
        "cat(paste0(\"`\", colnames(creative_long), \"`\", collapse = \",\\n\"))\n",
        "\n",
        "\n",
        "\n",
        "utms_table <- creative_long %>% select(\n",
        "  -contains(\"rotation\")\n",
        "  # 2:16\n",
        "  )\n",
        "\n",
        "#print as tidy list of columns\n",
        "cat(paste0(\"`\", colnames(utms_table), \"`\", collapse = \",\\n\"))\n",
        "\n"
      ]
    },
    {
      "cell_type": "markdown",
      "id": "d9125673",
      "metadata": {
        "id": "d9125673"
      },
      "source": [
        "# write to table"
      ]
    },
    {
      "cell_type": "code",
      "execution_count": null,
      "id": "73f024c0",
      "metadata": {
        "vscode": {
          "languageId": "r"
        },
        "id": "73f024c0"
      },
      "outputs": [],
      "source": [
        "# str(utms_table)\n",
        "# names(utms_table)\n",
        "dbWriteTable(\n",
        "  con,\n",
        "  name = \"basis_utms_pivoted_2\",\n",
        "  value = utms_table,\n",
        "  overwrite = TRUE # set to FALSE and use append=TRUE to append instead\n",
        ")\n"
      ]
    },
    {
      "cell_type": "code",
      "execution_count": null,
      "id": "0695f963",
      "metadata": {
        "vscode": {
          "languageId": "r"
        },
        "colab": {
          "base_uri": "https://localhost:8080/",
          "height": 72
        },
        "id": "0695f963",
        "executionInfo": {
          "status": "error",
          "timestamp": 1747608263073,
          "user_tz": 240,
          "elapsed": 364,
          "user": {
            "displayName": "",
            "userId": ""
          }
        },
        "outputId": "27ed1558-61be-4406-ab16-c1d2f7c5d2af"
      },
      "outputs": [
        {
          "output_type": "error",
          "ename": "ERROR",
          "evalue": "Error in str(utms_table) %>% print(n = 20): could not find function \"%>%\"\n",
          "traceback": [
            "Error in str(utms_table) %>% print(n = 20): could not find function \"%>%\"\nTraceback:\n"
          ]
        }
      ],
      "source": [
        "str(utms_table) %>% print(n = 20)"
      ]
    },
    {
      "cell_type": "code",
      "execution_count": null,
      "id": "b1d5fda4",
      "metadata": {
        "vscode": {
          "languageId": "r"
        },
        "id": "b1d5fda4"
      },
      "outputs": [],
      "source": []
    }
  ],
  "metadata": {
    "kernelspec": {
      "display_name": "R",
      "language": "R",
      "name": "ir"
    },
    "language_info": {
      "codemirror_mode": "r",
      "file_extension": ".r",
      "mimetype": "text/x-r-source",
      "name": "R",
      "pygments_lexer": "r",
      "version": "4.3.1"
    },
    "colab": {
      "provenance": [],
      "name": "basis_utms_pivot.ipynb"
    }
  },
  "nbformat": 4,
  "nbformat_minor": 5
}