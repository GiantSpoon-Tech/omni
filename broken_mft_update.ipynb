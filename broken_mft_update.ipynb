{
  "nbformat": 4,
  "nbformat_minor": 0,
  "metadata": {
    "colab": {
      "name": "mft_update.ipynb",
      "cell_execution_strategy": "setup",
      "provenance": []
    },
    "kernelspec": {
      "name": "python3",
      "display_name": "Python 3"
    },
    "language_info": {
      "name": "python"
    }
  },
  "cells": [
    {
      "cell_type": "code",
      "source": [
        "from google.cloud import bigquery\n",
        "from datetime import datetime\n",
        "\n",
        "# Define params\n",
        "project_id = \"looker-studio-pro-452620\"\n",
        "dataset_id = \"repo_tables\"\n",
        "table_id = \"delivery_mft\"\n",
        "bucket_name = \"bigquery_exports_2025/mft\"\n",
        "file_name = f\"{table_id}.csv\"\n",
        "gcs_path = f\"gs://{bucket_name}/{file_name}\"\n",
        "\n",
        "bq = bigquery.Client(project=project_id)\n",
        "\n",
        "# # Use datetime instead of pd.Timestamp\n",
        "# today_str = datetime.utcnow().strftime('%Y%m%d')\n",
        "# export_path = f\"exports/{table_id}.csv\"\n",
        "# destination_uri = f\"gs://{bucket_name}/{export_path}\"\n",
        "\n",
        "# # Set up BigQuery client\n",
        "# client = bigquery.Client(project=project_id)\n",
        "\n",
        "# # Define table reference\n",
        "# table_ref = bigquery.DatasetReference(project_id, dataset_id).table(table_id)\n",
        "\n",
        "# # Set extract job config\n",
        "# job_config = bigquery.ExtractJobConfig(\n",
        "#     destination_format=\"CSV\",\n",
        "#     field_delimiter=\",\",\n",
        "#     print_header=True\n",
        "# )\n",
        "\n",
        "# # Start extract job\n",
        "# extract_job = client.extract_table(\n",
        "#     source=table_ref,\n",
        "#     destination_uris=destination_uri,\n",
        "#     job_config=job_config\n",
        "# )\n",
        "\n",
        "# extract_job.result()  # Wait for completion\n",
        "\n",
        "# print(f\"✅ Exported table {table_id} to {destination_uri}\")"
      ],
      "metadata": {
        "id": "dYAFnEelnXYr",
        "executionInfo": {
          "status": "ok",
          "timestamp": 1747258418063,
          "user_tz": 240,
          "elapsed": 341,
          "user": {
            "displayName": "",
            "userId": ""
          }
        }
      },
      "execution_count": 9,
      "outputs": []
    },
    {
      "cell_type": "code",
      "source": [
        "extract_job = bq.extract_table(\n",
        "    source=f\"{project_id}.{dataset_id}.{table_id}\",\n",
        "    destination_uris=[gcs_path],\n",
        "    job_config=bigquery.ExtractJobConfig(\n",
        "        destination_format=\"CSV\",\n",
        "        field_delimiter=\",\",\n",
        "        print_header=True\n",
        "    )\n",
        ")\n",
        "extract_job.result()\n",
        "print(f\"✅ Exported to {gcs_path}\")"
      ],
      "metadata": {
        "colab": {
          "base_uri": "https://localhost:8080/"
        },
        "id": "8B5t1ORJttSr",
        "executionInfo": {
          "status": "ok",
          "timestamp": 1747258429917,
          "user_tz": 240,
          "elapsed": 4332,
          "user": {
            "displayName": "",
            "userId": ""
          }
        },
        "outputId": "95a297c4-818e-4dcd-daad-1ca4e73be42a"
      },
      "execution_count": 10,
      "outputs": [
        {
          "output_type": "stream",
          "name": "stdout",
          "text": [
            "✅ Exported to gs://bigquery_exports_2025/mft/delivery_mft.csv\n"
          ]
        }
      ]
    },
    {
      "cell_type": "code",
      "source": [
        "from google.cloud import storage\n",
        "\n",
        "bucket_name = \"bigquery_exports_2025\"  # 🔁 double check this spelling\n",
        "\n",
        "storage_client = storage.Client()\n",
        "bucket = storage_client.get_bucket(bucket_name)  # ✅ This line was missing\n",
        "\n",
        "# Now list files under the prefix (e.g., folder path)\n",
        "blobs = list(bucket.list_blobs(prefix=\"mft/delivery_mft\"))\n",
        "for blob in blobs:\n",
        "    print(\"✅ Found file in GCS:\", blob.name)"
      ],
      "metadata": {
        "colab": {
          "base_uri": "https://localhost:8080/"
        },
        "id": "cS0E0vI7vBqZ",
        "executionInfo": {
          "status": "ok",
          "timestamp": 1747260426737,
          "user_tz": 240,
          "elapsed": 414,
          "user": {
            "displayName": "",
            "userId": ""
          }
        },
        "outputId": "eb9ca468-c534-4d48-8d18-3101720e1341"
      },
      "execution_count": 33,
      "outputs": [
        {
          "output_type": "stream",
          "name": "stdout",
          "text": [
            "✅ Found file in GCS: mft/delivery_mft.csv\n"
          ]
        }
      ]
    },
    {
      "cell_type": "code",
      "source": [
        "from google.cloud import storage\n",
        "\n",
        "storage_client = storage.Client()\n",
        "bucket = storage_client.bucket(bucket_name)\n",
        "blob = bucket.blob(\"mft/delivery_mft.csv\")\n",
        "\n",
        "local_file_path = f\"/Users/eugenetsenter/Library/CloudStorage/GoogleDrive-gene.tsenter@giantspoon.com/My Drive/Datorama/MFTv2_Data{file_name}\"\n",
        "blob.download_to_filename(local_file_path)\n",
        "print(f\"✅ Downloaded to {local_file_path}\")"
      ],
      "metadata": {
        "colab": {
          "base_uri": "https://localhost:8080/",
          "height": 356
        },
        "id": "tgw_RedT2f_n",
        "executionInfo": {
          "status": "error",
          "timestamp": 1747260801110,
          "user_tz": 240,
          "elapsed": 308,
          "user": {
            "displayName": "",
            "userId": ""
          }
        },
        "outputId": "87969d91-4e49-4f09-85de-cff5b90f997f"
      },
      "execution_count": 38,
      "outputs": [
        {
          "output_type": "error",
          "ename": "FileNotFoundError",
          "evalue": "[Errno 2] No such file or directory: '/Users/eugenetsenter/Library/CloudStorage/GoogleDrive-gene.tsenter@giantspoon.com/My Drive/Datorama/MFTv2_Datadelivery_mft.csv'",
          "traceback": [
            "\u001b[0;31m---------------------------------------------------------------------------\u001b[0m",
            "\u001b[0;31mFileNotFoundError\u001b[0m                         Traceback (most recent call last)",
            "\u001b[0;32m<ipython-input-38-8b37dfde35fc>\u001b[0m in \u001b[0;36m<cell line: 8>\u001b[0;34m()\u001b[0m\n\u001b[1;32m      6\u001b[0m \u001b[0;34m\u001b[0m\u001b[0m\n\u001b[1;32m      7\u001b[0m \u001b[0mlocal_file_path\u001b[0m \u001b[0;34m=\u001b[0m \u001b[0;34mf\"/Users/eugenetsenter/Library/CloudStorage/GoogleDrive-gene.tsenter@giantspoon.com/My Drive/Datorama/MFTv2_Data{file_name}\"\u001b[0m\u001b[0;34m\u001b[0m\u001b[0;34m\u001b[0m\u001b[0m\n\u001b[0;32m----> 8\u001b[0;31m \u001b[0mblob\u001b[0m\u001b[0;34m.\u001b[0m\u001b[0mdownload_to_filename\u001b[0m\u001b[0;34m(\u001b[0m\u001b[0mlocal_file_path\u001b[0m\u001b[0;34m)\u001b[0m\u001b[0;34m\u001b[0m\u001b[0;34m\u001b[0m\u001b[0m\n\u001b[0m\u001b[1;32m      9\u001b[0m \u001b[0mprint\u001b[0m\u001b[0;34m(\u001b[0m\u001b[0;34mf\"✅ Downloaded to {local_file_path}\"\u001b[0m\u001b[0;34m)\u001b[0m\u001b[0;34m\u001b[0m\u001b[0;34m\u001b[0m\u001b[0m\n",
            "\u001b[0;32m/usr/lib/python3.10/contextlib.py\u001b[0m in \u001b[0;36minner\u001b[0;34m(*args, **kwds)\u001b[0m\n\u001b[1;32m     77\u001b[0m         \u001b[0;32mdef\u001b[0m \u001b[0minner\u001b[0m\u001b[0;34m(\u001b[0m\u001b[0;34m*\u001b[0m\u001b[0margs\u001b[0m\u001b[0;34m,\u001b[0m \u001b[0;34m**\u001b[0m\u001b[0mkwds\u001b[0m\u001b[0;34m)\u001b[0m\u001b[0;34m:\u001b[0m\u001b[0;34m\u001b[0m\u001b[0;34m\u001b[0m\u001b[0m\n\u001b[1;32m     78\u001b[0m             \u001b[0;32mwith\u001b[0m \u001b[0mself\u001b[0m\u001b[0;34m.\u001b[0m\u001b[0m_recreate_cm\u001b[0m\u001b[0;34m(\u001b[0m\u001b[0;34m)\u001b[0m\u001b[0;34m:\u001b[0m\u001b[0;34m\u001b[0m\u001b[0;34m\u001b[0m\u001b[0m\n\u001b[0;32m---> 79\u001b[0;31m                 \u001b[0;32mreturn\u001b[0m \u001b[0mfunc\u001b[0m\u001b[0;34m(\u001b[0m\u001b[0;34m*\u001b[0m\u001b[0margs\u001b[0m\u001b[0;34m,\u001b[0m \u001b[0;34m**\u001b[0m\u001b[0mkwds\u001b[0m\u001b[0;34m)\u001b[0m\u001b[0;34m\u001b[0m\u001b[0;34m\u001b[0m\u001b[0m\n\u001b[0m\u001b[1;32m     80\u001b[0m         \u001b[0;32mreturn\u001b[0m \u001b[0minner\u001b[0m\u001b[0;34m\u001b[0m\u001b[0;34m\u001b[0m\u001b[0m\n\u001b[1;32m     81\u001b[0m \u001b[0;34m\u001b[0m\u001b[0m\n",
            "\u001b[0;32m/usr/local/lib/python3.10/dist-packages/google/cloud/storage/blob.py\u001b[0m in \u001b[0;36mdownload_to_filename\u001b[0;34m(self, filename, client, start, end, raw_download, if_etag_match, if_etag_not_match, if_generation_match, if_generation_not_match, if_metageneration_match, if_metageneration_not_match, timeout, checksum, retry)\u001b[0m\n\u001b[1;32m   1347\u001b[0m         \"\"\"\n\u001b[1;32m   1348\u001b[0m \u001b[0;34m\u001b[0m\u001b[0m\n\u001b[0;32m-> 1349\u001b[0;31m         self._handle_filename_and_download(\n\u001b[0m\u001b[1;32m   1350\u001b[0m             \u001b[0mfilename\u001b[0m\u001b[0;34m,\u001b[0m\u001b[0;34m\u001b[0m\u001b[0;34m\u001b[0m\u001b[0m\n\u001b[1;32m   1351\u001b[0m             \u001b[0mclient\u001b[0m\u001b[0;34m=\u001b[0m\u001b[0mclient\u001b[0m\u001b[0;34m,\u001b[0m\u001b[0;34m\u001b[0m\u001b[0;34m\u001b[0m\u001b[0m\n",
            "\u001b[0;32m/usr/local/lib/python3.10/dist-packages/google/cloud/storage/blob.py\u001b[0m in \u001b[0;36m_handle_filename_and_download\u001b[0;34m(self, filename, *args, **kwargs)\u001b[0m\n\u001b[1;32m   1221\u001b[0m \u001b[0;34m\u001b[0m\u001b[0m\n\u001b[1;32m   1222\u001b[0m         \u001b[0;32mtry\u001b[0m\u001b[0;34m:\u001b[0m\u001b[0;34m\u001b[0m\u001b[0;34m\u001b[0m\u001b[0m\n\u001b[0;32m-> 1223\u001b[0;31m             \u001b[0;32mwith\u001b[0m \u001b[0mopen\u001b[0m\u001b[0;34m(\u001b[0m\u001b[0mfilename\u001b[0m\u001b[0;34m,\u001b[0m \u001b[0;34m\"wb\"\u001b[0m\u001b[0;34m)\u001b[0m \u001b[0;32mas\u001b[0m \u001b[0mfile_obj\u001b[0m\u001b[0;34m:\u001b[0m\u001b[0;34m\u001b[0m\u001b[0;34m\u001b[0m\u001b[0m\n\u001b[0m\u001b[1;32m   1224\u001b[0m                 self._prep_and_do_download(\n\u001b[1;32m   1225\u001b[0m                     \u001b[0mfile_obj\u001b[0m\u001b[0;34m,\u001b[0m\u001b[0;34m\u001b[0m\u001b[0;34m\u001b[0m\u001b[0m\n",
            "\u001b[0;31mFileNotFoundError\u001b[0m: [Errno 2] No such file or directory: '/Users/eugenetsenter/Library/CloudStorage/GoogleDrive-gene.tsenter@giantspoon.com/My Drive/Datorama/MFTv2_Datadelivery_mft.csv'"
          ]
        }
      ]
    }
  ]
}