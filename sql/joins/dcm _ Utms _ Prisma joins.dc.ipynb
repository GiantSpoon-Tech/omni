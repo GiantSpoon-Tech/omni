{
  "metadata": {},
  "nbformat": 4,
  "nbformat_minor": 5,
  "cells": [
    {
      "cell_type": "aidi-dag-node",
      "metadata": {
        "name": "",
        "tags": [],
        "pullContextTime": "1746739348154",
        "createTime": "1746739348154",
        "updateTime": "1746917805475",
        "outputContextCreateTime": "1746739348372",
        "outputContextHash": -2137246025,
        "nodeHeight": 540,
        "nodeWidth": 800,
        "positionX": 628.7234042553191,
        "positionY": 805.3191489361702
      },
      "id": "table-dag-node-1746739348154-1",
      "type": "table",
      "state": "COMPLETE",
      "nlInput": "",
      "nlInputHistory": [],
      "modelResponse": "",
      "children": [
        "bq-code-editor-dag-node-1746739373705-3"
      ],
      "groupId": "",
      "collapsedSubgraphId": "",
      "isMultiturnNodeType": false,
      "additional_properties": {
        "reference": {
          "projectId": "looker-studio-pro-452620",
          "datasetId": "final_views",
          "tableId": "dcm"
        },
        "title": "dcm",
        "isCollapsed": false,
        "preCollapsedNodeHeight": 0,
        "preCollapsedNodeWidth": 0
      }
    },
    {
      "cell_type": "aidi-dag-node",
      "metadata": {
        "name": "",
        "tags": [],
        "pullContextTime": "1746739373698",
        "createTime": "1746739373698",
        "updateTime": "1746811848304",
        "outputContextCreateTime": "1746811848304",
        "outputContextHash": -1048640484,
        "nodeHeight": 540,
        "nodeWidth": 800,
        "positionX": 2150,
        "positionY": 250
      },
      "id": "table-dag-node-1746739373698-2",
      "type": "table",
      "state": "COMPLETE",
      "nlInput": "",
      "nlInputHistory": [],
      "modelResponse": "",
      "children": [
        "bq-code-editor-dag-node-1746739373705-3"
      ],
      "groupId": "",
      "collapsedSubgraphId": "",
      "isMultiturnNodeType": false,
      "additional_properties": {
        "reference": {
          "projectId": "looker-studio-pro-452620",
          "datasetId": "final_views",
          "tableId": "prisma_view"
        },
        "title": "prisma_view",
        "isCollapsed": false,
        "preCollapsedNodeHeight": 0,
        "preCollapsedNodeWidth": 0
      }
    },
    {
      "cell_type": "aidi-dag-node",
      "metadata": {
        "name": "",
        "tags": [],
        "pullContextTime": "1747063273043",
        "createTime": "1746739373705",
        "generateTime": "1746739373733",
        "startRunTime": "1747063273044",
        "endRunTime": "1747063283563",
        "updateTime": "1747063283845",
        "outputContextCreateTime": "1747063283564",
        "outputContextHash": -2071185757,
        "nodeHeight": 780,
        "nodeWidth": 1620,
        "positionX": 1849.2682926829268,
        "positionY": 1425.121951219512
      },
      "id": "bq-code-editor-dag-node-1746739373705-3",
      "type": "bq-code-editor",
      "state": "COMPLETE",
      "nlInput": "Join these data sources",
      "nlInputHistory": [
        "Join these data sources"
      ],
      "modelResponse": "SELECT\n  dcm.date,\n  dcm.campaign,\n  dcm.package_roadblock,\n  dcm.package_id,\n  dcm.placement_id,\n  dcm.impressions,\n  dcm.KEY,\n  dcm.ad,\n  dcm.click_rate,\n  dcm.clicks,\n  dcm.creative,\n  dcm.media_cost,\n  dcm.rich_media_video_completions,\n  dcm.rich_media_video_plays,\n  dcm.total_conversions,\n  dcm.p_cost_method,\n  dcm.p_package_friendly,\n  dcm.p_start_date,\n  dcm.p_end_date,\n  dcm.p_total_days,\n  dcm.p_pkg_daily_planned_cost,\n  dcm.p_pkg_total_planned_cost,\n  dcm.p_pkg_daily_planned_imps,\n  dcm.p_pkg_total_planned_imps,\n  dcm.p_channel_group,\n  dcm.p_advertiser_name,\n  dcm.flight_date_flag,\n  dcm.flight_status_flag,\n  dcm.rate_raw,\n  dcm.n_of_placements,\n  dcm.d_min_date,\n  dcm.d_max_date,\n  dcm.min_flight_date,\n  dcm.max_flight_date,\n  dcm.pkg_total_imps,\n  dcm.total_inflight_impressions,\n  dcm.pkg_daily_imps,\n  dcm.pkg_daily_imps_perc,\n  dcm.pkg_total_imps_perc,\n  dcm.pkg_inflight_imps_perc,\n  dcm.days_live,\n  dcm.prorated_planned_cost_pk,\n  dcm.prorated_planned_imps_pk,\n  dcm.cpm_overdelivery_flag,\n  dcm.daily_cpm,\n  dcm.daily_recalculated_cost,\n  dcm.daily_recalculated_cost_flag,\n  dcm.daily_recalculated_imps,\n  prisma_view.package_id,\n  prisma_view.package_type,\n  prisma_view.placement_type,\n  prisma_view.placement_name,\n  prisma_view.start_date,\n  prisma_view.end_date,\n  prisma_view.cost_method,\n  prisma_view.buy_type,\n  prisma_view.buy_category,\n  prisma_view.click_through_url,\n  prisma_view.advertiser_name,\n  prisma_view.campaign_name,\n  prisma_view.supplier_code,\n  prisma_view.supplier_name,\n  prisma_view.planned_actions,\n  prisma_view.planned_cost_pk,\n  prisma_view.planned_clicks,\n  prisma_view.advertiser_short_name,\n  prisma_view.planned_imps_pk,\n  prisma_view.planned_units,\n  prisma_view.unit_type,\n  prisma_view.dimension,\n  prisma_view.media_name,\n  prisma_view.product_code,\n  prisma_view.product_name,\n  prisma_view.external_entity_id,\n  prisma_view.provider_name,\n  prisma_view.package_group_name,\n  prisma_view.out_of_home_end_date,\n  prisma_view.placement_cap_cost,\n  prisma_view.served_by,\n  prisma_view.payable_rate,\n  prisma_view.channel_if_buy_category,\n  prisma_view.placement_type_site,\n  prisma_view.device_type,\n  prisma_view.audience_type,\n  prisma_view.audience,\n  prisma_view.initative,\n  prisma_view.media_type,\n  prisma_view.line_item_name,\n  prisma_view.ad_size,\n  prisma_view.funnel,\n  prisma_view.kpi,\n  prisma_view.geo_market,\n  prisma_view.ad_server_placement_id,\n  prisma_view.placement_number,\n  prisma_view.placement_comments,\n  prisma_view.days_in_out_of_home_end_date,\n  prisma_view.package_name,\n  prisma_view.placement_name2,\n  prisma_view.report_date,\n  prisma_view.script_run_date,\n  prisma_view.channel,\n  prisma_view.channel_raw,\n  prisma_view.channel_group,\n  prisma_view.campaign_friendly,\n  prisma_view.p_package_friendly,\n  prisma_view.n_of_placements,\n  prisma_view.total_days,\n  prisma_view.planned_daily_spend_pk,\n  prisma_view.planned_daily_impressions_pk\nFROM\n  `looker-studio-pro-452620`.`final_views`.`dcm` AS dcm\nINNER JOIN\n  `looker-studio-pro-452620`.`final_views`.`prisma_view` AS prisma_view\nON\n  dcm.package_id = prisma_view.package_id;",
      "children": [
        "bq-code-editor-dag-node-1746918518705-5"
      ],
      "groupId": "",
      "collapsedSubgraphId": "",
      "isMultiturnNodeType": true,
      "additional_properties": {
        "content": "-- @file: mart__delivery__final_join_dcm_utms_prisma.sql\n-- @layer: marts\n-- @description: Final unified delivery model. Joins delivery data (DCM) with UTM enrichment\n--               and Prisma metadata. Aligns placement and creative-level reporting with\n--               campaign planning, actualized delivery, and cost model metrics.\n-- @source: final_views.dcm\n-- @source: final_views.utms_view\n-- @source: final_views.prisma_view\n-- @target: final_views.delivery_final\n\n\nSELECT\n  dcm.date,\n  dcm.campaign,\n  dcm.package_roadblock,\n  dcm.package_id,\n  dcm.placement_id,\n  dcm.impressions,\n  dcm.KEY,\n  dcm.ad,\n  dcm.click_rate,\n  dcm.clicks,\n  dcm.creative,\n  dcm.media_cost,\n  dcm.rich_media_video_completions,\n  dcm.rich_media_video_plays,\n  dcm.total_conversions,\n  dcm.p_cost_method,\n  dcm.p_package_friendly,\n  dcm.p_start_date,\n  dcm.p_end_date,\n  dcm.p_total_days,\n  dcm.p_pkg_daily_planned_cost,\n  dcm.p_pkg_total_planned_cost,\n  dcm.p_pkg_daily_planned_imps,\n  dcm.p_pkg_total_planned_imps,\n  dcm.p_channel_group,\n  dcm.p_advertiser_name,\n  dcm.flight_date_flag,\n  dcm.flight_status_flag,\n  dcm.rate_raw,\n  dcm.n_of_placements,\n  dcm.d_min_date,\n  dcm.d_max_date,\n  dcm.min_flight_date,\n  dcm.max_flight_date,\n  dcm.pkg_total_imps,\n  dcm.total_inflight_impressions,\n  dcm.pkg_daily_imps,\n  dcm.pkg_daily_imps_perc,\n  dcm.pkg_total_imps_perc,\n  dcm.pkg_inflight_imps_perc,\n  dcm.days_live,\n  dcm.prorated_planned_cost_pk,\n  dcm.prorated_planned_imps_pk,\n  dcm.cpm_overdelivery_flag,\n  dcm.daily_cpm,\n  dcm.daily_recalculated_cost,\n  dcm.daily_recalculated_cost_flag,\n  dcm.daily_recalculated_imps,\n  concat(dcm.placement_id, \" || \", dcm.creative) as utm_key,\n  utm.utm_source,\n  utm.placement_name,\n  utm.utm_campaign,\n  utm.utm_medium,\n  utm.utm_content,\n  utm.utm_term,\n\n  --prisma\n    -- prisma_view.package_id,\n    -- prisma_view.package_type,\n    -- prisma_view.placement_type,\n     prisma_view.placement_name as prsm_placement_name,\n    -- prisma_view.start_date,\n    -- prisma_view.end_date,\n    -- prisma_view.cost_method,\n    -- prisma_view.buy_type,\n    -- prisma_view.buy_category,\n    -- prisma_view.click_through_url,\n    -- prisma_view.advertiser_name,\n    -- prisma_view.campaign_name,\n    -- prisma_view.supplier_code,\n    -- prisma_view.supplier_name,\n    -- prisma_view.planned_actions,\n    -- prisma_view.planned_cost_pk,\n    -- prisma_view.planned_clicks,\n    -- prisma_view.advertiser_short_name,\n    -- prisma_view.planned_imps_pk,\n    -- prisma_view.planned_units,\n    -- prisma_view.unit_type,\n    -- prisma_view.dimension,\n    -- prisma_view.media_name,\n    -- prisma_view.product_code,\n    -- prisma_view.product_name,\n    -- prisma_view.external_entity_id,\n    -- prisma_view.provider_name,\n    -- prisma_view.package_group_name,\n    -- prisma_view.out_of_home_end_date,\n    -- prisma_view.placement_cap_cost,\n    -- prisma_view.served_by,\n     prisma_view.payable_rate as prsm_payable_rate,\n    -- prisma_view.channel_if_buy_category,\n    -- prisma_view.placement_type_site,\n    -- prisma_view.device_type,\n    -- prisma_view.audience_type,\n    -- prisma_view.audience,\n    -- prisma_view.initative,\n    -- prisma_view.media_type,\n    -- prisma_view.line_item_name,\n    -- prisma_view.ad_size,\n    -- prisma_view.funnel,\n    -- prisma_view.kpi,\n    -- prisma_view.geo_market,\n    -- prisma_view.ad_server_placement_id,\n    -- prisma_view.placement_number,\n    -- prisma_view.placement_comments,\n    -- prisma_view.days_in_out_of_home_end_date,\n    -- prisma_view.package_name,\n    -- prisma_view.placement_name2,\n    -- prisma_view.report_date,\n    -- prisma_view.script_run_date,\n    -- prisma_view.channel,\n    -- prisma_view.channel_raw,\n    -- prisma_view.channel_group,\n    -- prisma_view.campaign_friendly,\n    -- prisma_view.p_package_friendly,\n    -- prisma_view.n_of_placements,\n    -- prisma_view.total_days,\n    -- prisma_view.planned_daily_spend_pk,\n    -- prisma_view.planned_daily_impressions_pk\n\nFROM\n  `looker-studio-pro-452620`.`final_views`.`dcm` AS dcm\nleft join looker-studio-pro-452620.final_views.utms_view as utm\non concat(dcm.placement_id, \" || \", dcm.creative) = utm.placement_creative\nleft JOIN\n  `looker-studio-pro-452620`.`final_views`.`prisma_view` AS prisma_view\nON\n  dcm.package_id = prisma_view.package_id;",
        "citationIndexes": [],
        "generateOnInit": false,
        "focusOnInit": false,
        "title": "dcm_prisma_utms Join",
        "collapsedSql": false,
        "isCollapsed": false,
        "preCollapsedNodeHeight": 0,
        "preCollapsedNodeWidth": 0,
        "focusNlInputOnInit": true,
        "context": {
          "tableContext": {
            "tableReferences": [
              {
                "projectId": "looker-studio-pro-452620",
                "datasetId": "final_views",
                "tableId": "dcm"
              },
              {
                "projectId": "looker-studio-pro-452620",
                "datasetId": "final_views",
                "tableId": "prisma_view"
              }
            ]
          }
        },
        "generationUuids": {
          "sqlGenUuid": "dataport-gen-session-708C472B-0AEF-400F-B1E8-2B7364AD21AE"
        },
        "staticResults": "{\"fields\":[{\"name\":\"date\",\"fullname\":\"date\",\"type\":\"DATE\",\"mode\":\"NULLABLE\",\"description\":\"\",\"fields\":[],\"hasPermission\":true,\"policyTags\":[],\"dataPolicies\":[],\"maxLength\":\"0\",\"precision\":\"0\",\"scale\":\"0\",\"timestampPrecision\":\"0\",\"roundingMode\":\"ROUNDING_MODE_UNSPECIFIED\",\"collation\":\"\",\"defaultValueExpression\":\"\",\"isMeasure\":false,\"rangeElementType\":{\"type\":\"\"},\"foreignTypeDefinition\":\"\",\"dataGovernanceTags\":[],\"identityColumnInfo\":{\"generatedMode\":\"GENERATED_MODE_UNSPECIFIED\",\"start\":\"\",\"increment\":\"\"},\"generatedColumn\":{\"generatedMode\":\"GENERATED_MODE_UNSPECIFIED\",\"identityColumnInfo\":{\"generatedMode\":\"GENERATED_MODE_UNSPECIFIED\",\"start\":\"\",\"increment\":\"\"},\"generatedExpressionInfo\":{\"generationExpression\":\"\",\"asynchronous\":false,\"stored\":false},\"definition\":\"definitionNotSet\"},\"streamDefaultWatermarkPolicy\":{\"watermarkDelay\":\"0s\"},\"isHidden\":false,\"isRepeated\":false},{\"name\":\"campaign\",\"fullname\":\"campaign\",\"type\":\"STRING\",\"mode\":\"NULLABLE\",\"description\":\"\",\"fields\":[],\"hasPermission\":true,\"policyTags\":[],\"dataPolicies\":[],\"maxLength\":\"0\",\"precision\":\"0\",\"scale\":\"0\",\"timestampPrecision\":\"0\",\"roundingMode\":\"ROUNDING_MODE_UNSPECIFIED\",\"collation\":\"\",\"defaultValueExpression\":\"\",\"isMeasure\":false,\"rangeElementType\":{\"type\":\"\"},\"foreignTypeDefinition\":\"\",\"dataGovernanceTags\":[],\"identityColumnInfo\":{\"generatedMode\":\"GENERATED_MODE_UNSPECIFIED\",\"start\":\"\",\"increment\":\"\"},\"generatedColumn\":{\"generatedMode\":\"GENERATED_MODE_UNSPECIFIED\",\"identityColumnInfo\":{\"generatedMode\":\"GENERATED_MODE_UNSPECIFIED\",\"start\":\"\",\"increment\":\"\"},\"generatedExpressionInfo\":{\"generationExpression\":\"\",\"asynchronous\":false,\"stored\":false},\"definition\":\"definitionNotSet\"},\"streamDefaultWatermarkPolicy\":{\"watermarkDelay\":\"0s\"},\"isHidden\":false,\"isRepeated\":false},{\"name\":\"package_roadblock\",\"fullname\":\"package_roadblock\",\"type\":\"STRING\",\"mode\":\"NULLABLE\",\"description\":\"\",\"fields\":[],\"hasPermission\":true,\"policyTags\":[],\"dataPolicies\":[],\"maxLength\":\"0\",\"precision\":\"0\",\"scale\":\"0\",\"timestampPrecision\":\"0\",\"roundingMode\":\"ROUNDING_MODE_UNSPECIFIED\",\"collation\":\"\",\"defaultValueExpression\":\"\",\"isMeasure\":false,\"rangeElementType\":{\"type\":\"\"},\"foreignTypeDefinition\":\"\",\"dataGovernanceTags\":[],\"identityColumnInfo\":{\"generatedMode\":\"GENERATED_MODE_UNSPECIFIED\",\"start\":\"\",\"increment\":\"\"},\"generatedColumn\":{\"generatedMode\":\"GENERATED_MODE_UNSPECIFIED\",\"identityColumnInfo\":{\"generatedMode\":\"GENERATED_MODE_UNSPECIFIED\",\"start\":\"\",\"increment\":\"\"},\"generatedExpressionInfo\":{\"generationExpression\":\"\",\"asynchronous\":false,\"stored\":false},\"definition\":\"definitionNotSet\"},\"streamDefaultWatermarkPolicy\":{\"watermarkDelay\":\"0s\"},\"isHidden\":false,\"isRepeated\":false},{\"name\":\"package_id\",\"fullname\":\"package_id\",\"type\":\"STRING\",\"mode\":\"NULLABLE\",\"description\":\"\",\"fields\":[],\"hasPermission\":true,\"policyTags\":[],\"dataPolicies\":[],\"maxLength\":\"0\",\"precision\":\"0\",\"scale\":\"0\",\"timestampPrecision\":\"0\",\"roundingMode\":\"ROUNDING_MODE_UNSPECIFIED\",\"collation\":\"\",\"defaultValueExpression\":\"\",\"isMeasure\":false,\"rangeElementType\":{\"type\":\"\"},\"foreignTypeDefinition\":\"\",\"dataGovernanceTags\":[],\"identityColumnInfo\":{\"generatedMode\":\"GENERATED_MODE_UNSPECIFIED\",\"start\":\"\",\"increment\":\"\"},\"generatedColumn\":{\"generatedMode\":\"GENERATED_MODE_UNSPECIFIED\",\"identityColumnInfo\":{\"generatedMode\":\"GENERATED_MODE_UNSPECIFIED\",\"start\":\"\",\"increment\":\"\"},\"generatedExpressionInfo\":{\"generationExpression\":\"\",\"asynchronous\":false,\"stored\":false},\"definition\":\"definitionNotSet\"},\"streamDefaultWatermarkPolicy\":{\"watermarkDelay\":\"0s\"},\"isHidden\":false,\"isRepeated\":false},{\"name\":\"placement_id\",\"fullname\":\"placement_id\",\"type\":\"STRING\",\"mode\":\"NULLABLE\",\"description\":\"\",\"fields\":[],\"hasPermission\":true,\"policyTags\":[],\"dataPolicies\":[],\"maxLength\":\"0\",\"precision\":\"0\",\"scale\":\"0\",\"timestampPrecision\":\"0\",\"roundingMode\":\"ROUNDING_MODE_UNSPECIFIED\",\"collation\":\"\",\"defaultValueExpression\":\"\",\"isMeasure\":false,\"rangeElementType\":{\"type\":\"\"},\"foreignTypeDefinition\":\"\",\"dataGovernanceTags\":[],\"identityColumnInfo\":{\"generatedMode\":\"GENERATED_MODE_UNSPECIFIED\",\"start\":\"\",\"increment\":\"\"},\"generatedColumn\":{\"generatedMode\":\"GENERATED_MODE_UNSPECIFIED\",\"identityColumnInfo\":{\"generatedMode\":\"GENERATED_MODE_UNSPECIFIED\",\"start\":\"\",\"increment\":\"\"},\"generatedExpressionInfo\":{\"generationExpression\":\"\",\"asynchronous\":false,\"stored\":false},\"definition\":\"definitionNotSet\"},\"streamDefaultWatermarkPolicy\":{\"watermarkDelay\":\"0s\"},\"isHidden\":false,\"isRepeated\":false},{\"name\":\"impressions\",\"fullname\":\"impressions\",\"type\":\"INTEGER\",\"mode\":\"NULLABLE\",\"description\":\"\",\"fields\":[],\"hasPermission\":true,\"policyTags\":[],\"dataPolicies\":[],\"maxLength\":\"0\",\"precision\":\"0\",\"scale\":\"0\",\"timestampPrecision\":\"0\",\"roundingMode\":\"ROUNDING_MODE_UNSPECIFIED\",\"collation\":\"\",\"defaultValueExpression\":\"\",\"isMeasure\":false,\"rangeElementType\":{\"type\":\"\"},\"foreignTypeDefinition\":\"\",\"dataGovernanceTags\":[],\"identityColumnInfo\":{\"generatedMode\":\"GENERATED_MODE_UNSPECIFIED\",\"start\":\"\",\"increment\":\"\"},\"generatedColumn\":{\"generatedMode\":\"GENERATED_MODE_UNSPECIFIED\",\"identityColumnInfo\":{\"generatedMode\":\"GENERATED_MODE_UNSPECIFIED\",\"start\":\"\",\"increment\":\"\"},\"generatedExpressionInfo\":{\"generationExpression\":\"\",\"asynchronous\":false,\"stored\":false},\"definition\":\"definitionNotSet\"},\"streamDefaultWatermarkPolicy\":{\"watermarkDelay\":\"0s\"},\"isHidden\":false,\"isRepeated\":false},{\"name\":\"KEY\",\"fullname\":\"KEY\",\"type\":\"STRING\",\"mode\":\"NULLABLE\",\"description\":\"\",\"fields\":[],\"hasPermission\":true,\"policyTags\":[],\"dataPolicies\":[],\"maxLength\":\"0\",\"precision\":\"0\",\"scale\":\"0\",\"timestampPrecision\":\"0\",\"roundingMode\":\"ROUNDING_MODE_UNSPECIFIED\",\"collation\":\"\",\"defaultValueExpression\":\"\",\"isMeasure\":false,\"rangeElementType\":{\"type\":\"\"},\"foreignTypeDefinition\":\"\",\"dataGovernanceTags\":[],\"identityColumnInfo\":{\"generatedMode\":\"GENERATED_MODE_UNSPECIFIED\",\"start\":\"\",\"increment\":\"\"},\"generatedColumn\":{\"generatedMode\":\"GENERATED_MODE_UNSPECIFIED\",\"identityColumnInfo\":{\"generatedMode\":\"GENERATED_MODE_UNSPECIFIED\",\"start\":\"\",\"increment\":\"\"},\"generatedExpressionInfo\":{\"generationExpression\":\"\",\"asynchronous\":false,\"stored\":false},\"definition\":\"definitionNotSet\"},\"streamDefaultWatermarkPolicy\":{\"watermarkDelay\":\"0s\"},\"isHidden\":false,\"isRepeated\":false},{\"name\":\"ad\",\"fullname\":\"ad\",\"type\":\"STRING\",\"mode\":\"NULLABLE\",\"description\":\"\",\"fields\":[],\"hasPermission\":true,\"policyTags\":[],\"dataPolicies\":[],\"maxLength\":\"0\",\"precision\":\"0\",\"scale\":\"0\",\"timestampPrecision\":\"0\",\"roundingMode\":\"ROUNDING_MODE_UNSPECIFIED\",\"collation\":\"\",\"defaultValueExpression\":\"\",\"isMeasure\":false,\"rangeElementType\":{\"type\":\"\"},\"foreignTypeDefinition\":\"\",\"dataGovernanceTags\":[],\"identityColumnInfo\":{\"generatedMode\":\"GENERATED_MODE_UNSPECIFIED\",\"start\":\"\",\"increment\":\"\"},\"generatedColumn\":{\"generatedMode\":\"GENERATED_MODE_UNSPECIFIED\",\"identityColumnInfo\":{\"generatedMode\":\"GENERATED_MODE_UNSPECIFIED\",\"start\":\"\",\"increment\":\"\"},\"generatedExpressionInfo\":{\"generationExpression\":\"\",\"asynchronous\":false,\"stored\":false},\"definition\":\"definitionNotSet\"},\"streamDefaultWatermarkPolicy\":{\"watermarkDelay\":\"0s\"},\"isHidden\":false,\"isRepeated\":false},{\"name\":\"click_rate\",\"fullname\":\"click_rate\",\"type\":\"FLOAT\",\"mode\":\"NULLABLE\",\"description\":\"\",\"fields\":[],\"hasPermission\":true,\"policyTags\":[],\"dataPolicies\":[],\"maxLength\":\"0\",\"precision\":\"0\",\"scale\":\"0\",\"timestampPrecision\":\"0\",\"roundingMode\":\"ROUNDING_MODE_UNSPECIFIED\",\"collation\":\"\",\"defaultValueExpression\":\"\",\"isMeasure\":false,\"rangeElementType\":{\"type\":\"\"},\"foreignTypeDefinition\":\"\",\"dataGovernanceTags\":[],\"identityColumnInfo\":{\"generatedMode\":\"GENERATED_MODE_UNSPECIFIED\",\"start\":\"\",\"increment\":\"\"},\"generatedColumn\":{\"generatedMode\":\"GENERATED_MODE_UNSPECIFIED\",\"identityColumnInfo\":{\"generatedMode\":\"GENERATED_MODE_UNSPECIFIED\",\"start\":\"\",\"increment\":\"\"},\"generatedExpressionInfo\":{\"generationExpression\":\"\",\"asynchronous\":false,\"stored\":false},\"definition\":\"definitionNotSet\"},\"streamDefaultWatermarkPolicy\":{\"watermarkDelay\":\"0s\"},\"isHidden\":false,\"isRepeated\":false},{\"name\":\"clicks\",\"fullname\":\"clicks\",\"type\":\"INTEGER\",\"mode\":\"NULLABLE\",\"description\":\"\",\"fields\":[],\"hasPermission\":true,\"policyTags\":[],\"dataPolicies\":[],\"maxLength\":\"0\",\"precision\":\"0\",\"scale\":\"0\",\"timestampPrecision\":\"0\",\"roundingMode\":\"ROUNDING_MODE_UNSPECIFIED\",\"collation\":\"\",\"defaultValueExpression\":\"\",\"isMeasure\":false,\"rangeElementType\":{\"type\":\"\"},\"foreignTypeDefinition\":\"\",\"dataGovernanceTags\":[],\"identityColumnInfo\":{\"generatedMode\":\"GENERATED_MODE_UNSPECIFIED\",\"start\":\"\",\"increment\":\"\"},\"generatedColumn\":{\"generatedMode\":\"GENERATED_MODE_UNSPECIFIED\",\"identityColumnInfo\":{\"generatedMode\":\"GENERATED_MODE_UNSPECIFIED\",\"start\":\"\",\"increment\":\"\"},\"generatedExpressionInfo\":{\"generationExpression\":\"\",\"asynchronous\":false,\"stored\":false},\"definition\":\"definitionNotSet\"},\"streamDefaultWatermarkPolicy\":{\"watermarkDelay\":\"0s\"},\"isHidden\":false,\"isRepeated\":false}],\"rows\":[{\"f\":[{\"v\":\"2024-03-26\"},{\"v\":\"MassMutualIMT2023\"},{\"v\":\"Package_MASS_MMSD_MassMutual2023IMT_Display_Email-email_ADVISO_ADVISORPERSPECTIVES_newsletter_aware_clks|P2CL8J5_NewsletterLeaderboardMMSD_IMG_PKG_NA|dvcTyp:all_cxt_Broad_geo:na_Flat_10000.00\"},{\"v\":\"P2CL8J5\"},{\"v\":\"P2CL8J4\"},{\"v\":\"1\"},{\"v\":\"2024-03-26P2CL8J5-NewsletterLeaderboardMMSD-P2CL8J4-PartnershipAwareness | PartnershipAwareness\"},{\"v\":\"P2CL8J5-NewsletterLeaderboardMMSD-P2CL8J4-PartnershipAwareness | PartnershipAwareness\"},{\"v\":\"0.0\"},{\"v\":\"0\"},{\"v\":\"PartnershipAwareness_1 x 1\"},{\"v\":\"0.0\"},{\"v\":\"0\"},{\"v\":\"0\"},{\"v\":\"0.0\"},{\"v\":\"Flat\"},{\"v\":\"ADVISO_P2CL8J5_230629|230711_2023IMT_NewsletterLeaderboardMMSD_Flat_pRate:10000_p$:10000\"},{\"v\":\"2023-06-29\"},{\"v\":\"2023-09-09\"},{\"v\":\"13\"},{\"v\":\"769.23\"},{\"v\":\"10000.0\"},{\"v\":\"0.0\"},{\"v\":\"0\"},{\"v\":\"display\"},{\"v\":\"MassMutual\"},{\"v\":\"1\"},{\"v\":\"ended\"},{\"v\":\"10000.00\"},{\"v\":\"1\"},{\"v\":\"2024-02-05\"},{\"v\":\"2024-12-31\"},{\"v\":null},{\"v\":null},{\"v\":\"146\"},{\"v\":\"0\"},{\"v\":\"1\"},{\"v\":\"1.0\"},{\"v\":\"0.00684931506849315\"},{\"v\":null},{\"v\":null},{\"v\":\"10000.0\"},{\"v\":\"0.0\"},{\"v\":\"0\"},{\"v\":\"769230.0\"},{\"v\":\"0.0\"},{\"v\":\"OUT_OF_FLIGHT\"},{\"v\":\"0\"},{\"v\":\"P2CL8J4 || PartnershipAwareness_1 x 1\"},{\"v\":\"gs_advisorperspectives\"},{\"v\":\"Child_MASS_MMSD_MassMutual2023IMT_Display_Email-email_ADVISO_ADVISORPERSPECTIVES_newsletter_aware_clks|P2CL8J4_NewsletterLeaderboardMMSD_IMG_PartnershipAwareness_1x1|dvcTyp:all_cxt_Broad_geo:na_1 x 1_Flat_10000.00\"},{\"v\":\"mmsd_clicks_massmutual2023imt\"},{\"v\":\"email\"},{\"v\":\"static_p2cl8j5-newsletterleaderboardmmsd-p2cl8j4-partnershipawareness-partnershipawareness_learn\"},{\"v\":\"cxt_broad_na\"},{\"v\":\"Package_MASS_MMSD_MassMutual2023IMT_Display_Email-email_ADVISO_ADVISORPERSPECTIVES_newsletter_aware_clks|P2CL8J5_NewsletterLeaderboardMMSD_IMG_PKG_NA|dvcTyp:all_cxt_Broad_geo:na_Flat_10000.00\"},{\"v\":\"10000.0\"}]},{\"f\":[{\"v\":\"2025-02-12\"},{\"v\":\"MassMutualIMT2023\"},{\"v\":\"Package_MASS_MMSD_MassMutual2023IMT_Display_Standard-email_ADVISO_ADVISORPERSPECTIVES_newsletter_aware_clks|P2CL8JL_AVNewsletterBannerMMSD_IMG_PKG_NA|dvcTyp:all_cxt_Broad_geo:na_Free_0\"},{\"v\":\"P2CL8JL\"},{\"v\":\"P2CL8JM\"},{\"v\":\"2\"},{\"v\":\"2025-02-12P2CL8JL-AVNewsletterBannerMMSD-P2CL8JM-PartnershipAwareness | PartnershipAwareness\"},{\"v\":\"P2CL8JL-AVNewsletterBannerMMSD-P2CL8JM-PartnershipAwareness | PartnershipAwareness\"},{\"v\":\"0.0\"},{\"v\":\"0\"},{\"v\":\"PartnershipAwareness_1 x 1\"},{\"v\":\"0.0\"},{\"v\":\"0\"},{\"v\":\"0\"},{\"v\":\"0.0\"},{\"v\":\"Free\"},{\"v\":\"ADVISO_P2CL8JL_230914|230914_2023IMT_AVNewsletterBannerMMSD_Free_pRate:0_p$:0\"},{\"v\":\"2023-09-14\"},{\"v\":\"2023-11-13\"},{\"v\":\"1\"},{\"v\":\"0.0\"},{\"v\":\"0.0\"},{\"v\":\"0.0\"},{\"v\":\"0\"},{\"v\":\"display\"},{\"v\":\"MassMutual\"},{\"v\":\"1\"},{\"v\":\"ended\"},{\"v\":\"0\"},{\"v\":\"1\"},{\"v\":\"2024-01-30\"},{\"v\":\"2025-05-07\"},{\"v\":null},{\"v\":null},{\"v\":\"83\"},{\"v\":\"0\"},{\"v\":\"2\"},{\"v\":\"1.0\"},{\"v\":\"0.024096385542168676\"},{\"v\":null},{\"v\":null},{\"v\":\"0.0\"},{\"v\":\"0.0\"},{\"v\":\"0\"},{\"v\":\"0.0\"},{\"v\":\"0.0\"},{\"v\":\"OUT_OF_FLIGHT\"},{\"v\":\"0\"},{\"v\":\"P2CL8JM || PartnershipAwareness_1 x 1\"},{\"v\":\"gs_advisorperspectives\"},{\"v\":\"Child_MASS_MMSD_MassMutual2023IMT_Display_Standard-email_ADVISO_ADVISORPERSPECTIVES_newsletter_aware_clks|P2CL8JM_AVNewsletterBannerMMSD_IMG_PartnershipAwareness_300x250|dvcTyp:all_cxt_Broad_geo:na_1 x 1_Free_0\"},{\"v\":\"mmsd_free_massmutual2023imt\"},{\"v\":\"email\"},{\"v\":\"static_p2cl8jl-avnewsletterbannermmsd-p2cl8jm-partnershipawareness-partnershipawareness_learn\"},{\"v\":\"cxt_broad_na\"},{\"v\":\"Package_MASS_MMSD_MassMutual2023IMT_Display_Standard-email_ADVISO_ADVISORPERSPECTIVES_newsletter_aware_clks|P2CL8JL_AVNewsletterBannerMMSD_IMG_PKG_NA|dvcTyp:all_cxt_Broad_geo:na_Free_0\"},{\"v\":\"0.0\"}]},{\"f\":[{\"v\":\"2024-03-04\"},{\"v\":\"MassMutualIMT2023\"},{\"v\":\"Package_MASS_WLPP_MassMutual2023IMT_Display_Standard-email_ADVISO_ADVISORPERSPECTIVES_newsletter_aware_clks|P2CL8JN_AVNewsletterBannerWLPP_IMG_PKG_NA|dvcTyp:all_cxt_Broad_geo:na_Free_0\"},{\"v\":\"P2CL8JN\"},{\"v\":\"P2CL8JP\"},{\"v\":\"3\"},{\"v\":\"2024-03-04P2CL8JN-AVNewsletterBannerWLPP-P2CL8JP-Dependability | Dependability\"},{\"v\":\"P2CL8JN-AVNewsletterBannerWLPP-P2CL8JP-Dependability | Dependability\"},{\"v\":\"0.0\"},{\"v\":\"0\"},{\"v\":\"Dependability_1 x 1\"},{\"v\":\"0.0\"},{\"v\":\"0\"},{\"v\":\"0\"},{\"v\":\"0.0\"},{\"v\":\"Free\"},{\"v\":\"ADVISO_P2CL8JN_230927|230927_2023IMT_AVNewsletterBannerWLPP_Free_pRate:0_p$:0\"},{\"v\":\"2023-09-27\"},{\"v\":\"2023-11-26\"},{\"v\":\"1\"},{\"v\":\"0.0\"},{\"v\":\"0.0\"},{\"v\":\"0.0\"},{\"v\":\"0\"},{\"v\":\"display\"},{\"v\":\"MassMutual\"},{\"v\":\"1\"},{\"v\":\"ended\"},{\"v\":\"0\"},{\"v\":\"1\"},{\"v\":\"2024-01-30\"},{\"v\":\"2025-05-07\"},{\"v\":null},{\"v\":null},{\"v\":\"107\"},{\"v\":\"0\"},{\"v\":\"3\"},{\"v\":\"1.0\"},{\"v\":\"0.028037383177570093\"},{\"v\":null},{\"v\":null},{\"v\":\"0.0\"},{\"v\":\"0.0\"},{\"v\":\"0\"},{\"v\":\"0.0\"},{\"v\":\"0.0\"},{\"v\":\"OUT_OF_FLIGHT\"},{\"v\":\"0\"},{\"v\":\"P2CL8JP || Dependability_1 x 1\"},{\"v\":\"gs_advisorperspectives\"},{\"v\":\"Child_MASS_WLPP_MassMutual2023IMT_Display_Standard-email_ADVISO_ADVISORPERSPECTIVES_newsletter_aware_clks|P2CL8JP_AVNewsletterBannerWLPP_IMG_Dependability_1x1|dvcTyp:all_cxt_Broad_geo:na_1 x 1_Free_0\"},{\"v\":\"wlpp_free_massmutual2023imt\"},{\"v\":\"email\"},{\"v\":\"static_p2cl8jn-avnewsletterbannerwlpp-p2cl8jp-dependability-dependability_learn\"},{\"v\":\"cxt_broad_na\"},{\"v\":\"Package_MASS_WLPP_MassMutual2023IMT_Display_Standard-email_ADVISO_ADVISORPERSPECTIVES_newsletter_aware_clks|P2CL8JN_AVNewsletterBannerWLPP_IMG_PKG_NA|dvcTyp:all_cxt_Broad_geo:na_Free_0\"},{\"v\":\"0.0\"}]},{\"f\":[{\"v\":\"2024-02-05\"},{\"v\":\"MassMutualIMT2023\"},{\"v\":\"Package_MASS_WLPP_MassMutual2023IMT_Display_Standard-email_SMARTB_SMARTBRIEF_newsletter_aware_clks|P2CLF0Q_ATFFSIWLPP_IMG_PKG_NA|dvcTyp:all_cxt_Broad_geo:na_Flat_5250.00\"},{\"v\":\"P2CLF0Q\"},{\"v\":\"P2CLF0R\"},{\"v\":\"1\"},{\"v\":\"2024-02-05P2CLF0Q-ATFFSIWLPP-P2CLF0R-Dependability | Dependability\"},{\"v\":\"P2CLF0Q-ATFFSIWLPP-P2CLF0R-Dependability | Dependability\"},{\"v\":\"0.0\"},{\"v\":\"0\"},{\"v\":\"DependabilityN_1 x 1\"},{\"v\":\"0.0\"},{\"v\":\"0\"},{\"v\":\"0\"},{\"v\":\"1.0\"},{\"v\":\"Flat\"},{\"v\":\"SMARTB_P2CLF0Q_230801|231215_2023IMT_ATFFSIWLPP_Flat_pRate:5250_p$:5250\"},{\"v\":\"2023-08-01\"},{\"v\":\"2024-02-13\"},{\"v\":\"137\"},{\"v\":\"38.32\"},{\"v\":\"5250.0\"},{\"v\":\"0.0\"},{\"v\":\"0\"},{\"v\":\"display\"},{\"v\":\"MassMutual\"},{\"v\":\"0\"},{\"v\":\"ended\"},{\"v\":\"5250.00\"},{\"v\":\"1\"},{\"v\":\"2024-01-30\"},{\"v\":\"2024-12-31\"},{\"v\":\"2024-01-30\"},{\"v\":\"2024-02-13\"},{\"v\":\"434\"},{\"v\":\"60\"},{\"v\":\"1\"},{\"v\":\"1.0\"},{\"v\":\"0.002304147465437788\"},{\"v\":\"0.016666666666666666\"},{\"v\":\"15\"},{\"v\":\"5250.0\"},{\"v\":\"0.0\"},{\"v\":\"0\"},{\"v\":\"38320.0\"},{\"v\":\"87.50000175\"},{\"v\":\"FLAT_DAILY\"},{\"v\":\"1\"},{\"v\":\"P2CLF0R || DependabilityN_1 x 1\"},{\"v\":null},{\"v\":null},{\"v\":null},{\"v\":null},{\"v\":null},{\"v\":null},{\"v\":\"Package_MASS_WLPP_MassMutual2023IMT_Display_Standard-email_SMARTB_SMARTBRIEF_newsletter_aware_clks|P2CLF0Q_ATFFSIWLPP_IMG_PKG_NA|dvcTyp:all_cxt_Broad_geo:na_Flat_5250.00\"},{\"v\":\"5250.0\"}]},{\"f\":[{\"v\":\"2024-04-09\"},{\"v\":\"MassMutualIMT2023\"},{\"v\":\"Package_MASS_WLPP_MassMutual2023IMT_Display_Standard-email_SMARTB_SMARTBRIEF_newsletter_aware_clks|P2CLF0Q_ATFFSIWLPP_IMG_PKG_NA|dvcTyp:all_cxt_Broad_geo:na_Flat_5250.00\"},{\"v\":\"P2CLF0Q\"},{\"v\":\"P2CLF0R\"},{\"v\":\"3\"},{\"v\":\"2024-04-09P2CLF0Q-ATFFSIWLPP-P2CLF0R-Dependability | Dependability\"},{\"v\":\"P2CLF0Q-ATFFSIWLPP-P2CLF0R-Dependability | Dependability\"},{\"v\":\"0.0\"},{\"v\":\"0\"},{\"v\":\"DependabilityN_1 x 1\"},{\"v\":\"0.0\"},{\"v\":\"0\"},{\"v\":\"0\"},{\"v\":\"0.0\"},{\"v\":\"Flat\"},{\"v\":\"SMARTB_P2CLF0Q_230801|231215_2023IMT_ATFFSIWLPP_Flat_pRate:5250_p$:5250\"},{\"v\":\"2023-08-01\"},{\"v\":\"2024-02-13\"},{\"v\":\"137\"},{\"v\":\"38.32\"},{\"v\":\"5250.0\"},{\"v\":\"0.0\"},{\"v\":\"0\"},{\"v\":\"display\"},{\"v\":\"MassMutual\"},{\"v\":\"1\"},{\"v\":\"ended\"},{\"v\":\"5250.00\"},{\"v\":\"1\"},{\"v\":\"2024-01-30\"},{\"v\":\"2024-12-31\"},{\"v\":\"2024-01-30\"},{\"v\":\"2024-02-13\"},{\"v\":\"434\"},{\"v\":\"60\"},{\"v\":\"3\"},{\"v\":\"1.0\"},{\"v\":\"0.0069124423963133645\"},{\"v\":\"0.05\"},{\"v\":\"15\"},{\"v\":\"5250.0\"},{\"v\":\"0.0\"},{\"v\":\"0\"},{\"v\":\"12773.333333333334\"},{\"v\":\"0.0\"},{\"v\":\"OUT_OF_FLIGHT\"},{\"v\":\"0\"},{\"v\":\"P2CLF0R || DependabilityN_1 x 1\"},{\"v\":null},{\"v\":null},{\"v\":null},{\"v\":null},{\"v\":null},{\"v\":null},{\"v\":\"Package_MASS_WLPP_MassMutual2023IMT_Display_Standard-email_SMARTB_SMARTBRIEF_newsletter_aware_clks|P2CLF0Q_ATFFSIWLPP_IMG_PKG_NA|dvcTyp:all_cxt_Broad_geo:na_Flat_5250.00\"},{\"v\":\"5250.0\"}]},{\"f\":[{\"v\":\"2024-04-19\"},{\"v\":\"MassMutualIMT2023\"},{\"v\":\"Package_MASS_MMSD_MassMutual2023IMT_Display_Standard-email_SMARTB_SMARTBRIEF_newsletter_aware_clks|P2CLF1L_ATFFSIMMSD_IMG_PKG_NA|dvcTyp:all_cxt_Broad_geo:na_Flat_5250.00\"},{\"v\":\"P2CLF1L\"},{\"v\":\"P2CLF1M\"},{\"v\":\"3\"},{\"v\":\"2024-04-19P2CLF1L-ATFFSIMMSD-P2CLF1M-AnnuityConsiderationImg | AnnuityConsiderationImg\"},{\"v\":\"P2CLF1L-ATFFSIMMSD-P2CLF1M-AnnuityConsiderationImg | AnnuityConsiderationImg\"},{\"v\":\"0.0\"},{\"v\":\"0\"},{\"v\":\"AnnuityConsiderationImg_1 x 1\"},{\"v\":\"0.0\"},{\"v\":\"0\"},{\"v\":\"0\"},{\"v\":\"0.0\"},{\"v\":\"Flat\"},{\"v\":\"SMARTB_P2CLF1L_230801|231215_2023IMT_ATFFSIMMSD_Flat_pRate:5250_p$:5250\"},{\"v\":\"2023-08-01\"},{\"v\":\"2024-02-13\"},{\"v\":\"137\"},{\"v\":\"38.32\"},{\"v\":\"5250.0\"},{\"v\":\"0.0\"},{\"v\":\"0\"},{\"v\":\"display\"},{\"v\":\"MassMutual\"},{\"v\":\"1\"},{\"v\":\"ended\"},{\"v\":\"5250.00\"},{\"v\":\"1\"},{\"v\":\"2024-01-30\"},{\"v\":\"2025-05-08\"},{\"v\":\"2024-01-30\"},{\"v\":\"2024-02-13\"},{\"v\":\"317\"},{\"v\":\"65\"},{\"v\":\"3\"},{\"v\":\"1.0\"},{\"v\":\"0.00946372239747634\"},{\"v\":\"0.046153846153846156\"},{\"v\":\"15\"},{\"v\":\"5250.0\"},{\"v\":\"0.0\"},{\"v\":\"0\"},{\"v\":\"12773.333333333334\"},{\"v\":\"0.0\"},{\"v\":\"OUT_OF_FLIGHT\"},{\"v\":\"0\"},{\"v\":\"P2CLF1M || AnnuityConsiderationImg_1 x 1\"},{\"v\":\"gs_smartbrief\"},{\"v\":\"Child_MASS_MMSD_MassMutual2023IMT_Display_Standard-email_SMARTB_SMARTBRIEF_newsletter_aware_clks|P2CLF1M_ATFFSIMMSD_IMG_AnnuityConsiderationImg_1x1|dvcTyp:all_cxt_Broad_geo:na_1 x 1_Flat_5250.00\"},{\"v\":\"mmsd_clicks_massmutual2023imt\"},{\"v\":\"email\"},{\"v\":\"static_p2clf1l-atffsimmsd-p2clf1m-annuityconsiderationimg-annuityconsiderationimg_learn\"},{\"v\":\"cxt_broad_na\"},{\"v\":\"Package_MASS_MMSD_MassMutual2023IMT_Display_Standard-email_SMARTB_SMARTBRIEF_newsletter_aware_clks|P2CLF1L_ATFFSIMMSD_IMG_PKG_NA|dvcTyp:all_cxt_Broad_geo:na_Flat_5250.00\"},{\"v\":\"5250.0\"}]},{\"f\":[{\"v\":\"2024-08-23\"},{\"v\":\"MassMutualIMT2023\"},{\"v\":\"Package_MASS_MMSD_MassMutual2023IMT_Display_Standard-email_SMARTB_SMARTBRIEF_newsletter_aware_clks|P2CLF1L_ATFFSIMMSD_IMG_PKG_NA|dvcTyp:all_cxt_Broad_geo:na_Flat_5250.00\"},{\"v\":\"P2CLF1L\"},{\"v\":\"P2CLF1M\"},{\"v\":\"1\"},{\"v\":\"2024-08-23P2CLF1L-ATFFSIMMSD-P2CLF1M-AnnuityConsiderationImg | AnnuityConsiderationImg\"},{\"v\":\"P2CLF1L-ATFFSIMMSD-P2CLF1M-AnnuityConsiderationImg | AnnuityConsiderationImg\"},{\"v\":\"0.0\"},{\"v\":\"0\"},{\"v\":\"AnnuityConsiderationImg_1 x 1\"},{\"v\":\"0.0\"},{\"v\":\"0\"},{\"v\":\"0\"},{\"v\":\"0.0\"},{\"v\":\"Flat\"},{\"v\":\"SMARTB_P2CLF1L_230801|231215_2023IMT_ATFFSIMMSD_Flat_pRate:5250_p$:5250\"},{\"v\":\"2023-08-01\"},{\"v\":\"2024-02-13\"},{\"v\":\"137\"},{\"v\":\"38.32\"},{\"v\":\"5250.0\"},{\"v\":\"0.0\"},{\"v\":\"0\"},{\"v\":\"display\"},{\"v\":\"MassMutual\"},{\"v\":\"1\"},{\"v\":\"ended\"},{\"v\":\"5250.00\"},{\"v\":\"1\"},{\"v\":\"2024-01-30\"},{\"v\":\"2025-05-08\"},{\"v\":\"2024-01-30\"},{\"v\":\"2024-02-13\"},{\"v\":\"317\"},{\"v\":\"65\"},{\"v\":\"1\"},{\"v\":\"1.0\"},{\"v\":\"0.0031545741324921135\"},{\"v\":\"0.015384615384615385\"},{\"v\":\"15\"},{\"v\":\"5250.0\"},{\"v\":\"0.0\"},{\"v\":\"0\"},{\"v\":\"38320.0\"},{\"v\":\"0.0\"},{\"v\":\"OUT_OF_FLIGHT\"},{\"v\":\"0\"},{\"v\":\"P2CLF1M || AnnuityConsiderationImg_1 x 1\"},{\"v\":\"gs_smartbrief\"},{\"v\":\"Child_MASS_MMSD_MassMutual2023IMT_Display_Standard-email_SMARTB_SMARTBRIEF_newsletter_aware_clks|P2CLF1M_ATFFSIMMSD_IMG_AnnuityConsiderationImg_1x1|dvcTyp:all_cxt_Broad_geo:na_1 x 1_Flat_5250.00\"},{\"v\":\"mmsd_clicks_massmutual2023imt\"},{\"v\":\"email\"},{\"v\":\"static_p2clf1l-atffsimmsd-p2clf1m-annuityconsiderationimg-annuityconsiderationimg_learn\"},{\"v\":\"cxt_broad_na\"},{\"v\":\"Package_MASS_MMSD_MassMutual2023IMT_Display_Standard-email_SMARTB_SMARTBRIEF_newsletter_aware_clks|P2CLF1L_ATFFSIMMSD_IMG_PKG_NA|dvcTyp:all_cxt_Broad_geo:na_Flat_5250.00\"},{\"v\":\"5250.0\"}]},{\"f\":[{\"v\":\"2024-11-09\"},{\"v\":\"MassMutualIMT2023\"},{\"v\":\"Package_MASS_WLPP_MassMutual2023IMT_Display_Standard-email_SMARTB_SMARTBRIEF_newsletter_aware_clks|P2CLF2P_ATFSifmaWLPP_IMG_PKG_NA|dvcTyp:all_cxt_Broad_geo:na_Flat_5000.00\"},{\"v\":\"P2CLF2P\"},{\"v\":\"P2CLF2N\"},{\"v\":\"3\"},{\"v\":\"2024-11-09P2CLF2P-ATFSifmaWLPP-P2CLF2N-Dependability | Dependability\"},{\"v\":\"P2CLF2P-ATFSifmaWLPP-P2CLF2N-Dependability | Dependability\"},{\"v\":\"0.0\"},{\"v\":\"0\"},{\"v\":\"DependabilityN_1 x 1\"},{\"v\":\"0.0\"},{\"v\":\"0\"},{\"v\":\"0\"},{\"v\":\"0.0\"},{\"v\":\"Flat\"},{\"v\":\"SMARTB_P2CLF2P_230801|231215_2023IMT_ATFSifmaWLPP_Flat_pRate:5000_p$:5000\"},{\"v\":\"2023-08-01\"},{\"v\":\"2024-02-13\"},{\"v\":\"137\"},{\"v\":\"36.5\"},{\"v\":\"5000.0\"},{\"v\":\"0.0\"},{\"v\":\"0\"},{\"v\":\"display\"},{\"v\":\"MassMutual\"},{\"v\":\"1\"},{\"v\":\"ended\"},{\"v\":\"5000.00\"},{\"v\":\"1\"},{\"v\":\"2024-01-30\"},{\"v\":\"2024-12-31\"},{\"v\":\"2024-01-30\"},{\"v\":\"2024-02-13\"},{\"v\":\"293\"},{\"v\":\"41\"},{\"v\":\"3\"},{\"v\":\"1.0\"},{\"v\":\"0.010238907849829351\"},{\"v\":\"0.073170731707317069\"},{\"v\":\"15\"},{\"v\":\"5000.0\"},{\"v\":\"0.0\"},{\"v\":\"0\"},{\"v\":\"12166.666666666666\"},{\"v\":\"0.0\"},{\"v\":\"OUT_OF_FLIGHT\"},{\"v\":\"0\"},{\"v\":\"P2CLF2N || DependabilityN_1 x 1\"},{\"v\":null},{\"v\":null},{\"v\":null},{\"v\":null},{\"v\":null},{\"v\":null},{\"v\":\"Package_MASS_WLPP_MassMutual2023IMT_Display_Standard-email_SMARTB_SMARTBRIEF_newsletter_aware_clks|P2CLF2P_ATFSifmaWLPP_IMG_PKG_NA|dvcTyp:all_cxt_Broad_geo:na_Flat_5000.00\"},{\"v\":\"5000.0\"}]},{\"f\":[{\"v\":\"2024-11-10\"},{\"v\":\"MassMutualIMT2023\"},{\"v\":\"Package_MASS_WLPP_MassMutual2023IMT_Display_Standard-email_SMARTB_SMARTBRIEF_newsletter_aware_clks|P2CLF2P_ATFSifmaWLPP_IMG_PKG_NA|dvcTyp:all_cxt_Broad_geo:na_Flat_5000.00\"},{\"v\":\"P2CLF2P\"},{\"v\":\"P2CLF2N\"},{\"v\":\"1\"},{\"v\":\"2024-11-10P2CLF2P-ATFSifmaWLPP-P2CLF2N-Dependability | Dependability\"},{\"v\":\"P2CLF2P-ATFSifmaWLPP-P2CLF2N-Dependability | Dependability\"},{\"v\":\"0.0\"},{\"v\":\"0\"},{\"v\":\"DependabilityN_1 x 1\"},{\"v\":\"0.0\"},{\"v\":\"0\"},{\"v\":\"0\"},{\"v\":\"0.0\"},{\"v\":\"Flat\"},{\"v\":\"SMARTB_P2CLF2P_230801|231215_2023IMT_ATFSifmaWLPP_Flat_pRate:5000_p$:5000\"},{\"v\":\"2023-08-01\"},{\"v\":\"2024-02-13\"},{\"v\":\"137\"},{\"v\":\"36.5\"},{\"v\":\"5000.0\"},{\"v\":\"0.0\"},{\"v\":\"0\"},{\"v\":\"display\"},{\"v\":\"MassMutual\"},{\"v\":\"1\"},{\"v\":\"ended\"},{\"v\":\"5000.00\"},{\"v\":\"1\"},{\"v\":\"2024-01-30\"},{\"v\":\"2024-12-31\"},{\"v\":\"2024-01-30\"},{\"v\":\"2024-02-13\"},{\"v\":\"293\"},{\"v\":\"41\"},{\"v\":\"1\"},{\"v\":\"1.0\"},{\"v\":\"0.0034129692832764505\"},{\"v\":\"0.024390243902439025\"},{\"v\":\"15\"},{\"v\":\"5000.0\"},{\"v\":\"0.0\"},{\"v\":\"0\"},{\"v\":\"36500.0\"},{\"v\":\"0.0\"},{\"v\":\"OUT_OF_FLIGHT\"},{\"v\":\"0\"},{\"v\":\"P2CLF2N || DependabilityN_1 x 1\"},{\"v\":null},{\"v\":null},{\"v\":null},{\"v\":null},{\"v\":null},{\"v\":null},{\"v\":\"Package_MASS_WLPP_MassMutual2023IMT_Display_Standard-email_SMARTB_SMARTBRIEF_newsletter_aware_clks|P2CLF2P_ATFSifmaWLPP_IMG_PKG_NA|dvcTyp:all_cxt_Broad_geo:na_Flat_5000.00\"},{\"v\":\"5000.0\"}]},{\"f\":[{\"v\":\"2024-02-08\"},{\"v\":\"MassMutualIMT2023\"},{\"v\":\"Package_MASS_MMSD_MassMutual2023IMT_Display_Standard-email_SMARTB_SMARTBRIEF_newsletter_aware_clks|P2CLF55_ATFFPAMMSD_IMG_PKG_NA|dvcTyp:all_cxt_Broad_geo:na_Flat_5850.00\"},{\"v\":\"P2CLF55\"},{\"v\":\"P2CLF56\"},{\"v\":\"1\"},{\"v\":\"2024-02-08P2CLF55-ATFFPAMMSD-P2CLF56-DIAwarenessN | DIAwarenessN\"},{\"v\":\"P2CLF55-ATFFPAMMSD-P2CLF56-DIAwarenessN | DIAwarenessN\"},{\"v\":\"0.0\"},{\"v\":\"0\"},{\"v\":\"DIAwarenessN_1 x 1\"},{\"v\":\"0.0\"},{\"v\":\"0\"},{\"v\":\"0\"},{\"v\":\"0.0\"},{\"v\":\"Flat\"},{\"v\":\"SMARTB_P2CLF55_230801|231215_2023IMT_ATFFPAMMSD_Flat_pRate:5850_p$:5850\"},{\"v\":\"2023-08-01\"},{\"v\":\"2024-02-13\"},{\"v\":\"137\"},{\"v\":\"42.7\"},{\"v\":\"5850.0\"},{\"v\":\"0.0\"},{\"v\":\"0\"},{\"v\":\"display\"},{\"v\":\"MassMutual\"},{\"v\":\"0\"},{\"v\":\"ended\"},{\"v\":\"5850.00\"},{\"v\":\"1\"},{\"v\":\"2024-01-30\"},{\"v\":\"2025-04-11\"},{\"v\":\"2024-01-30\"},{\"v\":\"2024-02-13\"},{\"v\":\"236\"},{\"v\":\"45\"},{\"v\":\"1\"},{\"v\":\"1.0\"},{\"v\":\"0.00423728813559322\"},{\"v\":\"0.022222222222222223\"},{\"v\":\"15\"},{\"v\":\"5850.0\"},{\"v\":\"0.0\"},{\"v\":\"0\"},{\"v\":\"42700.0\"},{\"v\":\"129.9999987\"},{\"v\":\"FLAT_DAILY\"},{\"v\":\"1\"},{\"v\":\"P2CLF56 || DIAwarenessN_1 x 1\"},{\"v\":\"gs_smartbrief\"},{\"v\":\"Child_MASS_MMSD_MassMutual2023IMT_Display_Standard-email_SMARTB_SMARTBRIEF_newsletter_aware_clks|P2CLF56_ATFFPAMMSD_IMG_DIAwarenessN_1x1|dvcTyp:all_cxt_Broad_geo:na_1 x 1_Flat_5850.00\"},{\"v\":\"mmsd_clicks_massmutual2023imt\"},{\"v\":\"email\"},{\"v\":\"native_p2clf55-atffpammsd-p2clf56-diawarenessn-diawarenessn_learn\"},{\"v\":\"cxt_broad_na\"},{\"v\":\"Package_MASS_MMSD_MassMutual2023IMT_Display_Standard-email_SMARTB_SMARTBRIEF_newsletter_aware_clks|P2CLF55_ATFFPAMMSD_IMG_PKG_NA|dvcTyp:all_cxt_Broad_geo:na_Flat_5850.00\"},{\"v\":\"5850.0\"}]}]}",
        "hasStartedMultiturnSession": true,
        "resultsView": {
          "jobReference": {
            "projectId": "looker-studio-pro-452620",
            "jobId": "bquxjob_1cc741eb_196c515f84d",
            "location": "US"
          },
          "destinationTable": {
            "projectId": "looker-studio-pro-452620",
            "datasetId": "_bd9df8445e419809648f541b13160572fb3564f1",
            "tableId": "anon436dfd2a_d22d_4784_a9be_bf847578b062",
            "projectIdAlternative": [],
            "datasetIdAlternative": [],
            "tableIdAlternative": []
          }
        }
      }
    },
    {
      "cell_type": "aidi-dag-node",
      "metadata": {
        "name": "",
        "tags": [],
        "pullContextTime": "1746739678868",
        "createTime": "1746739678868",
        "updateTime": "1746811848307",
        "outputContextCreateTime": "1746811848307",
        "outputContextHash": 796296038,
        "nodeHeight": 540,
        "nodeWidth": 800,
        "positionX": 1674.7386363636363,
        "positionY": 495.14772727272725
      },
      "id": "table-dag-node-1746739678868-4",
      "type": "table",
      "state": "COMPLETE",
      "nlInput": "",
      "nlInputHistory": [],
      "modelResponse": "",
      "children": [],
      "groupId": "",
      "collapsedSubgraphId": "",
      "isMultiturnNodeType": false,
      "additional_properties": {
        "reference": {
          "projectId": "looker-studio-pro-452620",
          "datasetId": "final_views",
          "tableId": "utms_view"
        },
        "title": "utms_view",
        "isCollapsed": false,
        "preCollapsedNodeHeight": 0,
        "preCollapsedNodeWidth": 0
      }
    },
    {
      "cell_type": "aidi-dag-node",
      "metadata": {
        "name": "",
        "tags": [],
        "pullContextTime": "1746918601520",
        "createTime": "1746918518705",
        "generateTime": "1746918936843",
        "startRunTime": "1746918946219",
        "endRunTime": "1746918948141",
        "updateTime": "1747063156176",
        "outputContextCreateTime": "1746918948141",
        "outputContextHash": -1580744085,
        "nodeHeight": 785,
        "nodeWidth": 1422,
        "positionX": 1849.2682926829268,
        "positionY": 2295.121951219512
      },
      "id": "bq-code-editor-dag-node-1746918518705-5",
      "type": "bq-code-editor",
      "state": "COMPLETE",
      "nlInput": "select rows where utm_campaign is null",
      "nlInputHistory": [
        "select rows where utm_campaign is null",
        "group by package name",
        "select rows where utm_campaign is null and had over 1k impressions in 2025. group by package name"
      ],
      "modelResponse": "SELECT\n  t0.package_roadblock\nFROM\n  `dcm_prisma_utms Join` AS t0\nWHERE\n  t0.utm_campaign IS NULL\n  AND EXTRACT(YEAR\n  FROM\n    t0.date) = 2025\n  AND t0.impressions > 1000\nGROUP BY\n  1;",
      "children": [
        "bq-code-editor-dag-node-1746919076515-8"
      ],
      "groupId": "",
      "collapsedSubgraphId": "",
      "isMultiturnNodeType": true,
      "additional_properties": {
        "content": "-- prompts:\n-- 1. select rows where utm_campaign is null\n-- 2. group by package name\n-- 3. select rows where utm_campaign is null and had over 1k impressions in 2025. group by package name\n\nSELECT\n  t0.package_roadblock\nFROM\n  `dcm_prisma_utms Join` AS t0\nWHERE\n  t0.utm_campaign IS NULL\n  AND EXTRACT(YEAR\n  FROM\n    t0.date) = 2025\n  AND t0.impressions > 1000\nGROUP BY\n  1;",
        "citationIndexes": [],
        "generateOnInit": false,
        "focusOnInit": false,
        "title": "SQL",
        "collapsedSql": false,
        "isCollapsed": false,
        "preCollapsedNodeHeight": 0,
        "preCollapsedNodeWidth": 0,
        "context": {
          "tableContext": {
            "tableReferences": [
              {
                "projectId": "looker-studio-pro-452620",
                "datasetId": "_bd9df8445e419809648f541b13160572fb3564f1",
                "tableId": "anonf76dccdc_34e8_4047_a16e_b537535a984b",
                "projectIdAlternative": [],
                "datasetIdAlternative": [],
                "tableIdAlternative": []
              }
            ]
          }
        },
        "focusNlInputOnInit": true,
        "hasStartedMultiturnSession": true,
        "generationUuids": {
          "sqlGenUuid": "dataport-gen-session-DC736390-03F3-464F-9479-0D2584D6ABA1"
        },
        "staticResults": "{\"fields\":[{\"name\":\"package_roadblock\",\"fullname\":\"package_roadblock\",\"type\":\"STRING\",\"mode\":\"NULLABLE\",\"description\":\"\",\"fields\":[],\"hasPermission\":true,\"policyTags\":[],\"dataPolicies\":[],\"maxLength\":\"0\",\"precision\":\"0\",\"scale\":\"0\",\"timestampPrecision\":\"0\",\"roundingMode\":\"ROUNDING_MODE_UNSPECIFIED\",\"collation\":\"\",\"defaultValueExpression\":\"\",\"isMeasure\":false,\"rangeElementType\":{\"type\":\"\"},\"foreignTypeDefinition\":\"\",\"dataGovernanceTags\":[],\"identityColumnInfo\":{\"generatedMode\":\"GENERATED_MODE_UNSPECIFIED\",\"start\":\"\",\"increment\":\"\"},\"generatedColumn\":{\"generatedMode\":\"GENERATED_MODE_UNSPECIFIED\",\"identityColumnInfo\":{\"generatedMode\":\"GENERATED_MODE_UNSPECIFIED\",\"start\":\"\",\"increment\":\"\"},\"generatedExpressionInfo\":{\"generationExpression\":\"\",\"asynchronous\":false,\"stored\":false},\"definition\":\"definitionNotSet\"},\"streamDefaultWatermarkPolicy\":{\"watermarkDelay\":\"0s\"},\"isHidden\":false,\"isRepeated\":false}],\"rows\":[{\"f\":[{\"v\":\"Package_ICE_ICE_ICE-CNBC Partnership[Client Paid]_Display_Standard-display_CNBC_CNBC.COM_ROS_aware_imps|P2YTWVQ_ICE2024_IMG_Climate_All|dvcTyp:na_tact:all_aud:na_geo:na_Free_0\"}]},{\"f\":[{\"v\":\"Package_MASS_BRAN_MassMutual20242025Media_Video_OTT-video_NESN_NESN_Video_Reach_imps|P32NQCR_NESN360Streaming_Video30_PKG_NA|dvcTyp:all_Contextual_RisingAffluent_Local_Free_0\"}]},{\"f\":[{\"v\":\"Package_ICE_ICE_ICE-CNBC Partnership[Client Paid]_Display_Standard-display_CNBC_CNBC_ROS_aware_imps|P2WX94Z_Energy_IMG_PKG_NA|dvcTyp:all_tact:na_aud:na_geo:na_Free_0\"}]},{\"f\":[{\"v\":\"Package_MASS_BRAN_MassMutual20242025Media_Video_OTT-video_DISNED_DISNEY-HULU_Video_aware_imps|P2XRTG2_VideoCommercial_PKG_PKG_NA|dvcTyp:all_demo_RisingAffluentWealthManagement_geo:na_CPM_35.6800\"}]},{\"f\":[{\"v\":\"Package_MASS_MMWM_MassMutualWealthManagement2025_Display_Standard-display_BLOOM_BLOOMBERG_ROS_PKG_PKG|P31Y0QX_DisplayBannerTopics_PKG_PKG_PKG|dvcTyp:all_PKG_PKG_geo:na_CPM_97.0000\"}]}]}",
        "resultsView": {
          "jobReference": {
            "projectId": "looker-studio-pro-452620",
            "jobId": "bquxjob_3fe5c3fd_196bc7bb7ab",
            "location": "US"
          },
          "destinationTable": {
            "projectId": "looker-studio-pro-452620",
            "datasetId": "_bd9df8445e419809648f541b13160572fb3564f1",
            "tableId": "anon995e8b4efb1a8dc68e227e65a390dd5ec3912406669b5819a61aaa0987049ba7",
            "projectIdAlternative": [],
            "datasetIdAlternative": [],
            "tableIdAlternative": []
          }
        }
      }
    },
    {
      "cell_type": "aidi-dag-node",
      "metadata": {
        "name": "",
        "tags": [],
        "pullContextTime": "1746919044049",
        "createTime": "1746919044049",
        "updateTime": "1747063156466",
        "outputContextCreateTime": "1747063156466",
        "outputContextHash": 561910268,
        "nodeHeight": 540,
        "nodeWidth": 800,
        "positionX": 3371.2682926829266,
        "positionY": 250
      },
      "id": "table-dag-node-1746919044049-6",
      "type": "table",
      "state": "COMPLETE",
      "nlInput": "",
      "nlInputHistory": [],
      "modelResponse": "",
      "children": [],
      "groupId": "",
      "collapsedSubgraphId": "",
      "isMultiturnNodeType": false,
      "additional_properties": {
        "reference": {
          "projectId": "looker-studio-pro-452620",
          "datasetId": "repo_tables",
          "tableId": "basis"
        },
        "title": "basis",
        "isCollapsed": false,
        "preCollapsedNodeHeight": 0,
        "preCollapsedNodeWidth": 0
      }
    },
    {
      "cell_type": "aidi-dag-node",
      "metadata": {
        "name": "",
        "tags": [],
        "pullContextTime": "1746919134664",
        "createTime": "1746919076515",
        "generateTime": "1746919143164",
        "startRunTime": "1746919134664",
        "endRunTime": "1746919136650",
        "updateTime": "1747063156204",
        "outputContextCreateTime": "1746919136650",
        "outputContextHash": 237999982,
        "nodeHeight": 720,
        "nodeWidth": 800,
        "positionX": 2160.2682926829266,
        "positionY": 3230.121951219512
      },
      "id": "bq-code-editor-dag-node-1746919076515-8",
      "type": "bq-code-editor",
      "state": "DRAFT",
      "nlInput": "union to all columns in repo_tables.basis. merge common columns",
      "nlInputHistory": [
        "union to all columns in repo_tables.basis. merge common columns"
      ],
      "modelResponse": "SELECT\n  package_roadblock\nFROM\n  `SQL`;",
      "children": [],
      "groupId": "",
      "collapsedSubgraphId": "",
      "isMultiturnNodeType": true,
      "additional_properties": {
        "content": "# prompt: union to all columns in repo_tables.basis. merge common columns\n\nSELECT\n  package_roadblock\nFROM\n  `SQL`;",
        "citationIndexes": [],
        "generateOnInit": false,
        "focusOnInit": false,
        "title": "SQL 1",
        "collapsedSql": false,
        "isCollapsed": false,
        "preCollapsedNodeHeight": 0,
        "preCollapsedNodeWidth": 0,
        "context": {
          "tableContext": {
            "tableReferences": [
              {
                "projectId": "looker-studio-pro-452620",
                "datasetId": "_bd9df8445e419809648f541b13160572fb3564f1",
                "tableId": "anon995e8b4efb1a8dc68e227e65a390dd5ec3912406669b5819a61aaa0987049ba7",
                "projectIdAlternative": [],
                "datasetIdAlternative": [],
                "tableIdAlternative": []
              }
            ]
          }
        },
        "focusNlInputOnInit": true,
        "hasStartedMultiturnSession": true,
        "resultsView": {
          "jobReference": {
            "projectId": "looker-studio-pro-452620",
            "jobId": "bquxjob_46912837_196bc7e97c5",
            "location": "US"
          },
          "destinationTable": {
            "projectId": "looker-studio-pro-452620",
            "datasetId": "_bd9df8445e419809648f541b13160572fb3564f1",
            "tableId": "anon2318d11f7f9516399ccd6557821ad06ec5c609ce00a554b611f99f6dffa5120c",
            "projectIdAlternative": [],
            "datasetIdAlternative": [],
            "tableIdAlternative": []
          }
        },
        "generationUuids": {
          "sqlGenUuid": "dataport-gen-session-909DCFC7-0728-416A-96D4-C0D74DC86D35"
        }
      }
    }
  ],
  "groups": []
}