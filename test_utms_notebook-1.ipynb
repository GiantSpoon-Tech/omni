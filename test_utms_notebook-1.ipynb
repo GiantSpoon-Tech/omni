{
 "cells": [
  {
   "cell_type": "markdown",
   "id": "93a365f4",
   "metadata": {},
   "source": [
    "# pivot_utms"
   ]
  },
  {
   "cell_type": "code",
   "execution_count": 2,
   "id": "c7e449e5",
   "metadata": {
    "vscode": {
     "languageId": "r"
    }
   },
   "outputs": [
    {
     "name": "stderr",
     "output_type": "stream",
     "text": [
      "\n",
      "Attaching package: 'dplyr'\n",
      "\n",
      "\n",
      "The following objects are masked from 'package:stats':\n",
      "\n",
      "    filter, lag\n",
      "\n",
      "\n",
      "The following objects are masked from 'package:base':\n",
      "\n",
      "    intersect, setdiff, setequal, union\n",
      "\n",
      "\n",
      "Warning message:\n",
      "\"package 'janitor' was built under R version 4.3.3\"\n",
      "\n",
      "Attaching package: 'janitor'\n",
      "\n",
      "\n",
      "The following objects are masked from 'package:stats':\n",
      "\n",
      "    chisq.test, fisher.test\n",
      "\n",
      "\n"
     ]
    }
   ],
   "source": [
    "library(readxl)\n",
    "library(dplyr)\n",
    "library(tidyr)\n",
    "library(janitor)   \n",
    "library(stringr)\n",
    "\n",
    "df <- read_excel(\n",
    "  '/Users/eugenetsenter/Downloads/MASSMUTUAL003CP_Q1_Trafficking Sheet_DSP_CTV, OLV, & Audio ONLY_3.17.25 (2).xlsx',\n",
    "  sheet = \"Q1 Tsheet\",\n",
    "  skip = 6,\n",
    ") %>% \n",
    "  clean_names()                          # camelCase → snake_case\n",
    "\n",
    "\n",
    "\n",
    "# Make all creative columns follow creative_<number>_<attribute>\n",
    "names_test <- str_remove(str_replace(str_replace(names(df),\"creative_\",\"\"),\"number_\",\"\"),\"\\\\d*\") \n",
    "names_prefix <- paste0(\"creative_\",str_extract(names(df),\"-?\\\\d*\\\\.?\\\\d+\"),\"__\", names_test)\n",
    "names(df) <- names_prefix\n",
    "\n",
    "\n",
    "names(df) <- names(df) |>\n",
    "  # Remove trailing numbers from names: creative_1__name_1 → creative_1__name\n",
    "  str_replace(\"(_name|_url|_asset_link|_edo_tag|_disqo_tag|_video_amp_tag|_3p_or_1p_tag)_\\\\d+$\", \"\\\\1\") |>\n",
    "  # Remove all sequences of 2 or more underscores: creative_1__name → creative_1_name\n",
    "  str_replace_all(\"_+\", \"_\") |>\n",
    "  # Fix creative_3__url_3_number → creative_3_url\n",
    "  str_replace(\"_url_3_number\", \"_url\")\n",
    "\n",
    "\n",
    "# 2️⃣  Identify all creative columns ---------------------------------------\n",
    "cre_cols <- grep(\"(name|url|asset_link|edo_tag|disqo_tag|video_amp_tag|3p_or_1p_tag)\",\n",
    "                 names(df), value = TRUE)\n",
    "\n",
    "library(tidyr)\n",
    "creative_long <- df %>%\n",
    "  pivot_longer(\n",
    "    cols = matches(\"^creative_\\\\d+_\"),\n",
    "    names_to = c(\"creative_num\", \".value\"),\n",
    "    names_pattern = \"^creative_(\\\\d+)_(.*)$\",\n",
    "    values_drop_na = TRUE\n",
    "  ) %>%\n",
    "  mutate(creative_num = as.integer(creative_num))\n",
    "# \n"
   ]
  },
  {
   "cell_type": "markdown",
   "id": "d9125673",
   "metadata": {},
   "source": [
    "# write to table"
   ]
  },
  {
   "cell_type": "code",
   "execution_count": 5,
   "id": "73f024c0",
   "metadata": {
    "vscode": {
     "languageId": "r"
    }
   },
   "outputs": [],
   "source": [
    "# write to table\n",
    "library(DBI)\n",
    "library(bigrquery)\n",
    "\n",
    "con <- dbConnect(\n",
    "    bigrquery::bigquery(),\n",
    "    project = \"looker-studio-pro-452620\",\n",
    "    dataset = \"20250327_data_model\",\n",
    "    billing = \"looker-studio-pro-452620\"\n",
    ")\n",
    "\n",
    "dbWriteTable(\n",
    "    con,\n",
    "    name = \"basis_utms_pivoted\",\n",
    "    value = df,\n",
    "    overwrite = TRUE\n",
    ")"
   ]
  },
  {
   "cell_type": "code",
   "execution_count": 7,
   "id": "0695f963",
   "metadata": {
    "vscode": {
     "languageId": "r"
    }
   },
   "outputs": [
    {
     "name": "stdout",
     "output_type": "stream",
     "text": [
      "\u001b[90m# A tibble: 6 x 103\u001b[39m\n",
      "  creative_NA_property creative_NA_line_item              creative_NA_tag_plac~1\n",
      "  \u001b[3m\u001b[90m<chr>\u001b[39m\u001b[23m                \u001b[3m\u001b[90m<chr>\u001b[39m\u001b[23m                              \u001b[3m\u001b[90m<chr>\u001b[39m\u001b[23m                 \n",
      "\u001b[90m1\u001b[39m Basis DSP            \u001b[31mNA\u001b[39m                                 \u001b[31mNA\u001b[39m                    \n",
      "\u001b[90m2\u001b[39m Basis  DSP           MASSMUTUAL003CP_757075_Q1_Mid Fun~ MASSMUTUAL003CP_31271~\n",
      "\u001b[90m3\u001b[39m Basis  DSP           MASSMUTUAL003CP_757075_Q1_Mid Fun~ MASSMUTUAL003CP_31271~\n",
      "\u001b[90m4\u001b[39m Basis  DSP           MASSMUTUAL003CP_757075_Q1_Mid Fun~ MASSMUTUAL003CP_31271~\n",
      "\u001b[90m5\u001b[39m Basis  DSP           MASSMUTUAL003CP_757075_Q1_Mid Fun~ MASSMUTUAL003CP_31271~\n",
      "\u001b[90m6\u001b[39m Basis  DSP           MASSMUTUAL003CP_757075_Q1_Mid Fun~ MASSMUTUAL003CP_31271~\n",
      "\u001b[90m# i abbreviated name: 1: creative_NA_tag_placement\u001b[39m\n",
      "\u001b[90m# i 100 more variables: creative_NA_formats <chr>, creative_NA_size <chr>,\u001b[39m\n",
      "\u001b[90m#   creative_NA_start_date <dttm>, creative_NA_end_date <dttm>,\u001b[39m\n",
      "\u001b[90m#   creative_1_name <chr>, creative_1_url <chr>, creative_1_rotation_1 <dbl>,\u001b[39m\n",
      "\u001b[90m#   creative_1_asset_link <chr>, creative_1_edo_tag <chr>,\u001b[39m\n",
      "\u001b[90m#   creative_1_disqo_tag <chr>, creative_1_video_amp_tag <chr>,\u001b[39m\n",
      "\u001b[90m#   creative_1_3p_or_1p_tag <chr>, creative_2_name <chr>, ...\u001b[39m\n"
     ]
    }
   ],
   "source": [
    "head(df) %>% print(n = 20)"
   ]
  },
  {
   "cell_type": "code",
   "execution_count": null,
   "id": "b1d5fda4",
   "metadata": {
    "vscode": {
     "languageId": "r"
    }
   },
   "outputs": [],
   "source": []
  }
 ],
 "metadata": {
  "kernelspec": {
   "display_name": "R",
   "language": "R",
   "name": "ir"
  },
  "language_info": {
   "codemirror_mode": "r",
   "file_extension": ".r",
   "mimetype": "text/x-r-source",
   "name": "R",
   "pygments_lexer": "r",
   "version": "4.3.1"
  }
 },
 "nbformat": 4,
 "nbformat_minor": 5
}
